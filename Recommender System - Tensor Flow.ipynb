{
 "cells": [
  {
   "cell_type": "markdown",
   "metadata": {},
   "source": [
    "# Recommender System - Tensor Flow"
   ]
  },
  {
   "cell_type": "markdown",
   "metadata": {},
   "source": [
    "## 1. Prerequisites"
   ]
  },
  {
   "cell_type": "code",
   "execution_count": 25,
   "metadata": {},
   "outputs": [
    {
     "name": "stdout",
     "output_type": "stream",
     "text": [
      "The autoreload extension is already loaded. To reload it, use:\n",
      "  %reload_ext autoreload\n"
     ]
    }
   ],
   "source": [
    "import numpy as np\n",
    "import pandas as pd\n",
    "import matplotlib.pyplot as plt\n",
    "import os\n",
    "import warnings\n",
    "\n",
    "\n",
    "warnings.filterwarnings('ignore')\n",
    "%matplotlib inline\n",
    "\n",
    "from sklearn.model_selection import train_test_split\n",
    "\n",
    "import tensorflow as tf\n",
    "import scipy\n",
    "import scipy.io\n",
    "import scipy.sparse as sp\n",
    "\n",
    "from keras.layers import Input, Embedding, Flatten, Dot, Dense\n",
    "from keras.models import Model\n",
    "\n",
    "%load_ext autoreload\n",
    "%autoreload 2"
   ]
  },
  {
   "cell_type": "code",
   "execution_count": 26,
   "metadata": {},
   "outputs": [],
   "source": [
    "from helpers import*\n",
    "from preprocessing import*"
   ]
  },
  {
   "cell_type": "code",
   "execution_count": 27,
   "metadata": {},
   "outputs": [
    {
     "name": "stdout",
     "output_type": "stream",
     "text": [
      "number of items: 10000, number of users: 1000\n"
     ]
    }
   ],
   "source": [
    "DATA_TRAIN_PATH=\"data/data_train.csv\"\n",
    "ratings=load_data(DATA_TRAIN_PATH)"
   ]
  },
  {
   "cell_type": "code",
   "execution_count": 29,
   "metadata": {},
   "outputs": [
    {
     "name": "stdout",
     "output_type": "stream",
     "text": [
      "number of items: 10000, number of users: 1000\n"
     ]
    }
   ],
   "source": [
    "DATA_TEST_PATH = \"data/sampleSubmission.csv\"\n",
    "sample = load_data(DATA_TEST_PATH)"
   ]
  },
  {
   "cell_type": "code",
   "execution_count": 30,
   "metadata": {},
   "outputs": [],
   "source": [
    "data, n_users, n_movies = convert(ratings)\n",
    "\n",
    "train, test = train_test_split(data, test_size=0.1, random_state=42)"
   ]
  },
  {
   "cell_type": "markdown",
   "metadata": {},
   "source": [
    "## 2. Creating a dot product model"
   ]
  },
  {
   "cell_type": "code",
   "execution_count": 31,
   "metadata": {},
   "outputs": [],
   "source": [
    "movie_input = Input(shape=[1], name=\"Movies-Input\")\n",
    "movie_embedding = Embedding(n_movies+1, 5, name=\"Movies-Embedding\")(movie_input)\n",
    "movie_vec = Flatten(name=\"Flatten-Movies\")(movie_embedding)\n",
    "\n",
    "user_input = Input(shape=[1], name=\"User-Input\")\n",
    "user_embedding = Embedding(n_users+1, 5, name=\"User-Embedding\")(user_input)\n",
    "user_vec = Flatten(name=\"Flatten-Users\")(user_embedding)\n",
    "\n",
    "prod = Dot(name=\"Dot-Product\", axes=1)([movie_vec, user_vec])\n",
    "model1 = Model([user_input, movie_input], prod)\n",
    "model1.compile('adam', 'mean_squared_error')"
   ]
  },
  {
   "cell_type": "code",
   "execution_count": null,
   "metadata": {},
   "outputs": [
    {
     "name": "stdout",
     "output_type": "stream",
     "text": [
      "Epoch 1/20\n",
      "1059256/1059256 [==============================] - 48s 46us/step - loss: 1.0484\n",
      "Epoch 2/20\n",
      "1059256/1059256 [==============================] - 48s 45us/step - loss: 1.0435\n",
      "Epoch 3/20\n",
      "1059256/1059256 [==============================] - 49s 46us/step - loss: 1.0385\n",
      "Epoch 4/20\n",
      "1059256/1059256 [==============================] - 47s 44us/step - loss: 1.0308\n",
      "Epoch 5/20\n",
      "1059256/1059256 [==============================] - 51s 48us/step - loss: 1.0206\n",
      "Epoch 6/20\n",
      "1059256/1059256 [==============================] - 51s 48us/step - loss: 1.0086\n",
      "Epoch 7/20\n",
      "1059256/1059256 [==============================] - 49s 47us/step - loss: 0.9966\n",
      "Epoch 8/20\n",
      "1059256/1059256 [==============================] - 49s 46us/step - loss: 0.9850\n",
      "Epoch 9/20\n",
      "1059256/1059256 [==============================] - 50s 47us/step - loss: 0.9753\n",
      "Epoch 10/20\n",
      "1059256/1059256 [==============================] - 51s 48us/step - loss: 0.9677\n",
      "Epoch 11/20\n",
      "1059256/1059256 [==============================] - 51s 48us/step - loss: 0.9615\n",
      "Epoch 12/20\n",
      "1059256/1059256 [==============================] - 49s 46us/step - loss: 0.9573\n",
      "Epoch 13/20\n",
      " 380512/1059256 [=========>....................] - ETA: 42s - loss: 0.9449"
     ]
    }
   ],
   "source": [
    "from keras.models import load_model\n",
    "\n",
    "if os.path.exists('regression_model.h5'):\n",
    "    model1 = load_model('regression_model.h5')\n",
    "else:\n",
    "    history = model1.fit([train.user_id, train.movie_id], train.rating, epochs=20, verbose=1)\n",
    "    model1.save('regression_model.h5')\n",
    "    plt.plot(history.history['loss'])\n",
    "    plt.xlabel(\"Epochs\")\n",
    "    plt.ylabel(\"Training Error\")"
   ]
  },
  {
   "cell_type": "code",
   "execution_count": 24,
   "metadata": {},
   "outputs": [
    {
     "name": "stdout",
     "output_type": "stream",
     "text": [
      "117696/117696 [==============================] - 2s 13us/step\n"
     ]
    },
    {
     "data": {
      "text/plain": [
       "1.0578510254102922"
      ]
     },
     "execution_count": 24,
     "metadata": {},
     "output_type": "execute_result"
    }
   ],
   "source": [
    "model1.evaluate([test.user_id, test.movie_id], test.rating)"
   ]
  },
  {
   "cell_type": "code",
   "execution_count": 23,
   "metadata": {},
   "outputs": [],
   "source": [
    "predictions = model1.predict([test.user_id, test.movie_id])"
   ]
  }
 ],
 "metadata": {
  "kernelspec": {
   "display_name": "Python 3",
   "language": "python",
   "name": "python3"
  },
  "language_info": {
   "codemirror_mode": {
    "name": "ipython",
    "version": 3
   },
   "file_extension": ".py",
   "mimetype": "text/x-python",
   "name": "python",
   "nbconvert_exporter": "python",
   "pygments_lexer": "ipython3",
   "version": "3.7.3"
  }
 },
 "nbformat": 4,
 "nbformat_minor": 2
}
