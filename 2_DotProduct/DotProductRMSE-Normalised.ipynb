{
 "cells": [
  {
   "cell_type": "code",
   "execution_count": 1,
   "metadata": {},
   "outputs": [
    {
     "name": "stderr",
     "output_type": "stream",
     "text": [
      "Using TensorFlow backend.\n"
     ]
    }
   ],
   "source": [
    "import numpy as np\n",
    "import pandas as pd\n",
    "import matplotlib.pyplot as plt\n",
    "import os\n",
    "import warnings\n",
    "\n",
    "from keras.layers import Input, Embedding, Flatten, Dot, Dense, Concatenate\n",
    "from keras.models import Model, Sequential, load_model\n",
    "\n",
    "from keras.wrappers.scikit_learn import KerasClassifier\n",
    "from keras.utils import np_utils\n",
    "from sklearn.model_selection import cross_val_score\n",
    "from sklearn.model_selection import KFold\n",
    "from sklearn.preprocessing import LabelEncoder\n",
    "from sklearn.pipeline import Pipeline\n",
    "from keras_radam import RAdam\n",
    "\n",
    "warnings.filterwarnings('ignore')\n",
    "%matplotlib inline\n",
    "\n",
    "%load_ext autoreload\n",
    "%autoreload 2"
   ]
  },
  {
   "cell_type": "markdown",
   "metadata": {},
   "source": [
    "# Dot Product with RMSE loss function"
   ]
  },
  {
   "cell_type": "code",
   "execution_count": 2,
   "metadata": {},
   "outputs": [],
   "source": [
    "from helpers import load_data\n",
    "\n",
    "DATA_TRAIN_PATH = \"data/data_train.csv\"\n",
    "ratings = load_data(DATA_TRAIN_PATH)\n",
    "\n",
    "DATA_TEST_PATH = \"data/sampleSubmission.csv\"\n",
    "samples = load_data(DATA_TEST_PATH)"
   ]
  },
  {
   "cell_type": "code",
   "execution_count": 3,
   "metadata": {},
   "outputs": [
    {
     "data": {
      "text/html": [
       "<div>\n",
       "<style scoped>\n",
       "    .dataframe tbody tr th:only-of-type {\n",
       "        vertical-align: middle;\n",
       "    }\n",
       "\n",
       "    .dataframe tbody tr th {\n",
       "        vertical-align: top;\n",
       "    }\n",
       "\n",
       "    .dataframe thead th {\n",
       "        text-align: right;\n",
       "    }\n",
       "</style>\n",
       "<table border=\"1\" class=\"dataframe\">\n",
       "  <thead>\n",
       "    <tr style=\"text-align: right;\">\n",
       "      <th></th>\n",
       "      <th>user_id</th>\n",
       "      <th>movie_id</th>\n",
       "      <th>rating</th>\n",
       "    </tr>\n",
       "  </thead>\n",
       "  <tbody>\n",
       "    <tr>\n",
       "      <th>0</th>\n",
       "      <td>37</td>\n",
       "      <td>1</td>\n",
       "      <td>3</td>\n",
       "    </tr>\n",
       "    <tr>\n",
       "      <th>1</th>\n",
       "      <td>73</td>\n",
       "      <td>1</td>\n",
       "      <td>3</td>\n",
       "    </tr>\n",
       "    <tr>\n",
       "      <th>2</th>\n",
       "      <td>156</td>\n",
       "      <td>1</td>\n",
       "      <td>3</td>\n",
       "    </tr>\n",
       "    <tr>\n",
       "      <th>3</th>\n",
       "      <td>160</td>\n",
       "      <td>1</td>\n",
       "      <td>3</td>\n",
       "    </tr>\n",
       "    <tr>\n",
       "      <th>4</th>\n",
       "      <td>248</td>\n",
       "      <td>1</td>\n",
       "      <td>3</td>\n",
       "    </tr>\n",
       "  </tbody>\n",
       "</table>\n",
       "</div>"
      ],
      "text/plain": [
       "  user_id movie_id  rating\n",
       "0      37        1       3\n",
       "1      73        1       3\n",
       "2     156        1       3\n",
       "3     160        1       3\n",
       "4     248        1       3"
      ]
     },
     "execution_count": 3,
     "metadata": {},
     "output_type": "execute_result"
    }
   ],
   "source": [
    "samples.head()"
   ]
  },
  {
   "cell_type": "code",
   "execution_count": 4,
   "metadata": {},
   "outputs": [],
   "source": [
    "n_users = len(ratings.user_id.unique())\n",
    "n_movies = len(ratings.movie_id.unique())"
   ]
  },
  {
   "cell_type": "code",
   "execution_count": 5,
   "metadata": {},
   "outputs": [],
   "source": [
    "# normalization\n",
    "\n",
    "# pop_ratings = ratinprefs = pop_ratings['rating']gs[ratings['movie_id'].isin((rating_counts).index[0:500])]\n",
    "pop_ratings = ratings.set_index(['movie_id', 'user_id'])\n",
    "\n",
    "prefs = pop_ratings['rating']\n",
    "\n",
    "mean_0 = prefs.mean() # global mean\n",
    "prefs = prefs - mean_0\n",
    "\n",
    "mean_i = prefs.groupby(\"movie_id\").mean() # item mean\n",
    "prefs = prefs - mean_i\n",
    "\n",
    "mean_u = prefs.groupby(['user_id']).mean() # user mean\n",
    "prefs = prefs - mean_u\n",
    "\n",
    "prefs = prefs.reset_index()"
   ]
  },
  {
   "cell_type": "code",
   "execution_count": 6,
   "metadata": {},
   "outputs": [
    {
     "data": {
      "text/html": [
       "<div>\n",
       "<style scoped>\n",
       "    .dataframe tbody tr th:only-of-type {\n",
       "        vertical-align: middle;\n",
       "    }\n",
       "\n",
       "    .dataframe tbody tr th {\n",
       "        vertical-align: top;\n",
       "    }\n",
       "\n",
       "    .dataframe thead th {\n",
       "        text-align: right;\n",
       "    }\n",
       "</style>\n",
       "<table border=\"1\" class=\"dataframe\">\n",
       "  <thead>\n",
       "    <tr style=\"text-align: right;\">\n",
       "      <th></th>\n",
       "      <th>movie_id</th>\n",
       "      <th>user_id</th>\n",
       "      <th>rating</th>\n",
       "    </tr>\n",
       "  </thead>\n",
       "  <tbody>\n",
       "    <tr>\n",
       "      <th>0</th>\n",
       "      <td>1</td>\n",
       "      <td>44</td>\n",
       "      <td>0.441303</td>\n",
       "    </tr>\n",
       "    <tr>\n",
       "      <th>1</th>\n",
       "      <td>1</td>\n",
       "      <td>61</td>\n",
       "      <td>-0.828520</td>\n",
       "    </tr>\n",
       "    <tr>\n",
       "      <th>2</th>\n",
       "      <td>1</td>\n",
       "      <td>67</td>\n",
       "      <td>1.005327</td>\n",
       "    </tr>\n",
       "    <tr>\n",
       "      <th>3</th>\n",
       "      <td>1</td>\n",
       "      <td>72</td>\n",
       "      <td>-0.446089</td>\n",
       "    </tr>\n",
       "    <tr>\n",
       "      <th>4</th>\n",
       "      <td>1</td>\n",
       "      <td>86</td>\n",
       "      <td>1.303265</td>\n",
       "    </tr>\n",
       "    <tr>\n",
       "      <th>...</th>\n",
       "      <td>...</td>\n",
       "      <td>...</td>\n",
       "      <td>...</td>\n",
       "    </tr>\n",
       "    <tr>\n",
       "      <th>1176947</th>\n",
       "      <td>1000</td>\n",
       "      <td>9990</td>\n",
       "      <td>0.292686</td>\n",
       "    </tr>\n",
       "    <tr>\n",
       "      <th>1176948</th>\n",
       "      <td>1000</td>\n",
       "      <td>9992</td>\n",
       "      <td>1.274889</td>\n",
       "    </tr>\n",
       "    <tr>\n",
       "      <th>1176949</th>\n",
       "      <td>1000</td>\n",
       "      <td>9994</td>\n",
       "      <td>-0.741606</td>\n",
       "    </tr>\n",
       "    <tr>\n",
       "      <th>1176950</th>\n",
       "      <td>1000</td>\n",
       "      <td>9997</td>\n",
       "      <td>0.664086</td>\n",
       "    </tr>\n",
       "    <tr>\n",
       "      <th>1176951</th>\n",
       "      <td>1000</td>\n",
       "      <td>10000</td>\n",
       "      <td>-0.760040</td>\n",
       "    </tr>\n",
       "  </tbody>\n",
       "</table>\n",
       "<p>1176952 rows × 3 columns</p>\n",
       "</div>"
      ],
      "text/plain": [
       "        movie_id user_id    rating\n",
       "0              1      44  0.441303\n",
       "1              1      61 -0.828520\n",
       "2              1      67  1.005327\n",
       "3              1      72 -0.446089\n",
       "4              1      86  1.303265\n",
       "...          ...     ...       ...\n",
       "1176947     1000    9990  0.292686\n",
       "1176948     1000    9992  1.274889\n",
       "1176949     1000    9994 -0.741606\n",
       "1176950     1000    9997  0.664086\n",
       "1176951     1000   10000 -0.760040\n",
       "\n",
       "[1176952 rows x 3 columns]"
      ]
     },
     "execution_count": 6,
     "metadata": {},
     "output_type": "execute_result"
    }
   ],
   "source": [
    "prefs"
   ]
  },
  {
   "cell_type": "code",
   "execution_count": 7,
   "metadata": {},
   "outputs": [],
   "source": [
    "from sklearn.model_selection import train_test_split\n",
    "train, test = train_test_split(ratings, test_size=0.1, random_state=42)"
   ]
  },
  {
   "cell_type": "code",
   "execution_count": 8,
   "metadata": {},
   "outputs": [
    {
     "data": {
      "text/html": [
       "<div>\n",
       "<style scoped>\n",
       "    .dataframe tbody tr th:only-of-type {\n",
       "        vertical-align: middle;\n",
       "    }\n",
       "\n",
       "    .dataframe tbody tr th {\n",
       "        vertical-align: top;\n",
       "    }\n",
       "\n",
       "    .dataframe thead th {\n",
       "        text-align: right;\n",
       "    }\n",
       "</style>\n",
       "<table border=\"1\" class=\"dataframe\">\n",
       "  <thead>\n",
       "    <tr style=\"text-align: right;\">\n",
       "      <th></th>\n",
       "      <th>user_id</th>\n",
       "      <th>movie_id</th>\n",
       "      <th>rating</th>\n",
       "    </tr>\n",
       "  </thead>\n",
       "  <tbody>\n",
       "    <tr>\n",
       "      <th>904556</th>\n",
       "      <td>5062</td>\n",
       "      <td>706</td>\n",
       "      <td>2</td>\n",
       "    </tr>\n",
       "    <tr>\n",
       "      <th>171326</th>\n",
       "      <td>9044</td>\n",
       "      <td>148</td>\n",
       "      <td>4</td>\n",
       "    </tr>\n",
       "    <tr>\n",
       "      <th>190893</th>\n",
       "      <td>1736</td>\n",
       "      <td>169</td>\n",
       "      <td>4</td>\n",
       "    </tr>\n",
       "    <tr>\n",
       "      <th>1082109</th>\n",
       "      <td>5270</td>\n",
       "      <td>877</td>\n",
       "      <td>1</td>\n",
       "    </tr>\n",
       "    <tr>\n",
       "      <th>881877</th>\n",
       "      <td>6100</td>\n",
       "      <td>691</td>\n",
       "      <td>4</td>\n",
       "    </tr>\n",
       "  </tbody>\n",
       "</table>\n",
       "</div>"
      ],
      "text/plain": [
       "        user_id movie_id  rating\n",
       "904556     5062      706       2\n",
       "171326     9044      148       4\n",
       "190893     1736      169       4\n",
       "1082109    5270      877       1\n",
       "881877     6100      691       4"
      ]
     },
     "execution_count": 8,
     "metadata": {},
     "output_type": "execute_result"
    }
   ],
   "source": [
    "test.head()"
   ]
  },
  {
   "cell_type": "code",
   "execution_count": 9,
   "metadata": {},
   "outputs": [],
   "source": [
    "# https://www.kdnuggets.com/2019/07/building-recommender-system-part-2.html"
   ]
  },
  {
   "cell_type": "code",
   "execution_count": 10,
   "metadata": {},
   "outputs": [],
   "source": [
    "from keras import losses\n",
    "from keras.utils import to_categorical\n",
    "from keras import backend\n",
    "from keras.regularizers import l2\n",
    "\n",
    "K = 25; \n",
    "\n",
    "#creating movie embedding path\n",
    "movie_input = Input(shape=[1], name=\"Movie-Input\")\n",
    "movie_embedding = Embedding(n_movies+1, K, name=\"Movie-Embedding\", embeddings_regularizer=l2(1e-6))(movie_input)\n",
    "movie_vec = Flatten(name=\"Flatten-Movies\")(movie_embedding)\n",
    "\n",
    "# creating user embedding path\n",
    "user_input = Input(shape=[1], name=\"User-Input\")\n",
    "user_embedding = Embedding(n_users+1, K, name=\"User-Embedding\", embeddings_regularizer=l2(1e-6))(user_input)\n",
    "user_vec = Flatten(name=\"Flatten-Users\")(user_embedding)\n",
    "\n",
    "# performing dot product and creating model\n",
    "prod = Dot(name=\"Dot-Product\", axes=1)([movie_vec, user_vec])\n",
    "model = Model([user_input, movie_input], prod)\n",
    "model.compile(loss='mean_squared_error', optimizer=RAdam(), metrics=['accuracy'])\n",
    "\n",
    "# Optimizer : 'adam', RAdam(), 'sgd'\n",
    "# Loss = 'categorical_crossentropy', 'mean_squared_error'"
   ]
  },
  {
   "cell_type": "code",
   "execution_count": 17,
   "metadata": {},
   "outputs": [
    {
     "name": "stdout",
     "output_type": "stream",
     "text": [
      "Epoch 1/20\n",
      "1059256/1059256 [==============================] - 10s 9us/step - loss: 0.8819 - accuracy: 0.4088\n",
      "Epoch 2/20\n",
      "1059256/1059256 [==============================] - 10s 9us/step - loss: 0.8642 - accuracy: 0.4151\n",
      "Epoch 3/20\n",
      "1059256/1059256 [==============================] - 10s 10us/step - loss: 0.8476 - accuracy: 0.4209\n",
      "Epoch 4/20\n",
      "1059256/1059256 [==============================] - 7s 7us/step - loss: 0.8321 - accuracy: 0.4269\n",
      "Epoch 5/20\n",
      "1059256/1059256 [==============================] - 7s 7us/step - loss: 0.8185 - accuracy: 0.4320\n",
      "Epoch 6/20\n",
      "1059256/1059256 [==============================] - 9s 9us/step - loss: 0.8064 - accuracy: 0.4366\n",
      "Epoch 7/20\n",
      "1059256/1059256 [==============================] - 9s 8us/step - loss: 0.7959 - accuracy: 0.4410\n",
      "Epoch 8/20\n",
      "1059256/1059256 [==============================] - 9s 8us/step - loss: 0.7869 - accuracy: 0.4444\n",
      "Epoch 9/20\n",
      "1059256/1059256 [==============================] - 8s 8us/step - loss: 0.7791 - accuracy: 0.4481\n",
      "Epoch 10/20\n",
      "1059256/1059256 [==============================] - 8s 8us/step - loss: 0.7723 - accuracy: 0.4509\n",
      "Epoch 11/20\n",
      "1059256/1059256 [==============================] - 10s 9us/step - loss: 0.7667 - accuracy: 0.4533\n",
      "Epoch 12/20\n",
      "1059256/1059256 [==============================] - 8s 7us/step - loss: 0.7615 - accuracy: 0.4555\n",
      "Epoch 13/20\n",
      "1059256/1059256 [==============================] - 8s 7us/step - loss: 0.7570 - accuracy: 0.4569\n",
      "Epoch 14/20\n",
      "1059256/1059256 [==============================] - 9s 9us/step - loss: 0.7532 - accuracy: 0.4591\n",
      "Epoch 15/20\n",
      "1059256/1059256 [==============================] - 9s 8us/step - loss: 0.7495 - accuracy: 0.4602\n",
      "Epoch 16/20\n",
      "1059256/1059256 [==============================] - 10s 9us/step - loss: 0.7463 - accuracy: 0.4623\n",
      "Epoch 17/20\n",
      "1059256/1059256 [==============================] - 9s 9us/step - loss: 0.7434 - accuracy: 0.4632\n",
      "Epoch 18/20\n",
      "1059256/1059256 [==============================] - 8s 8us/step - loss: 0.7407 - accuracy: 0.4648\n",
      "Epoch 19/20\n",
      "1059256/1059256 [==============================] - 9s 8us/step - loss: 0.7383 - accuracy: 0.4656\n",
      "Epoch 20/20\n",
      "1059256/1059256 [==============================] - 9s 9us/step - loss: 0.7360 - accuracy: 0.4663\n"
     ]
    },
    {
     "data": {
      "image/png": "[encoded data removed]",
      "text/plain": [
       "<Figure size 432x288 with 1 Axes>"
      ]
     },
     "metadata": {
      "needs_background": "light"
     },
     "output_type": "display_data"
    }
   ],
   "source": [
    "if os.path.exists('regression_model.h5'):\n",
    "    model = load_model('regression_model.h5')\n",
    "else:\n",
    "    history = model.fit([train.user_id, train.movie_id], train.rating, batch_size=1000, epochs=20, verbose=1)\n",
    "    model.save('regression_model.h5')\n",
    "    plt.plot(history.history['loss'])\n",
    "    plt.xlabel(\"Epochs\")\n",
    "    plt.ylabel(\"Training Error\")"
   ]
  },
  {
   "cell_type": "code",
   "execution_count": 18,
   "metadata": {},
   "outputs": [
    {
     "name": "stdout",
     "output_type": "stream",
     "text": [
      "117696/117696 [==============================] - 3s 28us/step\n"
     ]
    },
    {
     "data": {
      "text/plain": [
       "[1.2104513522413776, 0.3689165413379669]"
      ]
     },
     "execution_count": 18,
     "metadata": {},
     "output_type": "execute_result"
    }
   ],
   "source": [
    "model.evaluate([test.user_id, test.movie_id], test.rating)"
   ]
  },
  {
   "cell_type": "code",
   "execution_count": 19,
   "metadata": {
    "scrolled": true
   },
   "outputs": [
    {
     "name": "stdout",
     "output_type": "stream",
     "text": [
      "[4.017096] 2\n",
      "[4.092745] 4\n",
      "[3.918302] 4\n",
      "[3.1383307] 1\n",
      "[4.3099527] 4\n",
      "[4.7526994] 4\n",
      "[3.5820968] 5\n",
      "[4.2566257] 4\n",
      "[4.4032836] 4\n",
      "[5.359527] 5\n"
     ]
    },
    {
     "data": {
      "text/plain": [
       "[None, None, None, None, None, None, None, None, None, None]"
      ]
     },
     "execution_count": 19,
     "metadata": {},
     "output_type": "execute_result"
    }
   ],
   "source": [
    "pred = model.predict([test.user_id.head(10), test.movie_id.head(10)])\n",
    "\n",
    "[print(pred[i], test.rating.iloc[i]) for i in range(0,10)]"
   ]
  },
  {
   "cell_type": "code",
   "execution_count": 20,
   "metadata": {},
   "outputs": [],
   "source": [
    "pred = model.predict([samples.user_id, samples.movie_id])"
   ]
  },
  {
   "cell_type": "code",
   "execution_count": 21,
   "metadata": {},
   "outputs": [],
   "source": [
    "pop_samples = samples.set_index(['movie_id', 'user_id'])\n",
    "\n",
    "pred = pop_samples['rating']\n",
    "\n",
    "pred = pred + mean_u\n",
    "pred = pred + mean_i\n",
    "pred = pred + mean_0\n",
    "\n",
    "prediction = pred.reset_index()\n",
    "\n",
    "pred = (prediction['rating']).to_numpy()"
   ]
  },
  {
   "cell_type": "code",
   "execution_count": 22,
   "metadata": {},
   "outputs": [
    {
     "data": {
      "text/plain": [
       "array([6.38990903, 6.08572517, 6.81388785, ..., 6.12030204, 6.19113942,\n",
       "       6.85188095])"
      ]
     },
     "execution_count": 22,
     "metadata": {},
     "output_type": "execute_result"
    }
   ],
   "source": [
    "np.asarray(pred)"
   ]
  },
  {
   "cell_type": "code",
   "execution_count": 37,
   "metadata": {},
   "outputs": [],
   "source": [
    "for i in range(pred.shape[0]):\n",
    "    pred[i] = np.round(pred[i])\n",
    "    if (pred[i] < 1):\n",
    "        pred[i] = 1\n",
    "    elif (pred[i] > 5):\n",
    "        pred[i] = 5"
   ]
  },
  {
   "cell_type": "code",
   "execution_count": 38,
   "metadata": {},
   "outputs": [
    {
     "data": {
      "text/plain": [
       "array([[3.],\n",
       "       [3.],\n",
       "       [3.],\n",
       "       ...,\n",
       "       [3.],\n",
       "       [3.],\n",
       "       [4.]], dtype=float32)"
      ]
     },
     "execution_count": 38,
     "metadata": {},
     "output_type": "execute_result"
    }
   ],
   "source": [
    "pred"
   ]
  },
  {
   "cell_type": "code",
   "execution_count": 39,
   "metadata": {
    "scrolled": true
   },
   "outputs": [
    {
     "data": {
      "text/html": [
       "<div>\n",
       "<style scoped>\n",
       "    .dataframe tbody tr th:only-of-type {\n",
       "        vertical-align: middle;\n",
       "    }\n",
       "\n",
       "    .dataframe tbody tr th {\n",
       "        vertical-align: top;\n",
       "    }\n",
       "\n",
       "    .dataframe thead th {\n",
       "        text-align: right;\n",
       "    }\n",
       "</style>\n",
       "<table border=\"1\" class=\"dataframe\">\n",
       "  <thead>\n",
       "    <tr style=\"text-align: right;\">\n",
       "      <th></th>\n",
       "      <th>user_id</th>\n",
       "      <th>movie_id</th>\n",
       "      <th>rating</th>\n",
       "    </tr>\n",
       "  </thead>\n",
       "  <tbody>\n",
       "    <tr>\n",
       "      <th>0</th>\n",
       "      <td>37</td>\n",
       "      <td>1</td>\n",
       "      <td>3.0</td>\n",
       "    </tr>\n",
       "    <tr>\n",
       "      <th>1</th>\n",
       "      <td>73</td>\n",
       "      <td>1</td>\n",
       "      <td>3.0</td>\n",
       "    </tr>\n",
       "    <tr>\n",
       "      <th>2</th>\n",
       "      <td>156</td>\n",
       "      <td>1</td>\n",
       "      <td>3.0</td>\n",
       "    </tr>\n",
       "    <tr>\n",
       "      <th>3</th>\n",
       "      <td>160</td>\n",
       "      <td>1</td>\n",
       "      <td>3.0</td>\n",
       "    </tr>\n",
       "    <tr>\n",
       "      <th>4</th>\n",
       "      <td>248</td>\n",
       "      <td>1</td>\n",
       "      <td>4.0</td>\n",
       "    </tr>\n",
       "    <tr>\n",
       "      <th>...</th>\n",
       "      <td>...</td>\n",
       "      <td>...</td>\n",
       "      <td>...</td>\n",
       "    </tr>\n",
       "    <tr>\n",
       "      <th>1176947</th>\n",
       "      <td>9974</td>\n",
       "      <td>1000</td>\n",
       "      <td>4.0</td>\n",
       "    </tr>\n",
       "    <tr>\n",
       "      <th>1176948</th>\n",
       "      <td>9977</td>\n",
       "      <td>1000</td>\n",
       "      <td>4.0</td>\n",
       "    </tr>\n",
       "    <tr>\n",
       "      <th>1176949</th>\n",
       "      <td>9978</td>\n",
       "      <td>1000</td>\n",
       "      <td>3.0</td>\n",
       "    </tr>\n",
       "    <tr>\n",
       "      <th>1176950</th>\n",
       "      <td>9982</td>\n",
       "      <td>1000</td>\n",
       "      <td>3.0</td>\n",
       "    </tr>\n",
       "    <tr>\n",
       "      <th>1176951</th>\n",
       "      <td>9996</td>\n",
       "      <td>1000</td>\n",
       "      <td>4.0</td>\n",
       "    </tr>\n",
       "  </tbody>\n",
       "</table>\n",
       "<p>1176952 rows × 3 columns</p>\n",
       "</div>"
      ],
      "text/plain": [
       "        user_id movie_id  rating\n",
       "0            37        1     3.0\n",
       "1            73        1     3.0\n",
       "2           156        1     3.0\n",
       "3           160        1     3.0\n",
       "4           248        1     4.0\n",
       "...         ...      ...     ...\n",
       "1176947    9974     1000     4.0\n",
       "1176948    9977     1000     4.0\n",
       "1176949    9978     1000     3.0\n",
       "1176950    9982     1000     3.0\n",
       "1176951    9996     1000     4.0\n",
       "\n",
       "[1176952 rows x 3 columns]"
      ]
     },
     "execution_count": 39,
     "metadata": {},
     "output_type": "execute_result"
    }
   ],
   "source": [
    "submission = load_data(DATA_TEST_PATH)\n",
    "submission['rating'] = pred\n",
    "submission"
   ]
  },
  {
   "cell_type": "code",
   "execution_count": 40,
   "metadata": {
    "scrolled": false
   },
   "outputs": [],
   "source": [
    "from helpers import create_csv\n",
    "\n",
    "DATA_SUBMISSION = \"data/submission_dotprodRMSEnorm.csv\"\n",
    "create_csv(DATA_SUBMISSION, submission)"
   ]
  },
  {
   "cell_type": "markdown",
   "metadata": {},
   "source": [
    "Dot Product with RMSE using librairies : pandas and keras - AICrowd : RMSE = .... ; Secondary = ...."
   ]
  },
  {
   "cell_type": "code",
   "execution_count": null,
   "metadata": {},
   "outputs": [],
   "source": [
    "## Problems : the prediction has 6. ... "
   ]
  }
 ],
 "metadata": {
  "kernelspec": {
   "display_name": "Python 3",
   "language": "python",
   "name": "python3"
  },
  "language_info": {
   "codemirror_mode": {
    "name": "ipython",
    "version": 3
   },
   "file_extension": ".py",
   "mimetype": "text/x-python",
   "name": "python",
   "nbconvert_exporter": "python",
   "pygments_lexer": "ipython3",
   "version": "3.7.3"
  }
 },
 "nbformat": 4,
 "nbformat_minor": 2
}
