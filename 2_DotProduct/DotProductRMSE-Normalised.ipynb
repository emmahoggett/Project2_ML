{
 "cells": [
  {
   "cell_type": "code",
   "execution_count": 1,
   "metadata": {},
   "outputs": [
    {
     "name": "stderr",
     "output_type": "stream",
     "text": [
      "Using TensorFlow backend.\n"
     ]
    }
   ],
   "source": [
    "import numpy as np\n",
    "import pandas as pd\n",
    "import matplotlib.pyplot as plt\n",
    "import os\n",
    "import warnings\n",
    "\n",
    "from keras.layers import Input, Embedding, Flatten, Dot, Dense, Concatenate\n",
    "from keras.models import Model, Sequential, load_model\n",
    "\n",
    "from keras.wrappers.scikit_learn import KerasClassifier\n",
    "from keras.utils import np_utils\n",
    "from sklearn.model_selection import cross_val_score\n",
    "from sklearn.model_selection import KFold\n",
    "from sklearn.preprocessing import LabelEncoder\n",
    "from sklearn.pipeline import Pipeline\n",
    "from keras_radam import RAdam\n",
    "\n",
    "warnings.filterwarnings('ignore')\n",
    "%matplotlib inline\n",
    "\n",
    "%load_ext autoreload\n",
    "%autoreload 2"
   ]
  },
  {
   "cell_type": "markdown",
   "metadata": {},
   "source": [
    "# Dot Product with RMSE loss function"
   ]
  },
  {
   "cell_type": "code",
   "execution_count": 2,
   "metadata": {},
   "outputs": [],
   "source": [
    "from helpers import load_data\n",
    "\n",
    "DATA_TRAIN_PATH = \"data/data_train.csv\"\n",
    "ratings = load_data(DATA_TRAIN_PATH)\n",
    "\n",
    "DATA_TEST_PATH = \"data/sampleSubmission.csv\"\n",
    "samples = load_data(DATA_TEST_PATH)"
   ]
  },
  {
   "cell_type": "code",
   "execution_count": 3,
   "metadata": {},
   "outputs": [
    {
     "data": {
      "text/html": [
       "<div>\n",
       "<style scoped>\n",
       "    .dataframe tbody tr th:only-of-type {\n",
       "        vertical-align: middle;\n",
       "    }\n",
       "\n",
       "    .dataframe tbody tr th {\n",
       "        vertical-align: top;\n",
       "    }\n",
       "\n",
       "    .dataframe thead th {\n",
       "        text-align: right;\n",
       "    }\n",
       "</style>\n",
       "<table border=\"1\" class=\"dataframe\">\n",
       "  <thead>\n",
       "    <tr style=\"text-align: right;\">\n",
       "      <th></th>\n",
       "      <th>user_id</th>\n",
       "      <th>movie_id</th>\n",
       "      <th>rating</th>\n",
       "    </tr>\n",
       "  </thead>\n",
       "  <tbody>\n",
       "    <tr>\n",
       "      <th>0</th>\n",
       "      <td>37</td>\n",
       "      <td>1</td>\n",
       "      <td>3</td>\n",
       "    </tr>\n",
       "    <tr>\n",
       "      <th>1</th>\n",
       "      <td>73</td>\n",
       "      <td>1</td>\n",
       "      <td>3</td>\n",
       "    </tr>\n",
       "    <tr>\n",
       "      <th>2</th>\n",
       "      <td>156</td>\n",
       "      <td>1</td>\n",
       "      <td>3</td>\n",
       "    </tr>\n",
       "    <tr>\n",
       "      <th>3</th>\n",
       "      <td>160</td>\n",
       "      <td>1</td>\n",
       "      <td>3</td>\n",
       "    </tr>\n",
       "    <tr>\n",
       "      <th>4</th>\n",
       "      <td>248</td>\n",
       "      <td>1</td>\n",
       "      <td>3</td>\n",
       "    </tr>\n",
       "  </tbody>\n",
       "</table>\n",
       "</div>"
      ],
      "text/plain": [
       "  user_id movie_id  rating\n",
       "0      37        1       3\n",
       "1      73        1       3\n",
       "2     156        1       3\n",
       "3     160        1       3\n",
       "4     248        1       3"
      ]
     },
     "execution_count": 3,
     "metadata": {},
     "output_type": "execute_result"
    }
   ],
   "source": [
    "samples.head()"
   ]
  },
  {
   "cell_type": "code",
   "execution_count": 4,
   "metadata": {},
   "outputs": [],
   "source": [
    "n_users = len(ratings.user_id.unique())\n",
    "n_movies = len(ratings.movie_id.unique())"
   ]
  },
  {
   "cell_type": "code",
   "execution_count": 5,
   "metadata": {},
   "outputs": [],
   "source": [
    "# normalization\n",
    "\n",
    "# pop_ratings = ratinprefs = pop_ratings['rating']gs[ratings['movie_id'].isin((rating_counts).index[0:500])]\n",
    "pop_ratings = ratings.set_index(['movie_id', 'user_id'])\n",
    "\n",
    "prefs = pop_ratings['rating']\n",
    "\n",
    "mean_0 = prefs.mean() # global mean\n",
    "prefs = prefs - mean_0\n",
    "\n",
    "mean_i = prefs.groupby(\"movie_id\").mean() # item mean\n",
    "prefs = prefs - mean_i\n",
    "\n",
    "mean_u = prefs.groupby(['user_id']).mean() # user mean\n",
    "prefs = prefs - mean_u\n",
    "\n",
    "prefs = prefs.reset_index()"
   ]
  },
  {
   "cell_type": "code",
   "execution_count": 6,
   "metadata": {},
   "outputs": [
    {
     "data": {
      "text/html": [
       "<div>\n",
       "<style scoped>\n",
       "    .dataframe tbody tr th:only-of-type {\n",
       "        vertical-align: middle;\n",
       "    }\n",
       "\n",
       "    .dataframe tbody tr th {\n",
       "        vertical-align: top;\n",
       "    }\n",
       "\n",
       "    .dataframe thead th {\n",
       "        text-align: right;\n",
       "    }\n",
       "</style>\n",
       "<table border=\"1\" class=\"dataframe\">\n",
       "  <thead>\n",
       "    <tr style=\"text-align: right;\">\n",
       "      <th></th>\n",
       "      <th>movie_id</th>\n",
       "      <th>user_id</th>\n",
       "      <th>rating</th>\n",
       "    </tr>\n",
       "  </thead>\n",
       "  <tbody>\n",
       "    <tr>\n",
       "      <th>0</th>\n",
       "      <td>1</td>\n",
       "      <td>44</td>\n",
       "      <td>0.441303</td>\n",
       "    </tr>\n",
       "    <tr>\n",
       "      <th>1</th>\n",
       "      <td>1</td>\n",
       "      <td>61</td>\n",
       "      <td>-0.828520</td>\n",
       "    </tr>\n",
       "    <tr>\n",
       "      <th>2</th>\n",
       "      <td>1</td>\n",
       "      <td>67</td>\n",
       "      <td>1.005327</td>\n",
       "    </tr>\n",
       "    <tr>\n",
       "      <th>3</th>\n",
       "      <td>1</td>\n",
       "      <td>72</td>\n",
       "      <td>-0.446089</td>\n",
       "    </tr>\n",
       "    <tr>\n",
       "      <th>4</th>\n",
       "      <td>1</td>\n",
       "      <td>86</td>\n",
       "      <td>1.303265</td>\n",
       "    </tr>\n",
       "    <tr>\n",
       "      <th>...</th>\n",
       "      <td>...</td>\n",
       "      <td>...</td>\n",
       "      <td>...</td>\n",
       "    </tr>\n",
       "    <tr>\n",
       "      <th>1176947</th>\n",
       "      <td>1000</td>\n",
       "      <td>9990</td>\n",
       "      <td>0.292686</td>\n",
       "    </tr>\n",
       "    <tr>\n",
       "      <th>1176948</th>\n",
       "      <td>1000</td>\n",
       "      <td>9992</td>\n",
       "      <td>1.274889</td>\n",
       "    </tr>\n",
       "    <tr>\n",
       "      <th>1176949</th>\n",
       "      <td>1000</td>\n",
       "      <td>9994</td>\n",
       "      <td>-0.741606</td>\n",
       "    </tr>\n",
       "    <tr>\n",
       "      <th>1176950</th>\n",
       "      <td>1000</td>\n",
       "      <td>9997</td>\n",
       "      <td>0.664086</td>\n",
       "    </tr>\n",
       "    <tr>\n",
       "      <th>1176951</th>\n",
       "      <td>1000</td>\n",
       "      <td>10000</td>\n",
       "      <td>-0.760040</td>\n",
       "    </tr>\n",
       "  </tbody>\n",
       "</table>\n",
       "<p>1176952 rows × 3 columns</p>\n",
       "</div>"
      ],
      "text/plain": [
       "        movie_id user_id    rating\n",
       "0              1      44  0.441303\n",
       "1              1      61 -0.828520\n",
       "2              1      67  1.005327\n",
       "3              1      72 -0.446089\n",
       "4              1      86  1.303265\n",
       "...          ...     ...       ...\n",
       "1176947     1000    9990  0.292686\n",
       "1176948     1000    9992  1.274889\n",
       "1176949     1000    9994 -0.741606\n",
       "1176950     1000    9997  0.664086\n",
       "1176951     1000   10000 -0.760040\n",
       "\n",
       "[1176952 rows x 3 columns]"
      ]
     },
     "execution_count": 6,
     "metadata": {},
     "output_type": "execute_result"
    }
   ],
   "source": [
    "prefs"
   ]
  },
  {
   "cell_type": "code",
   "execution_count": 16,
   "metadata": {},
   "outputs": [],
   "source": [
    "from sklearn.model_selection import train_test_split\n",
    "train, test = train_test_split(ratings, test_size=0.2, random_state=1)"
   ]
  },
  {
   "cell_type": "code",
   "execution_count": 6,
   "metadata": {},
   "outputs": [
    {
     "data": {
      "text/html": [
       "<div>\n",
       "<style scoped>\n",
       "    .dataframe tbody tr th:only-of-type {\n",
       "        vertical-align: middle;\n",
       "    }\n",
       "\n",
       "    .dataframe tbody tr th {\n",
       "        vertical-align: top;\n",
       "    }\n",
       "\n",
       "    .dataframe thead th {\n",
       "        text-align: right;\n",
       "    }\n",
       "</style>\n",
       "<table border=\"1\" class=\"dataframe\">\n",
       "  <thead>\n",
       "    <tr style=\"text-align: right;\">\n",
       "      <th></th>\n",
       "      <th>user_id</th>\n",
       "      <th>movie_id</th>\n",
       "      <th>rating</th>\n",
       "    </tr>\n",
       "  </thead>\n",
       "  <tbody>\n",
       "    <tr>\n",
       "      <th>1014743</th>\n",
       "      <td>1219</td>\n",
       "      <td>803</td>\n",
       "      <td>5</td>\n",
       "    </tr>\n",
       "    <tr>\n",
       "      <th>791571</th>\n",
       "      <td>1865</td>\n",
       "      <td>643</td>\n",
       "      <td>1</td>\n",
       "    </tr>\n",
       "    <tr>\n",
       "      <th>967641</th>\n",
       "      <td>1382</td>\n",
       "      <td>771</td>\n",
       "      <td>3</td>\n",
       "    </tr>\n",
       "    <tr>\n",
       "      <th>65567</th>\n",
       "      <td>3295</td>\n",
       "      <td>53</td>\n",
       "      <td>3</td>\n",
       "    </tr>\n",
       "    <tr>\n",
       "      <th>622228</th>\n",
       "      <td>9259</td>\n",
       "      <td>530</td>\n",
       "      <td>4</td>\n",
       "    </tr>\n",
       "  </tbody>\n",
       "</table>\n",
       "</div>"
      ],
      "text/plain": [
       "        user_id movie_id  rating\n",
       "1014743    1219      803       5\n",
       "791571     1865      643       1\n",
       "967641     1382      771       3\n",
       "65567      3295       53       3\n",
       "622228     9259      530       4"
      ]
     },
     "execution_count": 6,
     "metadata": {},
     "output_type": "execute_result"
    }
   ],
   "source": [
    "test.head()"
   ]
  },
  {
   "cell_type": "code",
   "execution_count": 7,
   "metadata": {},
   "outputs": [],
   "source": [
    "from keras import losses\n",
    "from keras.utils import to_categorical\n",
    "from keras import backend\n",
    "from keras.regularizers import l2\n",
    "\n",
    "K = 25; \n",
    "\n",
    "#creating movie embedding path\n",
    "movie_input = Input(shape=[1], name=\"Movie-Input\")\n",
    "movie_embedding = Embedding(n_movies+1, K, name=\"Movie-Embedding\", embeddings_regularizer=l2(1e-6))(movie_input)\n",
    "movie_vec = Flatten(name=\"Flatten-Movies\")(movie_embedding)\n",
    "\n",
    "# creating user embedding path\n",
    "user_input = Input(shape=[1], name=\"User-Input\")\n",
    "user_embedding = Embedding(n_users+1, K, name=\"User-Embedding\", embeddings_regularizer=l2(1e-6))(user_input)\n",
    "user_vec = Flatten(name=\"Flatten-Users\")(user_embedding)\n",
    "\n",
    "# performing dot product and creating model\n",
    "prod = Dot(name=\"Dot-Product\", axes=1)([movie_vec, user_vec])\n",
    "model = Model([user_input, movie_input], prod)\n",
    "model.compile(loss='mean_squared_error', optimizer='adamax', metrics=['mse', 'accuracy'])\n",
    "\n",
    "# Optimizer : 'adam', RAdam(), 'sgd'\n",
    "# Loss = 'categorical_crossentropy', 'mean_squared_error'"
   ]
  },
  {
   "cell_type": "code",
   "execution_count": 8,
   "metadata": {},
   "outputs": [
    {
     "name": "stdout",
     "output_type": "stream",
     "text": [
      "WARNING:tensorflow:From /home/louise/anaconda3/lib/python3.7/site-packages/keras/backend/tensorflow_backend.py:422: The name tf.global_variables is deprecated. Please use tf.compat.v1.global_variables instead.\n",
      "\n",
      "Epoch 1/20\n",
      "941561/941561 [==============================] - 9s 9us/step - loss: 15.4506 - mse: 15.4500 - accuracy: 3.2924e-04\n",
      "Epoch 2/20\n",
      "941561/941561 [==============================] - 8s 9us/step - loss: 7.1776 - mse: 7.1703 - accuracy: 0.0758\n",
      "Epoch 3/20\n",
      "941561/941561 [==============================] - 8s 9us/step - loss: 1.9177 - mse: 1.9013 - accuracy: 0.2840\n",
      "Epoch 4/20\n",
      "941561/941561 [==============================] - 8s 9us/step - loss: 1.2409 - mse: 1.2212 - accuracy: 0.3504\n",
      "Epoch 5/20\n",
      "941561/941561 [==============================] - 8s 9us/step - loss: 1.0924 - mse: 1.0712 - accuracy: 0.3605\n",
      "Epoch 6/20\n",
      "941561/941561 [==============================] - 8s 9us/step - loss: 1.0482 - mse: 1.0263 - accuracy: 0.3619\n",
      "Epoch 7/20\n",
      "941561/941561 [==============================] - 8s 9us/step - loss: 1.0318 - mse: 1.0095 - accuracy: 0.3628\n",
      "Epoch 8/20\n",
      "941561/941561 [==============================] - 9s 10us/step - loss: 1.0245 - mse: 1.0020 - accuracy: 0.3630\n",
      "Epoch 9/20\n",
      "941561/941561 [==============================] - 8s 9us/step - loss: 1.0209 - mse: 0.9983 - accuracy: 0.3632\n",
      "Epoch 10/20\n",
      "941561/941561 [==============================] - 9s 9us/step - loss: 1.0187 - mse: 0.9960 - accuracy: 0.3628\n",
      "Epoch 11/20\n",
      "941561/941561 [==============================] - 9s 10us/step - loss: 1.0174 - mse: 0.9946 - accuracy: 0.3636\n",
      "Epoch 12/20\n",
      "941561/941561 [==============================] - 8s 9us/step - loss: 1.0164 - mse: 0.9936 - accuracy: 0.3636\n",
      "Epoch 13/20\n",
      "941561/941561 [==============================] - 9s 9us/step - loss: 1.0155 - mse: 0.9927 - accuracy: 0.3628\n",
      "Epoch 14/20\n",
      "941561/941561 [==============================] - 8s 9us/step - loss: 1.0148 - mse: 0.9919 - accuracy: 0.3639\n",
      "Epoch 15/20\n",
      "941561/941561 [==============================] - 9s 9us/step - loss: 1.0140 - mse: 0.9912 - accuracy: 0.3636\n",
      "Epoch 16/20\n",
      "941561/941561 [==============================] - 8s 9us/step - loss: 1.0133 - mse: 0.9904 - accuracy: 0.3637\n",
      "Epoch 17/20\n",
      "941561/941561 [==============================] - 9s 10us/step - loss: 1.0125 - mse: 0.9897 - accuracy: 0.3641\n",
      "Epoch 18/20\n",
      "941561/941561 [==============================] - 9s 9us/step - loss: 1.0116 - mse: 0.9887 - accuracy: 0.3642\n",
      "Epoch 19/20\n",
      "941561/941561 [==============================] - 8s 9us/step - loss: 1.0108 - mse: 0.9879 - accuracy: 0.3642\n",
      "Epoch 20/20\n",
      "941561/941561 [==============================] - 9s 9us/step - loss: 1.0096 - mse: 0.9868 - accuracy: 0.3646\n"
     ]
    },
    {
     "data": {
      "text/plain": [
       "Text(0, 0.5, 'Training Error')"
      ]
     },
     "execution_count": 8,
     "metadata": {},
     "output_type": "execute_result"
    },
    {
     "data": {
      "image/png": "[encoded data removed]",
      "text/plain": [
       "<Figure size 432x288 with 1 Axes>"
      ]
     },
     "metadata": {
      "needs_background": "light"
     },
     "output_type": "display_data"
    }
   ],
   "source": [
    "history = model.fit([train.user_id, train.movie_id], train.rating, batch_size=1000, epochs=20, verbose=1)\n",
    "model.save('MFrmse_model.h5')\n",
    "plt.plot(history.history['loss'])\n",
    "plt.xlabel(\"Epochs\")\n",
    "plt.ylabel(\"Training Error\")"
   ]
  },
  {
   "cell_type": "code",
   "execution_count": 9,
   "metadata": {},
   "outputs": [
    {
     "name": "stdout",
     "output_type": "stream",
     "text": [
      "235391/235391 [==============================] - 7s 30us/step\n"
     ]
    },
    {
     "data": {
      "text/plain": [
       "[1.0262613541788494, 1.0033808946609497, 0.36028140783309937]"
      ]
     },
     "execution_count": 9,
     "metadata": {},
     "output_type": "execute_result"
    }
   ],
   "source": [
    "model.evaluate([test.user_id, test.movie_id], test.rating)"
   ]
  },
  {
   "cell_type": "code",
   "execution_count": 11,
   "metadata": {
    "scrolled": true
   },
   "outputs": [],
   "source": [
    "prediction_test = model.predict([test.user_id, test.movie_id])"
   ]
  },
  {
   "cell_type": "code",
   "execution_count": 12,
   "metadata": {},
   "outputs": [],
   "source": [
    "for i in range(prediction_test.shape[0]):\n",
    "#     pred[i] = np.round(pred[i])\n",
    "    if (prediction_test[i] < 1):\n",
    "        prediction_test[i] = 1\n",
    "    elif (prediction_test[i] > 5):\n",
    "        prediction_test[i] = 5"
   ]
  },
  {
   "cell_type": "code",
   "execution_count": 17,
   "metadata": {
    "scrolled": true
   },
   "outputs": [
    {
     "data": {
      "text/html": [
       "<div>\n",
       "<style scoped>\n",
       "    .dataframe tbody tr th:only-of-type {\n",
       "        vertical-align: middle;\n",
       "    }\n",
       "\n",
       "    .dataframe tbody tr th {\n",
       "        vertical-align: top;\n",
       "    }\n",
       "\n",
       "    .dataframe thead th {\n",
       "        text-align: right;\n",
       "    }\n",
       "</style>\n",
       "<table border=\"1\" class=\"dataframe\">\n",
       "  <thead>\n",
       "    <tr style=\"text-align: right;\">\n",
       "      <th></th>\n",
       "      <th>user_id</th>\n",
       "      <th>movie_id</th>\n",
       "      <th>rating</th>\n",
       "      <th>mf_rmse_rating</th>\n",
       "    </tr>\n",
       "  </thead>\n",
       "  <tbody>\n",
       "    <tr>\n",
       "      <th>1014743</th>\n",
       "      <td>1219</td>\n",
       "      <td>803</td>\n",
       "      <td>5</td>\n",
       "      <td>3.738365</td>\n",
       "    </tr>\n",
       "    <tr>\n",
       "      <th>791571</th>\n",
       "      <td>1865</td>\n",
       "      <td>643</td>\n",
       "      <td>1</td>\n",
       "      <td>4.326094</td>\n",
       "    </tr>\n",
       "    <tr>\n",
       "      <th>967641</th>\n",
       "      <td>1382</td>\n",
       "      <td>771</td>\n",
       "      <td>3</td>\n",
       "      <td>3.015132</td>\n",
       "    </tr>\n",
       "    <tr>\n",
       "      <th>65567</th>\n",
       "      <td>3295</td>\n",
       "      <td>53</td>\n",
       "      <td>3</td>\n",
       "      <td>3.683027</td>\n",
       "    </tr>\n",
       "    <tr>\n",
       "      <th>622228</th>\n",
       "      <td>9259</td>\n",
       "      <td>530</td>\n",
       "      <td>4</td>\n",
       "      <td>4.137760</td>\n",
       "    </tr>\n",
       "    <tr>\n",
       "      <th>...</th>\n",
       "      <td>...</td>\n",
       "      <td>...</td>\n",
       "      <td>...</td>\n",
       "      <td>...</td>\n",
       "    </tr>\n",
       "    <tr>\n",
       "      <th>468443</th>\n",
       "      <td>2110</td>\n",
       "      <td>403</td>\n",
       "      <td>5</td>\n",
       "      <td>3.889833</td>\n",
       "    </tr>\n",
       "    <tr>\n",
       "      <th>1064490</th>\n",
       "      <td>9211</td>\n",
       "      <td>855</td>\n",
       "      <td>2</td>\n",
       "      <td>3.143407</td>\n",
       "    </tr>\n",
       "    <tr>\n",
       "      <th>1172922</th>\n",
       "      <td>7228</td>\n",
       "      <td>996</td>\n",
       "      <td>3</td>\n",
       "      <td>3.431674</td>\n",
       "    </tr>\n",
       "    <tr>\n",
       "      <th>327551</th>\n",
       "      <td>9827</td>\n",
       "      <td>272</td>\n",
       "      <td>5</td>\n",
       "      <td>3.784743</td>\n",
       "    </tr>\n",
       "    <tr>\n",
       "      <th>348100</th>\n",
       "      <td>1428</td>\n",
       "      <td>296</td>\n",
       "      <td>5</td>\n",
       "      <td>4.222007</td>\n",
       "    </tr>\n",
       "  </tbody>\n",
       "</table>\n",
       "<p>235391 rows × 4 columns</p>\n",
       "</div>"
      ],
      "text/plain": [
       "        user_id movie_id  rating  mf_rmse_rating\n",
       "1014743    1219      803       5        3.738365\n",
       "791571     1865      643       1        4.326094\n",
       "967641     1382      771       3        3.015132\n",
       "65567      3295       53       3        3.683027\n",
       "622228     9259      530       4        4.137760\n",
       "...         ...      ...     ...             ...\n",
       "468443     2110      403       5        3.889833\n",
       "1064490    9211      855       2        3.143407\n",
       "1172922    7228      996       3        3.431674\n",
       "327551     9827      272       5        3.784743\n",
       "348100     1428      296       5        4.222007\n",
       "\n",
       "[235391 rows x 4 columns]"
      ]
     },
     "execution_count": 17,
     "metadata": {},
     "output_type": "execute_result"
    }
   ],
   "source": [
    "test['mf_rmse_rating'] = prediction_test\n",
    "test"
   ]
  },
  {
   "cell_type": "code",
   "execution_count": 26,
   "metadata": {},
   "outputs": [],
   "source": [
    "DATA_BLENDING_TEST = \"data/mf_rmse_test.csv\"\n",
    "test.to_csv(DATA_BLENDING_TEST)"
   ]
  },
  {
   "cell_type": "code",
   "execution_count": 19,
   "metadata": {},
   "outputs": [],
   "source": [
    "pred_samples = model.predict([samples.user_id, samples.movie_id])"
   ]
  },
  {
   "cell_type": "code",
   "execution_count": 19,
   "metadata": {},
   "outputs": [],
   "source": [
    "# pop_samples = samples.set_index(['movie_id', 'user_id'])\n",
    "\n",
    "# pred_samples = pop_samples['rating']\n",
    "\n",
    "# pred_samples = pred_samples + mean_u\n",
    "# pred_samples = pred_samples + mean_i\n",
    "# pred_samples = pred_samples + mean_0\n",
    "\n",
    "# prediction = pred_samples.reset_index()\n",
    "\n",
    "# pred_samples = (prediction['rating']).to_numpy()"
   ]
  },
  {
   "cell_type": "code",
   "execution_count": 20,
   "metadata": {},
   "outputs": [
    {
     "data": {
      "text/plain": [
       "array([[3.3585348],\n",
       "       [3.063907 ],\n",
       "       [3.7269037],\n",
       "       ...,\n",
       "       [3.1934314],\n",
       "       [3.1490066],\n",
       "       [3.8730383]], dtype=float32)"
      ]
     },
     "execution_count": 20,
     "metadata": {},
     "output_type": "execute_result"
    }
   ],
   "source": [
    "np.asarray(pred_samples)"
   ]
  },
  {
   "cell_type": "code",
   "execution_count": 21,
   "metadata": {},
   "outputs": [],
   "source": [
    "for i in range(pred_samples.shape[0]):\n",
    "#     pred[i] = np.round(pred[i])\n",
    "    if (pred_samples[i] < 1):\n",
    "        pred_samples[i] = 1\n",
    "    elif (pred_samples[i] > 5):\n",
    "        pred_samples[i] = 5"
   ]
  },
  {
   "cell_type": "code",
   "execution_count": 23,
   "metadata": {
    "scrolled": true
   },
   "outputs": [
    {
     "data": {
      "text/html": [
       "<div>\n",
       "<style scoped>\n",
       "    .dataframe tbody tr th:only-of-type {\n",
       "        vertical-align: middle;\n",
       "    }\n",
       "\n",
       "    .dataframe tbody tr th {\n",
       "        vertical-align: top;\n",
       "    }\n",
       "\n",
       "    .dataframe thead th {\n",
       "        text-align: right;\n",
       "    }\n",
       "</style>\n",
       "<table border=\"1\" class=\"dataframe\">\n",
       "  <thead>\n",
       "    <tr style=\"text-align: right;\">\n",
       "      <th></th>\n",
       "      <th>user_id</th>\n",
       "      <th>movie_id</th>\n",
       "      <th>rating</th>\n",
       "      <th>mf_rmse_rating</th>\n",
       "    </tr>\n",
       "  </thead>\n",
       "  <tbody>\n",
       "    <tr>\n",
       "      <th>0</th>\n",
       "      <td>37</td>\n",
       "      <td>1</td>\n",
       "      <td>3</td>\n",
       "      <td>3.358535</td>\n",
       "    </tr>\n",
       "    <tr>\n",
       "      <th>1</th>\n",
       "      <td>73</td>\n",
       "      <td>1</td>\n",
       "      <td>3</td>\n",
       "      <td>3.063907</td>\n",
       "    </tr>\n",
       "    <tr>\n",
       "      <th>2</th>\n",
       "      <td>156</td>\n",
       "      <td>1</td>\n",
       "      <td>3</td>\n",
       "      <td>3.726904</td>\n",
       "    </tr>\n",
       "    <tr>\n",
       "      <th>3</th>\n",
       "      <td>160</td>\n",
       "      <td>1</td>\n",
       "      <td>3</td>\n",
       "      <td>3.348716</td>\n",
       "    </tr>\n",
       "    <tr>\n",
       "      <th>4</th>\n",
       "      <td>248</td>\n",
       "      <td>1</td>\n",
       "      <td>3</td>\n",
       "      <td>3.328342</td>\n",
       "    </tr>\n",
       "    <tr>\n",
       "      <th>...</th>\n",
       "      <td>...</td>\n",
       "      <td>...</td>\n",
       "      <td>...</td>\n",
       "      <td>...</td>\n",
       "    </tr>\n",
       "    <tr>\n",
       "      <th>1176947</th>\n",
       "      <td>9974</td>\n",
       "      <td>1000</td>\n",
       "      <td>3</td>\n",
       "      <td>3.712515</td>\n",
       "    </tr>\n",
       "    <tr>\n",
       "      <th>1176948</th>\n",
       "      <td>9977</td>\n",
       "      <td>1000</td>\n",
       "      <td>3</td>\n",
       "      <td>3.615162</td>\n",
       "    </tr>\n",
       "    <tr>\n",
       "      <th>1176949</th>\n",
       "      <td>9978</td>\n",
       "      <td>1000</td>\n",
       "      <td>3</td>\n",
       "      <td>3.193431</td>\n",
       "    </tr>\n",
       "    <tr>\n",
       "      <th>1176950</th>\n",
       "      <td>9982</td>\n",
       "      <td>1000</td>\n",
       "      <td>3</td>\n",
       "      <td>3.149007</td>\n",
       "    </tr>\n",
       "    <tr>\n",
       "      <th>1176951</th>\n",
       "      <td>9996</td>\n",
       "      <td>1000</td>\n",
       "      <td>3</td>\n",
       "      <td>3.873038</td>\n",
       "    </tr>\n",
       "  </tbody>\n",
       "</table>\n",
       "<p>1176952 rows × 4 columns</p>\n",
       "</div>"
      ],
      "text/plain": [
       "        user_id movie_id  rating  mf_rmse_rating\n",
       "0            37        1       3        3.358535\n",
       "1            73        1       3        3.063907\n",
       "2           156        1       3        3.726904\n",
       "3           160        1       3        3.348716\n",
       "4           248        1       3        3.328342\n",
       "...         ...      ...     ...             ...\n",
       "1176947    9974     1000       3        3.712515\n",
       "1176948    9977     1000       3        3.615162\n",
       "1176949    9978     1000       3        3.193431\n",
       "1176950    9982     1000       3        3.149007\n",
       "1176951    9996     1000       3        3.873038\n",
       "\n",
       "[1176952 rows x 4 columns]"
      ]
     },
     "execution_count": 23,
     "metadata": {},
     "output_type": "execute_result"
    }
   ],
   "source": [
    "submission = load_data(DATA_TEST_PATH)\n",
    "submission['mf_rmse_rating'] = pred_samples\n",
    "submission"
   ]
  },
  {
   "cell_type": "code",
   "execution_count": 25,
   "metadata": {},
   "outputs": [],
   "source": [
    "DATA_BLENDING_SUBMISSION = \"data/mf_rmse_submission.csv\"\n",
    "test.to_csv(DATA_BLENDING_SUBMISSION)"
   ]
  },
  {
   "cell_type": "code",
   "execution_count": 40,
   "metadata": {
    "scrolled": false
   },
   "outputs": [],
   "source": [
    "from helpers import create_csv\n",
    "\n",
    "DATA_SUBMISSION = \"data/samples_MF_RMSEnorm.csv\"\n",
    "create_csv(DATA_SUBMISSION, submission)"
   ]
  },
  {
   "cell_type": "markdown",
   "metadata": {},
   "source": [
    "Dot Product with RMSE using librairies : pandas and keras - AICrowd : RMSE = .... ; Secondary = ...."
   ]
  },
  {
   "cell_type": "code",
   "execution_count": null,
   "metadata": {},
   "outputs": [],
   "source": [
    "## Problems : the prediction has 6. ... "
   ]
  }
 ],
 "metadata": {
  "kernelspec": {
   "display_name": "Python 3",
   "language": "python",
   "name": "python3"
  },
  "language_info": {
   "codemirror_mode": {
    "name": "ipython",
    "version": 3
   },
   "file_extension": ".py",
   "mimetype": "text/x-python",
   "name": "python",
   "nbconvert_exporter": "python",
   "pygments_lexer": "ipython3",
   "version": "3.7.3"
  }
 },
 "nbformat": 4,
 "nbformat_minor": 2
}
