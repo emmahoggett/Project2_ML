{
 "cells": [
  {
   "cell_type": "code",
   "execution_count": 1,
   "metadata": {},
   "outputs": [
    {
     "name": "stderr",
     "output_type": "stream",
     "text": [
      "Using TensorFlow backend.\n"
     ]
    }
   ],
   "source": [
    "import numpy as np\n",
    "import pandas as pd\n",
    "import matplotlib.pyplot as plt\n",
    "import os\n",
    "import warnings\n",
    "\n",
    "from keras.layers import Input, Embedding, Flatten, Dot, Dense, Concatenate\n",
    "from keras.models import Model, Sequential, load_model\n",
    "\n",
    "from keras.wrappers.scikit_learn import KerasClassifier\n",
    "from keras.utils import np_utils\n",
    "from sklearn.model_selection import cross_val_score\n",
    "from sklearn.model_selection import KFold\n",
    "from sklearn.preprocessing import LabelEncoder\n",
    "from sklearn.pipeline import Pipeline\n",
    "from keras_radam import RAdam\n",
    "\n",
    "warnings.filterwarnings('ignore')\n",
    "%matplotlib inline\n",
    "\n",
    "%load_ext autoreload\n",
    "%autoreload 2"
   ]
  },
  {
   "cell_type": "markdown",
   "metadata": {},
   "source": [
    "# Dot Product with RMSE loss function"
   ]
  },
  {
   "cell_type": "code",
   "execution_count": 2,
   "metadata": {},
   "outputs": [],
   "source": [
    "from helpers import load_data\n",
    "\n",
    "DATA_TRAIN_PATH = \"data/data_train.csv\"\n",
    "ratings = load_data(DATA_TRAIN_PATH)\n",
    "\n",
    "DATA_TEST_PATH = \"data/sampleSubmission.csv\"\n",
    "samples = load_data(DATA_TEST_PATH)"
   ]
  },
  {
   "cell_type": "code",
   "execution_count": 3,
   "metadata": {},
   "outputs": [
    {
     "data": {
      "text/html": [
       "<div>\n",
       "<style scoped>\n",
       "    .dataframe tbody tr th:only-of-type {\n",
       "        vertical-align: middle;\n",
       "    }\n",
       "\n",
       "    .dataframe tbody tr th {\n",
       "        vertical-align: top;\n",
       "    }\n",
       "\n",
       "    .dataframe thead th {\n",
       "        text-align: right;\n",
       "    }\n",
       "</style>\n",
       "<table border=\"1\" class=\"dataframe\">\n",
       "  <thead>\n",
       "    <tr style=\"text-align: right;\">\n",
       "      <th></th>\n",
       "      <th>user_id</th>\n",
       "      <th>movie_id</th>\n",
       "      <th>rating</th>\n",
       "    </tr>\n",
       "  </thead>\n",
       "  <tbody>\n",
       "    <tr>\n",
       "      <th>0</th>\n",
       "      <td>37</td>\n",
       "      <td>1</td>\n",
       "      <td>3</td>\n",
       "    </tr>\n",
       "    <tr>\n",
       "      <th>1</th>\n",
       "      <td>73</td>\n",
       "      <td>1</td>\n",
       "      <td>3</td>\n",
       "    </tr>\n",
       "    <tr>\n",
       "      <th>2</th>\n",
       "      <td>156</td>\n",
       "      <td>1</td>\n",
       "      <td>3</td>\n",
       "    </tr>\n",
       "    <tr>\n",
       "      <th>3</th>\n",
       "      <td>160</td>\n",
       "      <td>1</td>\n",
       "      <td>3</td>\n",
       "    </tr>\n",
       "    <tr>\n",
       "      <th>4</th>\n",
       "      <td>248</td>\n",
       "      <td>1</td>\n",
       "      <td>3</td>\n",
       "    </tr>\n",
       "  </tbody>\n",
       "</table>\n",
       "</div>"
      ],
      "text/plain": [
       "  user_id movie_id  rating\n",
       "0      37        1       3\n",
       "1      73        1       3\n",
       "2     156        1       3\n",
       "3     160        1       3\n",
       "4     248        1       3"
      ]
     },
     "execution_count": 3,
     "metadata": {},
     "output_type": "execute_result"
    }
   ],
   "source": [
    "samples.head()"
   ]
  },
  {
   "cell_type": "code",
   "execution_count": 4,
   "metadata": {},
   "outputs": [],
   "source": [
    "n_users = len(ratings.user_id.unique())\n",
    "n_movies = len(ratings.movie_id.unique())"
   ]
  },
  {
   "cell_type": "code",
   "execution_count": 5,
   "metadata": {},
   "outputs": [],
   "source": [
    "from sklearn.model_selection import train_test_split\n",
    "train, test = train_test_split(ratings, test_size=0.1, random_state=42)"
   ]
  },
  {
   "cell_type": "code",
   "execution_count": 6,
   "metadata": {},
   "outputs": [
    {
     "data": {
      "text/html": [
       "<div>\n",
       "<style scoped>\n",
       "    .dataframe tbody tr th:only-of-type {\n",
       "        vertical-align: middle;\n",
       "    }\n",
       "\n",
       "    .dataframe tbody tr th {\n",
       "        vertical-align: top;\n",
       "    }\n",
       "\n",
       "    .dataframe thead th {\n",
       "        text-align: right;\n",
       "    }\n",
       "</style>\n",
       "<table border=\"1\" class=\"dataframe\">\n",
       "  <thead>\n",
       "    <tr style=\"text-align: right;\">\n",
       "      <th></th>\n",
       "      <th>user_id</th>\n",
       "      <th>movie_id</th>\n",
       "      <th>rating</th>\n",
       "    </tr>\n",
       "  </thead>\n",
       "  <tbody>\n",
       "    <tr>\n",
       "      <th>904556</th>\n",
       "      <td>5062</td>\n",
       "      <td>706</td>\n",
       "      <td>2</td>\n",
       "    </tr>\n",
       "    <tr>\n",
       "      <th>171326</th>\n",
       "      <td>9044</td>\n",
       "      <td>148</td>\n",
       "      <td>4</td>\n",
       "    </tr>\n",
       "    <tr>\n",
       "      <th>190893</th>\n",
       "      <td>1736</td>\n",
       "      <td>169</td>\n",
       "      <td>4</td>\n",
       "    </tr>\n",
       "    <tr>\n",
       "      <th>1082109</th>\n",
       "      <td>5270</td>\n",
       "      <td>877</td>\n",
       "      <td>1</td>\n",
       "    </tr>\n",
       "    <tr>\n",
       "      <th>881877</th>\n",
       "      <td>6100</td>\n",
       "      <td>691</td>\n",
       "      <td>4</td>\n",
       "    </tr>\n",
       "  </tbody>\n",
       "</table>\n",
       "</div>"
      ],
      "text/plain": [
       "        user_id movie_id  rating\n",
       "904556     5062      706       2\n",
       "171326     9044      148       4\n",
       "190893     1736      169       4\n",
       "1082109    5270      877       1\n",
       "881877     6100      691       4"
      ]
     },
     "execution_count": 6,
     "metadata": {},
     "output_type": "execute_result"
    }
   ],
   "source": [
    "test.head()"
   ]
  },
  {
   "cell_type": "code",
   "execution_count": 7,
   "metadata": {},
   "outputs": [],
   "source": [
    "from keras import losses\n",
    "from keras.utils import to_categorical\n",
    "from keras import backend\n",
    "from keras.regularizers import l2\n",
    "\n",
    "K = 25;\n",
    "\n",
    "#creating movie embedding path\n",
    "movie_input = Input(shape=[1], name=\"Movie-Input\")\n",
    "movie_embedding = Embedding(n_movies+1, K, name=\"Movie-Embedding\", embeddings_regularizer=l2(1e-6))(movie_input)\n",
    "movie_vec = Flatten(name=\"Flatten-Movies\")(movie_embedding)\n",
    "\n",
    "# creating user embedding path\n",
    "user_input = Input(shape=[1], name=\"User-Input\")\n",
    "user_embedding = Embedding(n_users+1, K, name=\"User-Embedding\", embeddings_regularizer=l2(1e-6))(user_input)\n",
    "user_vec = Flatten(name=\"Flatten-Users\")(user_embedding)\n",
    "\n",
    "# performing dot product and creating model\n",
    "prod = Dot(name=\"Dot-Product\", axes=1)([movie_vec, user_vec])\n",
    "model = Model([user_input, movie_input], prod)\n",
    "model.compile(loss='mean_squared_error', optimizer='adamax', metrics=['mse', 'accuracy'])\n",
    "\n",
    "# Optimizer : 'sgd', adam', RAdam(), \n",
    "# Loss = 'mean_squared_error'"
   ]
  },
  {
   "cell_type": "code",
   "execution_count": 8,
   "metadata": {},
   "outputs": [
    {
     "name": "stdout",
     "output_type": "stream",
     "text": [
      "WARNING:tensorflow:From /home/louise/anaconda3/lib/python3.7/site-packages/keras/backend/tensorflow_backend.py:422: The name tf.global_variables is deprecated. Please use tf.compat.v1.global_variables instead.\n",
      "\n",
      "Train on 1059256 samples, validate on 117696 samples\n",
      "Epoch 1/20\n",
      "1059256/1059256 [==============================] - 9s 8us/step - loss: 15.2405 - mse: 15.2398 - accuracy: 0.0011 - val_loss: 11.8848 - val_mse: 11.8820 - val_accuracy: 0.0142\n",
      "Epoch 2/20\n",
      "1059256/1059256 [==============================] - 9s 9us/step - loss: 5.9493 - mse: 5.9404 - accuracy: 0.1069 - val_loss: 2.3027 - val_mse: 2.2878 - val_accuracy: 0.2443\n",
      "Epoch 3/20\n",
      "1059256/1059256 [==============================] - 8s 8us/step - loss: 1.6247 - mse: 1.6071 - accuracy: 0.3123 - val_loss: 1.2897 - val_mse: 1.2703 - val_accuracy: 0.3498\n",
      "Epoch 4/20\n",
      "1059256/1059256 [==============================] - 11s 10us/step - loss: 1.1625 - mse: 1.1421 - accuracy: 0.3559 - val_loss: 1.1075 - val_mse: 1.0863 - val_accuracy: 0.3606\n",
      "Epoch 5/20\n",
      "1059256/1059256 [==============================] - 9s 9us/step - loss: 1.0666 - mse: 1.0450 - accuracy: 0.3608 - val_loss: 1.0591 - val_mse: 1.0372 - val_accuracy: 0.3620\n",
      "Epoch 6/20\n",
      "1059256/1059256 [==============================] - 8s 7us/step - loss: 1.0381 - mse: 1.0159 - accuracy: 0.3620 - val_loss: 1.0422 - val_mse: 1.0198 - val_accuracy: 0.3611\n",
      "Epoch 7/20\n",
      "1059256/1059256 [==============================] - 8s 8us/step - loss: 1.0275 - mse: 1.0050 - accuracy: 0.3623 - val_loss: 1.0346 - val_mse: 1.0121 - val_accuracy: 0.3622\n",
      "Epoch 8/20\n",
      "1059256/1059256 [==============================] - 9s 8us/step - loss: 1.0225 - mse: 0.9999 - accuracy: 0.3629 - val_loss: 1.0313 - val_mse: 1.0086 - val_accuracy: 0.3616\n",
      "Epoch 9/20\n",
      "1059256/1059256 [==============================] - 7s 7us/step - loss: 1.0199 - mse: 0.9972 - accuracy: 0.3620 - val_loss: 1.0297 - val_mse: 1.0070 - val_accuracy: 0.3621\n",
      "Epoch 10/20\n",
      "1059256/1059256 [==============================] - 8s 8us/step - loss: 1.0183 - mse: 0.9956 - accuracy: 0.3626 - val_loss: 1.0281 - val_mse: 1.0054 - val_accuracy: 0.3619\n",
      "Epoch 11/20\n",
      "1059256/1059256 [==============================] - 7s 7us/step - loss: 1.0171 - mse: 0.9943 - accuracy: 0.3628 - val_loss: 1.0277 - val_mse: 1.0049 - val_accuracy: 0.3625\n",
      "Epoch 12/20\n",
      "1059256/1059256 [==============================] - 8s 8us/step - loss: 1.0162 - mse: 0.9934 - accuracy: 0.3629 - val_loss: 1.0270 - val_mse: 1.0041 - val_accuracy: 0.3630\n",
      "Epoch 13/20\n",
      "1059256/1059256 [==============================] - 8s 7us/step - loss: 1.0154 - mse: 0.9926 - accuracy: 0.3629 - val_loss: 1.0267 - val_mse: 1.0038 - val_accuracy: 0.3620\n",
      "Epoch 14/20\n",
      "1059256/1059256 [==============================] - 8s 7us/step - loss: 1.0146 - mse: 0.9917 - accuracy: 0.3630 - val_loss: 1.0263 - val_mse: 1.0035 - val_accuracy: 0.3625\n",
      "Epoch 15/20\n",
      "1059256/1059256 [==============================] - 9s 9us/step - loss: 1.0137 - mse: 0.9908 - accuracy: 0.3635 - val_loss: 1.0261 - val_mse: 1.0033 - val_accuracy: 0.3620\n",
      "Epoch 16/20\n",
      "1059256/1059256 [==============================] - 8s 8us/step - loss: 1.0127 - mse: 0.9898 - accuracy: 0.3635 - val_loss: 1.0256 - val_mse: 1.0027 - val_accuracy: 0.3624\n",
      "Epoch 17/20\n",
      "1059256/1059256 [==============================] - 11s 10us/step - loss: 1.0115 - mse: 0.9887 - accuracy: 0.3638 - val_loss: 1.0247 - val_mse: 1.0019 - val_accuracy: 0.3628\n",
      "Epoch 18/20\n",
      "1059256/1059256 [==============================] - 7s 7us/step - loss: 1.0103 - mse: 0.9875 - accuracy: 0.3641 - val_loss: 1.0247 - val_mse: 1.0018 - val_accuracy: 0.3619\n",
      "Epoch 19/20\n",
      "1059256/1059256 [==============================] - 7s 7us/step - loss: 1.0089 - mse: 0.9860 - accuracy: 0.3646 - val_loss: 1.0237 - val_mse: 1.0008 - val_accuracy: 0.3628\n",
      "Epoch 20/20\n",
      "1059256/1059256 [==============================] - 7s 7us/step - loss: 1.0072 - mse: 0.9843 - accuracy: 0.3647 - val_loss: 1.0231 - val_mse: 1.0001 - val_accuracy: 0.3633\n"
     ]
    },
    {
     "data": {
      "text/plain": [
       "Text(0, 0.5, 'Training Error')"
      ]
     },
     "execution_count": 8,
     "metadata": {},
     "output_type": "execute_result"
    },
    {
     "data": {
      "image/png": "[encoded data removed]",
      "text/plain": [
       "<Figure size 432x288 with 1 Axes>"
      ]
     },
     "metadata": {
      "needs_background": "light"
     },
     "output_type": "display_data"
    }
   ],
   "source": [
    "history = model.fit([train.user_id, train.movie_id], train.rating, batch_size=1000, epochs=20, verbose=1, validation_data=([test.user_id, test.movie_id], test.rating))\n",
    "# model.save('regression_model.h5')\n",
    "plt.plot(history.history['loss'])\n",
    "plt.xlabel(\"Epochs\")\n",
    "plt.ylabel(\"Training Error\")"
   ]
  },
  {
   "cell_type": "code",
   "execution_count": 32,
   "metadata": {},
   "outputs": [
    {
     "name": "stdout",
     "output_type": "stream",
     "text": [
      "117696/117696 [==============================] - 4s 34us/step\n"
     ]
    },
    {
     "data": {
      "text/plain": [
       "[1.0236701933325731, 1.0007404088974, 0.36326637864112854]"
      ]
     },
     "execution_count": 32,
     "metadata": {},
     "output_type": "execute_result"
    }
   ],
   "source": [
    "model.evaluate([test.user_id, test.movie_id], test.rating)"
   ]
  },
  {
   "cell_type": "code",
   "execution_count": 10,
   "metadata": {
    "scrolled": true
   },
   "outputs": [
    {
     "name": "stdout",
     "output_type": "stream",
     "text": [
      "[3.199545] 2\n",
      "[3.4799664] 4\n",
      "[4.458121] 4\n",
      "[3.6820173] 1\n",
      "[3.7638707] 4\n",
      "[5.0317135] 4\n",
      "[3.2837343] 5\n",
      "[4.45392] 4\n",
      "[5.0316014] 4\n",
      "[5.1806426] 5\n"
     ]
    },
    {
     "data": {
      "text/plain": [
       "[None, None, None, None, None, None, None, None, None, None]"
      ]
     },
     "execution_count": 10,
     "metadata": {},
     "output_type": "execute_result"
    }
   ],
   "source": [
    "pred = model.predict([test.user_id.head(10), test.movie_id.head(10)])\n",
    "\n",
    "[print(pred[i], test.rating.iloc[i]) for i in range(0,10)]"
   ]
  },
  {
   "cell_type": "code",
   "execution_count": 11,
   "metadata": {},
   "outputs": [],
   "source": [
    "pred = model.predict([samples.user_id, samples.movie_id])"
   ]
  },
  {
   "cell_type": "code",
   "execution_count": 12,
   "metadata": {},
   "outputs": [
    {
     "data": {
      "text/plain": [
       "array([[3.0432405],\n",
       "       [3.1560335],\n",
       "       [3.6740422],\n",
       "       ...,\n",
       "       [3.1113799],\n",
       "       [3.3058915],\n",
       "       [3.844506 ]], dtype=float32)"
      ]
     },
     "execution_count": 12,
     "metadata": {},
     "output_type": "execute_result"
    }
   ],
   "source": [
    "np.asarray(pred)"
   ]
  },
  {
   "cell_type": "code",
   "execution_count": 13,
   "metadata": {},
   "outputs": [],
   "source": [
    "for i in range(pred.shape[0]):\n",
    "    pred[i] = np.round(pred[i])\n",
    "    if (pred[i] < 1):\n",
    "        pred[i] = 1\n",
    "    elif (pred[i] > 5):\n",
    "        pred[i] = 5"
   ]
  },
  {
   "cell_type": "code",
   "execution_count": 14,
   "metadata": {},
   "outputs": [
    {
     "data": {
      "text/plain": [
       "array([[3.],\n",
       "       [3.],\n",
       "       [4.],\n",
       "       ...,\n",
       "       [3.],\n",
       "       [3.],\n",
       "       [4.]], dtype=float32)"
      ]
     },
     "execution_count": 14,
     "metadata": {},
     "output_type": "execute_result"
    }
   ],
   "source": [
    "pred"
   ]
  },
  {
   "cell_type": "code",
   "execution_count": 15,
   "metadata": {
    "scrolled": true
   },
   "outputs": [
    {
     "data": {
      "text/html": [
       "<div>\n",
       "<style scoped>\n",
       "    .dataframe tbody tr th:only-of-type {\n",
       "        vertical-align: middle;\n",
       "    }\n",
       "\n",
       "    .dataframe tbody tr th {\n",
       "        vertical-align: top;\n",
       "    }\n",
       "\n",
       "    .dataframe thead th {\n",
       "        text-align: right;\n",
       "    }\n",
       "</style>\n",
       "<table border=\"1\" class=\"dataframe\">\n",
       "  <thead>\n",
       "    <tr style=\"text-align: right;\">\n",
       "      <th></th>\n",
       "      <th>user_id</th>\n",
       "      <th>movie_id</th>\n",
       "      <th>rating</th>\n",
       "    </tr>\n",
       "  </thead>\n",
       "  <tbody>\n",
       "    <tr>\n",
       "      <th>0</th>\n",
       "      <td>37</td>\n",
       "      <td>1</td>\n",
       "      <td>3.0</td>\n",
       "    </tr>\n",
       "    <tr>\n",
       "      <th>1</th>\n",
       "      <td>73</td>\n",
       "      <td>1</td>\n",
       "      <td>3.0</td>\n",
       "    </tr>\n",
       "    <tr>\n",
       "      <th>2</th>\n",
       "      <td>156</td>\n",
       "      <td>1</td>\n",
       "      <td>4.0</td>\n",
       "    </tr>\n",
       "    <tr>\n",
       "      <th>3</th>\n",
       "      <td>160</td>\n",
       "      <td>1</td>\n",
       "      <td>3.0</td>\n",
       "    </tr>\n",
       "    <tr>\n",
       "      <th>4</th>\n",
       "      <td>248</td>\n",
       "      <td>1</td>\n",
       "      <td>3.0</td>\n",
       "    </tr>\n",
       "    <tr>\n",
       "      <th>...</th>\n",
       "      <td>...</td>\n",
       "      <td>...</td>\n",
       "      <td>...</td>\n",
       "    </tr>\n",
       "    <tr>\n",
       "      <th>1176947</th>\n",
       "      <td>9974</td>\n",
       "      <td>1000</td>\n",
       "      <td>4.0</td>\n",
       "    </tr>\n",
       "    <tr>\n",
       "      <th>1176948</th>\n",
       "      <td>9977</td>\n",
       "      <td>1000</td>\n",
       "      <td>4.0</td>\n",
       "    </tr>\n",
       "    <tr>\n",
       "      <th>1176949</th>\n",
       "      <td>9978</td>\n",
       "      <td>1000</td>\n",
       "      <td>3.0</td>\n",
       "    </tr>\n",
       "    <tr>\n",
       "      <th>1176950</th>\n",
       "      <td>9982</td>\n",
       "      <td>1000</td>\n",
       "      <td>3.0</td>\n",
       "    </tr>\n",
       "    <tr>\n",
       "      <th>1176951</th>\n",
       "      <td>9996</td>\n",
       "      <td>1000</td>\n",
       "      <td>4.0</td>\n",
       "    </tr>\n",
       "  </tbody>\n",
       "</table>\n",
       "<p>1176952 rows × 3 columns</p>\n",
       "</div>"
      ],
      "text/plain": [
       "        user_id movie_id  rating\n",
       "0            37        1     3.0\n",
       "1            73        1     3.0\n",
       "2           156        1     4.0\n",
       "3           160        1     3.0\n",
       "4           248        1     3.0\n",
       "...         ...      ...     ...\n",
       "1176947    9974     1000     4.0\n",
       "1176948    9977     1000     4.0\n",
       "1176949    9978     1000     3.0\n",
       "1176950    9982     1000     3.0\n",
       "1176951    9996     1000     4.0\n",
       "\n",
       "[1176952 rows x 3 columns]"
      ]
     },
     "execution_count": 15,
     "metadata": {},
     "output_type": "execute_result"
    }
   ],
   "source": [
    "submission = load_data(DATA_TEST_PATH)\n",
    "submission['rating'] = pred\n",
    "submission"
   ]
  },
  {
   "cell_type": "code",
   "execution_count": 16,
   "metadata": {
    "scrolled": false
   },
   "outputs": [],
   "source": [
    "from helpers import create_csv\n",
    "\n",
    "DATA_SUBMISSION = \"data/submission_dotprodRMSE.csv\"\n",
    "create_csv(DATA_SUBMISSION, submission)"
   ]
  },
  {
   "cell_type": "markdown",
   "metadata": {},
   "source": [
    "Dot Product with RMSE using librairies : pandas and keras - AICrowd : RMSE = 1.039 ; Secondary = 0.136"
   ]
  },
  {
   "cell_type": "markdown",
   "metadata": {},
   "source": [
    "The score stays the same when we increase 'epoch' or 'K'."
   ]
  },
  {
   "cell_type": "markdown",
   "metadata": {},
   "source": [
    "# Dot Product with Cross validation"
   ]
  },
  {
   "cell_type": "code",
   "execution_count": null,
   "metadata": {},
   "outputs": [],
   "source": [
    "n_split=3\n",
    "\n",
    "X = ratings[['user', 'movie']].values\n",
    "y = ratings['rating']\n",
    "\n",
    "if os.path.exists('regression_model.h5'):\n",
    "    model = load_model('regression_model.h5')\n",
    "else:\n",
    "    for train_index, test_index in KFold(n_split).split(X):\n",
    "        x_train, x_test = X[train_index], X[test_index]\n",
    "        y_train, y_test = Y[train_index], Y[test_index]\n",
    "  \n",
    "        model=create_model()\n",
    "        history = model.fit(x_train, y_train, batch_size=1000, epochs=20, verbose=1)\n",
    "    \n",
    "    history = model.fit([train.user_id, train.movie_id], train.rating, )\n",
    "    model.save('regression_model.h5')\n",
    "    plt.plot(history.history['loss'])\n",
    "    plt.xlabel(\"Epochs\")\n",
    "    plt.ylabel(\"Training Error\")\n",
    "    \n",
    "    \n",
    "  \n",
    "    print('Model evaluation ',model.evaluate(x_test,y_test))"
   ]
  }
 ],
 "metadata": {
  "kernelspec": {
   "display_name": "Python 3",
   "language": "python",
   "name": "python3"
  },
  "language_info": {
   "codemirror_mode": {
    "name": "ipython",
    "version": 3
   },
   "file_extension": ".py",
   "mimetype": "text/x-python",
   "name": "python",
   "nbconvert_exporter": "python",
   "pygments_lexer": "ipython3",
   "version": "3.7.3"
  }
 },
 "nbformat": 4,
 "nbformat_minor": 2
}
