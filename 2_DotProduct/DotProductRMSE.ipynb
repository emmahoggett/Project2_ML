{
 "cells": [
  {
   "cell_type": "code",
   "execution_count": 8,
   "metadata": {},
   "outputs": [
    {
     "name": "stdout",
     "output_type": "stream",
     "text": [
      "The autoreload extension is already loaded. To reload it, use:\n",
      "  %reload_ext autoreload\n"
     ]
    }
   ],
   "source": [
    "import numpy as np\n",
    "import pandas as pd\n",
    "import matplotlib.pyplot as plt\n",
    "import os\n",
    "import warnings\n",
    "\n",
    "from keras.layers import Input, Embedding, Flatten, Dot, Dense, Concatenate\n",
    "from keras.models import Model\n",
    "\n",
    "warnings.filterwarnings('ignore')\n",
    "%matplotlib inline\n",
    "\n",
    "%load_ext autoreload\n",
    "%autoreload 2"
   ]
  },
  {
   "cell_type": "markdown",
   "metadata": {},
   "source": [
    "# Dot Product with RMSE loss function"
   ]
  },
  {
   "cell_type": "code",
   "execution_count": 12,
   "metadata": {},
   "outputs": [],
   "source": [
    "from helpers import load_data\n",
    "\n",
    "DATA_TRAIN_PATH = \"data/data_train.csv\"\n",
    "ratings = load_data(DATA_TRAIN_PATH)\n",
    "\n",
    "DATA_TEST_PATH = \"data/sampleSubmission.csv\"\n",
    "samples = load_data(DATA_TEST_PATH)"
   ]
  },
  {
   "cell_type": "code",
   "execution_count": 14,
   "metadata": {},
   "outputs": [],
   "source": [
    "n_users = len(ratings.user_id.unique())\n",
    "n_movies = len(ratings.movie_id.unique())"
   ]
  },
  {
   "cell_type": "code",
   "execution_count": 15,
   "metadata": {},
   "outputs": [],
   "source": [
    "from sklearn.model_selection import train_test_split\n",
    "train, test = train_test_split(ratings, test_size=0.1, random_state=42)"
   ]
  },
  {
   "cell_type": "code",
   "execution_count": 16,
   "metadata": {},
   "outputs": [
    {
     "data": {
      "text/html": [
       "<div>\n",
       "<style scoped>\n",
       "    .dataframe tbody tr th:only-of-type {\n",
       "        vertical-align: middle;\n",
       "    }\n",
       "\n",
       "    .dataframe tbody tr th {\n",
       "        vertical-align: top;\n",
       "    }\n",
       "\n",
       "    .dataframe thead th {\n",
       "        text-align: right;\n",
       "    }\n",
       "</style>\n",
       "<table border=\"1\" class=\"dataframe\">\n",
       "  <thead>\n",
       "    <tr style=\"text-align: right;\">\n",
       "      <th></th>\n",
       "      <th>user_id</th>\n",
       "      <th>movie_id</th>\n",
       "      <th>rating</th>\n",
       "    </tr>\n",
       "  </thead>\n",
       "  <tbody>\n",
       "    <tr>\n",
       "      <th>904556</th>\n",
       "      <td>5062</td>\n",
       "      <td>706</td>\n",
       "      <td>2</td>\n",
       "    </tr>\n",
       "    <tr>\n",
       "      <th>171326</th>\n",
       "      <td>9044</td>\n",
       "      <td>148</td>\n",
       "      <td>4</td>\n",
       "    </tr>\n",
       "    <tr>\n",
       "      <th>190893</th>\n",
       "      <td>1736</td>\n",
       "      <td>169</td>\n",
       "      <td>4</td>\n",
       "    </tr>\n",
       "    <tr>\n",
       "      <th>1082109</th>\n",
       "      <td>5270</td>\n",
       "      <td>877</td>\n",
       "      <td>1</td>\n",
       "    </tr>\n",
       "    <tr>\n",
       "      <th>881877</th>\n",
       "      <td>6100</td>\n",
       "      <td>691</td>\n",
       "      <td>4</td>\n",
       "    </tr>\n",
       "  </tbody>\n",
       "</table>\n",
       "</div>"
      ],
      "text/plain": [
       "        user_id movie_id  rating\n",
       "904556     5062      706       2\n",
       "171326     9044      148       4\n",
       "190893     1736      169       4\n",
       "1082109    5270      877       1\n",
       "881877     6100      691       4"
      ]
     },
     "execution_count": 16,
     "metadata": {},
     "output_type": "execute_result"
    }
   ],
   "source": [
    "test.head()"
   ]
  },
  {
   "cell_type": "code",
   "execution_count": 17,
   "metadata": {},
   "outputs": [],
   "source": [
    "#creating movie embedding path\n",
    "movie_input = Input(shape=[1], name=\"Movie-Input\")\n",
    "movie_embedding = Embedding(n_movies+1, 5, name=\"Movie-Embedding\")(movie_input)\n",
    "movie_vec = Flatten(name=\"Flatten-Movies\")(movie_embedding)\n",
    "\n",
    "# creating user embedding path\n",
    "user_input = Input(shape=[1], name=\"User-Input\")\n",
    "user_embedding = Embedding(n_users+1, 5, name=\"User-Embedding\")(user_input)\n",
    "user_vec = Flatten(name=\"Flatten-Users\")(user_embedding)\n",
    "\n",
    "# performing dot product and creating model\n",
    "prod = Dot(name=\"Dot-Product\", axes=1)([movie_vec, user_vec])\n",
    "model = Model([user_input, movie_input], prod)\n",
    "model.compile('adam', 'mean_squared_error')"
   ]
  },
  {
   "cell_type": "code",
   "execution_count": 30,
   "metadata": {},
   "outputs": [
    {
     "name": "stdout",
     "output_type": "stream",
     "text": [
      "Epoch 1/20\n",
      "1059256/1059256 [==============================] - 47s 45us/step - loss: 1.0136\n",
      "Epoch 2/20\n",
      "1059256/1059256 [==============================] - 43s 41us/step - loss: 1.0077\n",
      "Epoch 3/20\n",
      "1059256/1059256 [==============================] - 50s 47us/step - loss: 1.0009\n",
      "Epoch 4/20\n",
      "1059256/1059256 [==============================] - 35s 33us/step - loss: 0.9939\n",
      "Epoch 5/20\n",
      "1059256/1059256 [==============================] - 35s 33us/step - loss: 0.9851\n",
      "Epoch 6/20\n",
      "1059256/1059256 [==============================] - 50s 47us/step - loss: 0.9773\n",
      "Epoch 7/20\n",
      "1059256/1059256 [==============================] - 50s 47us/step - loss: 0.9701\n",
      "Epoch 8/20\n",
      "1059256/1059256 [==============================] - 50s 47us/step - loss: 0.9641\n",
      "Epoch 9/20\n",
      "1059256/1059256 [==============================] - 51s 48us/step - loss: 0.9594\n",
      "Epoch 10/20\n",
      "1059256/1059256 [==============================] - 51s 48us/step - loss: 0.9560\n",
      "Epoch 11/20\n",
      "1059256/1059256 [==============================] - 50s 47us/step - loss: 0.9529\n",
      "Epoch 12/20\n",
      "1059256/1059256 [==============================] - 51s 48us/step - loss: 0.9506\n",
      "Epoch 13/20\n",
      "1059256/1059256 [==============================] - 50s 47us/step - loss: 0.9487\n",
      "Epoch 14/20\n",
      "1059256/1059256 [==============================] - 50s 48us/step - loss: 0.9471\n",
      "Epoch 15/20\n",
      "1059256/1059256 [==============================] - 51s 48us/step - loss: 0.9458\n",
      "Epoch 16/20\n",
      "1059256/1059256 [==============================] - 51s 48us/step - loss: 0.9446\n",
      "Epoch 17/20\n",
      "1059256/1059256 [==============================] - 51s 48us/step - loss: 0.9437\n",
      "Epoch 18/20\n",
      "1059256/1059256 [==============================] - 51s 48us/step - loss: 0.9432\n",
      "Epoch 19/20\n",
      "1059256/1059256 [==============================] - 49s 46us/step - loss: 0.9422\n",
      "Epoch 20/20\n",
      "1059256/1059256 [==============================] - 48s 45us/step - loss: 0.9418\n"
     ]
    },
    {
     "data": {
      "image/png": "[encoded data removed]",
      "text/plain": [
       "<Figure size 432x288 with 1 Axes>"
      ]
     },
     "metadata": {
      "needs_background": "light"
     },
     "output_type": "display_data"
    }
   ],
   "source": [
    "from keras.models import load_model\n",
    "\n",
    "if os.path.exists('regression_model.h5'):\n",
    "    model = load_model('regression_model.h5')\n",
    "else:\n",
    "    history = model.fit([train.user_id, train.movie_id], train.rating, epochs=20, verbose=1)\n",
    "    model.save('regression_model.h5')\n",
    "    plt.plot(history.history['loss'])\n",
    "    plt.xlabel(\"Epochs\")\n",
    "    plt.ylabel(\"Training Error\")"
   ]
  },
  {
   "cell_type": "code",
   "execution_count": 31,
   "metadata": {},
   "outputs": [
    {
     "name": "stdout",
     "output_type": "stream",
     "text": [
      "117696/117696 [==============================] - 1s 13us/step\n"
     ]
    },
    {
     "data": {
      "text/plain": [
       "1.019817852322468"
      ]
     },
     "execution_count": 31,
     "metadata": {},
     "output_type": "execute_result"
    }
   ],
   "source": [
    "model.evaluate([test.user_id, test.movie_id], test.rating)"
   ]
  },
  {
   "cell_type": "code",
   "execution_count": 32,
   "metadata": {},
   "outputs": [
    {
     "name": "stdout",
     "output_type": "stream",
     "text": [
      "[3.3439445] 2\n",
      "[3.804296] 4\n",
      "[4.376895] 4\n",
      "[3.8162637] 1\n",
      "[3.729398] 4\n",
      "[5.1371527] 4\n",
      "[3.7215402] 5\n",
      "[4.634318] 4\n",
      "[4.6818557] 4\n",
      "[5.0189753] 5\n"
     ]
    },
    {
     "data": {
      "text/plain": [
       "[None, None, None, None, None, None, None, None, None, None]"
      ]
     },
     "execution_count": 32,
     "metadata": {},
     "output_type": "execute_result"
    }
   ],
   "source": [
    "pred = model.predict([test.user_id.head(10), test.movie_id.head(10)])\n",
    "\n",
    "[print(pred[i], test.rating.iloc[i]) for i in range(0,10)]"
   ]
  },
  {
   "cell_type": "code",
   "execution_count": 33,
   "metadata": {},
   "outputs": [],
   "source": [
    "prediction = model.predict([samples.user_id, samples.movie_id])"
   ]
  },
  {
   "cell_type": "code",
   "execution_count": 34,
   "metadata": {},
   "outputs": [],
   "source": [
    "for i in range(prediction.shape[0]):\n",
    "    prediction[i] = int(prediction[i])\n",
    "    if (prediction[i] < 1):\n",
    "        prediction[i] = 1\n",
    "    elif (prediction[i] > 5):\n",
    "        prediction[i] = 5"
   ]
  },
  {
   "cell_type": "code",
   "execution_count": 35,
   "metadata": {
    "scrolled": true
   },
   "outputs": [],
   "source": [
    "submission = load_data(DATA_TEST_PATH)\n",
    "submission['rating'] = prediction"
   ]
  },
  {
   "cell_type": "code",
   "execution_count": 36,
   "metadata": {
    "scrolled": false
   },
   "outputs": [],
   "source": [
    "from helpers import create_csv\n",
    "\n",
    "DATA_SUBMISSION = \"data/submission_dotprod1.csv\"\n",
    "create_csv(DATA_SUBMISSION, submission)"
   ]
  },
  {
   "cell_type": "markdown",
   "metadata": {},
   "source": [
    "Dot Product with RMSE using librairies : pandas and keras - AICrowd : 1.166"
   ]
  },
  {
   "cell_type": "markdown",
   "metadata": {},
   "source": [
    "The score stays the same when we increase 'epoch'."
   ]
  },
  {
   "cell_type": "code",
   "execution_count": null,
   "metadata": {},
   "outputs": [],
   "source": []
  }
 ],
 "metadata": {
  "kernelspec": {
   "display_name": "Python 3",
   "language": "python",
   "name": "python3"
  },
  "language_info": {
   "codemirror_mode": {
    "name": "ipython",
    "version": 3
   },
   "file_extension": ".py",
   "mimetype": "text/x-python",
   "name": "python",
   "nbconvert_exporter": "python",
   "pygments_lexer": "ipython3",
   "version": "3.7.3"
  }
 },
 "nbformat": 4,
 "nbformat_minor": 2
}
