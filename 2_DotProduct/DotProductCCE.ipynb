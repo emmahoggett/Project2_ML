{
 "cells": [
  {
   "cell_type": "markdown",
   "metadata": {},
   "source": [
    "# Dot Product with Categorical Cross Entropy (CCE) loss function"
   ]
  },
  {
   "cell_type": "markdown",
   "metadata": {},
   "source": [
    "Recommender system with categorical cross entropy loss function with cross validation"
   ]
  },
  {
   "cell_type": "code",
   "execution_count": 1,
   "metadata": {},
   "outputs": [
    {
     "name": "stderr",
     "output_type": "stream",
     "text": [
      "Using TensorFlow backend.\n"
     ]
    }
   ],
   "source": [
    "import numpy as np\n",
    "import pandas as pd\n",
    "import os\n",
    "import matplotlib.pyplot as plt\n",
    "\n",
    "from keras.models import Sequential\n",
    "from keras.layers import Dense\n",
    "from keras.wrappers.scikit_learn import KerasClassifier\n",
    "from keras.utils import np_utils\n",
    "from sklearn.model_selection import cross_val_score\n",
    "from sklearn.model_selection import KFold\n",
    "from sklearn.preprocessing import LabelEncoder\n",
    "from sklearn.pipeline import Pipeline"
   ]
  },
  {
   "cell_type": "markdown",
   "metadata": {},
   "source": [
    "## Data - preprocessing"
   ]
  },
  {
   "cell_type": "code",
   "execution_count": 2,
   "metadata": {},
   "outputs": [],
   "source": [
    "from helpers import load_data\n",
    "\n",
    "DATA_TRAIN_PATH = \"data/data_train.csv\"\n",
    "ratings = load_data(DATA_TRAIN_PATH)\n",
    "\n",
    "DATA_TEST_PATH = \"data/sampleSubmission.csv\"\n",
    "samples = load_data(DATA_TEST_PATH)"
   ]
  },
  {
   "cell_type": "code",
   "execution_count": 3,
   "metadata": {},
   "outputs": [],
   "source": [
    "n_users = len(ratings.user_id.unique())\n",
    "n_movies = len(ratings.movie_id.unique())"
   ]
  },
  {
   "cell_type": "code",
   "execution_count": 4,
   "metadata": {},
   "outputs": [
    {
     "name": "stderr",
     "output_type": "stream",
     "text": [
      "/home/louise/anaconda3/lib/python3.7/site-packages/ipykernel_launcher.py:10: SettingWithCopyWarning: \n",
      "A value is trying to be set on a copy of a slice from a DataFrame.\n",
      "Try using .loc[row_indexer,col_indexer] = value instead\n",
      "\n",
      "See the caveats in the documentation: http://pandas.pydata.org/pandas-docs/stable/user_guide/indexing.html#returning-a-view-versus-a-copy\n",
      "  # Remove the CWD from sys.path while we load stuff.\n",
      "/home/louise/anaconda3/lib/python3.7/site-packages/ipykernel_launcher.py:11: SettingWithCopyWarning: \n",
      "A value is trying to be set on a copy of a slice from a DataFrame.\n",
      "Try using .loc[row_indexer,col_indexer] = value instead\n",
      "\n",
      "See the caveats in the documentation: http://pandas.pydata.org/pandas-docs/stable/user_guide/indexing.html#returning-a-view-versus-a-copy\n",
      "  # This is added back by InteractiveShellApp.init_path()\n",
      "/home/louise/anaconda3/lib/python3.7/site-packages/ipykernel_launcher.py:14: SettingWithCopyWarning: \n",
      "A value is trying to be set on a copy of a slice from a DataFrame.\n",
      "Try using .loc[row_indexer,col_indexer] = value instead\n",
      "\n",
      "See the caveats in the documentation: http://pandas.pydata.org/pandas-docs/stable/user_guide/indexing.html#returning-a-view-versus-a-copy\n",
      "  \n",
      "/home/louise/anaconda3/lib/python3.7/site-packages/ipykernel_launcher.py:15: SettingWithCopyWarning: \n",
      "A value is trying to be set on a copy of a slice from a DataFrame.\n",
      "Try using .loc[row_indexer,col_indexer] = value instead\n",
      "\n",
      "See the caveats in the documentation: http://pandas.pydata.org/pandas-docs/stable/user_guide/indexing.html#returning-a-view-versus-a-copy\n",
      "  from ipykernel import kernelapp as app\n",
      "/home/louise/anaconda3/lib/python3.7/site-packages/ipykernel_launcher.py:17: SettingWithCopyWarning: \n",
      "A value is trying to be set on a copy of a slice from a DataFrame.\n",
      "Try using .loc[row_indexer,col_indexer] = value instead\n",
      "\n",
      "See the caveats in the documentation: http://pandas.pydata.org/pandas-docs/stable/user_guide/indexing.html#returning-a-view-versus-a-copy\n",
      "/home/louise/anaconda3/lib/python3.7/site-packages/ipykernel_launcher.py:18: SettingWithCopyWarning: \n",
      "A value is trying to be set on a copy of a slice from a DataFrame.\n",
      "Try using .loc[row_indexer,col_indexer] = value instead\n",
      "\n",
      "See the caveats in the documentation: http://pandas.pydata.org/pandas-docs/stable/user_guide/indexing.html#returning-a-view-versus-a-copy\n"
     ]
    }
   ],
   "source": [
    "from sklearn.model_selection import train_test_split, KFold\n",
    "\n",
    "# split of the data: 0.9 train, 0.1 test\n",
    "train, test = train_test_split(ratings, test_size=0.1, random_state=42)\n",
    "\n",
    "#######################\n",
    "# A mettre dans une focntion : to_categorical\n",
    "\n",
    "user_enc = LabelEncoder()\n",
    "train['user'] = user_enc.fit_transform(train['user_id'].values)\n",
    "test['user'] = user_enc.fit_transform(test['user_id'].values)\n",
    "\n",
    "item_enc = LabelEncoder()\n",
    "train['movie'] = item_enc.fit_transform(train['movie_id'].values)\n",
    "test['movie'] = item_enc.fit_transform(test['movie_id'].values)\n",
    "\n",
    "train['rating'] = train['rating'].values.astype(np.int)\n",
    "test['rating'] = test['rating'].values.astype(np.int)\n",
    "    \n",
    "X_train = train[['user', 'movie']].values\n",
    "y_train = train ['rating']\n",
    "    \n",
    "X_test = test[['user', 'movie']].values\n",
    "y_test = test ['rating']\n",
    "    \n",
    "X_train_array = [X_train[:,0], X_train[:,1]]\n",
    "X_test_array = [X_test[:,0], X_test[:,1]]\n",
    "    \n",
    "encoder = LabelEncoder()\n",
    "encoder.fit(y_train)\n",
    "encoder_train = encoder.transform(y_train)\n",
    "encoder_test = encoder.transform(y_test)\n",
    "\n",
    "y_train = np_utils.to_categorical(encoder_train)\n",
    "y_test = np_utils.to_categorical(encoder_test)"
   ]
  },
  {
   "cell_type": "markdown",
   "metadata": {},
   "source": [
    "## Neural network model "
   ]
  },
  {
   "cell_type": "code",
   "execution_count": 36,
   "metadata": {},
   "outputs": [],
   "source": [
    "from keras.models import Model,load_model\n",
    "from keras.layers import Input, Reshape, Dot, Flatten\n",
    "from keras.layers import Concatenate, Dense, Dropout, Input, Reshape, Dot\n",
    "from keras.layers.embeddings import Embedding\n",
    "from keras.optimizers import Adam\n",
    "from keras.regularizers import l2\n",
    "from keras_radam import RAdam\n",
    "\n",
    "K=25;\n",
    "\n",
    "class EmbeddingLayer:\n",
    "    \"\"\"Set embedding layer class\"\"\"\n",
    "    def __init__(self, n_items, n_factors):\n",
    "        self.n_items = n_items\n",
    "        self.n_factors = n_factors\n",
    "    \n",
    "    def __call__(self, x):\n",
    "        x = Embedding(self.n_items, self.n_factors, embeddings_initializer='he_normal',\n",
    "                      embeddings_regularizer=l2(1e-6))(x)\n",
    "        x = Reshape((self.n_factors,))(x)\n",
    "        return x\n",
    "\n",
    "\n",
    "def create_cce(n_users, n_movies, K, opt = RAdam()):\n",
    "    \n",
    "    # Input layer\n",
    "    user = Input(shape=(1,))\n",
    "    movie = Input(shape=(1,))\n",
    "    \n",
    "    # Embedding layers\n",
    "    u = EmbeddingLayer(n_users, K)(user)\n",
    "    \n",
    "    m = EmbeddingLayer(n_movies, K)(movie)\n",
    "\n",
    "#     ici changer pour mettre un dot product !!\n",
    "#     x = Concatenate()([u, m])\n",
    "#     x = Dropout(0.3)(x)\n",
    "    \n",
    "    prod = Dot(name=\"Dot-Product\", axes=1)([u, m])\n",
    "    \n",
    "    # Output layer\n",
    "    x = Dense(5, activation='softmax', kernel_initializer='he_normal')(prod)\n",
    "    \n",
    "    # Hidden layers\n",
    "#     x = Dense(n_neurons, activation='relu', kernel_initializer='he_normal')(x)\n",
    "#     x = Dropout(dropout)(x)\n",
    "    \n",
    "    model = Model([user, movie], x)\n",
    "    model.compile(optimizer='sgd', loss='categorical_crossentropy', metrics=['accuracy', 'categorical_accuracy'])\n",
    "    \n",
    "    return model"
   ]
  },
  {
   "cell_type": "code",
   "execution_count": 37,
   "metadata": {},
   "outputs": [
    {
     "name": "stdout",
     "output_type": "stream",
     "text": [
      "Model: \"model_9\"\n",
      "__________________________________________________________________________________________________\n",
      "Layer (type)                    Output Shape         Param #     Connected to                     \n",
      "==================================================================================================\n",
      "input_17 (InputLayer)           (None, 1)            0                                            \n",
      "__________________________________________________________________________________________________\n",
      "input_18 (InputLayer)           (None, 1)            0                                            \n",
      "__________________________________________________________________________________________________\n",
      "embedding_17 (Embedding)        (None, 1, 25)        250000      input_17[0][0]                   \n",
      "__________________________________________________________________________________________________\n",
      "embedding_18 (Embedding)        (None, 1, 25)        25000       input_18[0][0]                   \n",
      "__________________________________________________________________________________________________\n",
      "reshape_17 (Reshape)            (None, 25)           0           embedding_17[0][0]               \n",
      "__________________________________________________________________________________________________\n",
      "reshape_18 (Reshape)            (None, 25)           0           embedding_18[0][0]               \n",
      "__________________________________________________________________________________________________\n",
      "Dot-Product (Dot)               (None, 1)            0           reshape_17[0][0]                 \n",
      "                                                                 reshape_18[0][0]                 \n",
      "__________________________________________________________________________________________________\n",
      "dense_9 (Dense)                 (None, 5)            10          Dot-Product[0][0]                \n",
      "==================================================================================================\n",
      "Total params: 275,010\n",
      "Trainable params: 275,010\n",
      "Non-trainable params: 0\n",
      "__________________________________________________________________________________________________\n"
     ]
    }
   ],
   "source": [
    "model = create_cce(n_users, n_movies, K)\n",
    "model.summary()"
   ]
  },
  {
   "cell_type": "code",
   "execution_count": null,
   "metadata": {},
   "outputs": [
    {
     "name": "stdout",
     "output_type": "stream",
     "text": [
      "Epoch 1/20\n",
      "1059256/1059256 [==============================] - 8s 7us/step - loss: 1.4587 - accuracy: 0.3692 - categorical_accuracy: 0.3692\n",
      "Epoch 2/20\n",
      "1059256/1059256 [==============================] - 7s 7us/step - loss: 1.4002 - accuracy: 0.3697 - categorical_accuracy: 0.3697\n",
      "Epoch 3/20\n",
      "1059256/1059256 [==============================] - 6s 6us/step - loss: 1.3947 - accuracy: 0.3697 - categorical_accuracy: 0.3697\n",
      "Epoch 4/20\n",
      "1059256/1059256 [==============================] - 6s 5us/step - loss: 1.3936 - accuracy: 0.3697 - categorical_accuracy: 0.3697\n",
      "Epoch 5/20\n",
      "1059256/1059256 [==============================] - 5s 5us/step - loss: 1.3932 - accuracy: 0.3697 - categorical_accuracy: 0.3697\n",
      "Epoch 6/20\n",
      "1059256/1059256 [==============================] - 5s 5us/step - loss: 1.3931 - accuracy: 0.3697 - categorical_accuracy: 0.3697\n",
      "Epoch 7/20\n",
      "1059256/1059256 [==============================] - 6s 5us/step - loss: 1.3930 - accuracy: 0.3697 - categorical_accuracy: 0.3697\n",
      "Epoch 8/20\n",
      "1059256/1059256 [==============================] - 5s 5us/step - loss: 1.3930 - accuracy: 0.3697 - categorical_accuracy: 0.3697\n",
      "Epoch 9/20\n",
      "1059256/1059256 [==============================] - 5s 5us/step - loss: 1.3930 - accuracy: 0.3697 - categorical_accuracy: 0.3697\n",
      "Epoch 10/20\n",
      "1059256/1059256 [==============================] - 6s 5us/step - loss: 1.3930 - accuracy: 0.3697 - categorical_accuracy: 0.3697\n",
      "Epoch 11/20\n",
      "1059256/1059256 [==============================] - 6s 5us/step - loss: 1.3930 - accuracy: 0.3697 - categorical_accuracy: 0.3697\n",
      "Epoch 12/20\n",
      "1059256/1059256 [==============================] - 5s 5us/step - loss: 1.3930 - accuracy: 0.3697 - categorical_accuracy: 0.3697\n",
      "Epoch 13/20\n",
      "1059256/1059256 [==============================] - 6s 5us/step - loss: 1.3930 - accuracy: 0.3697 - categorical_accuracy: 0.3697\n",
      "Epoch 14/20\n",
      "1059256/1059256 [==============================] - 5s 5us/step - loss: 1.3930 - accuracy: 0.3697 - categorical_accuracy: 0.3697\n",
      "Epoch 15/20\n",
      "1059256/1059256 [==============================] - 6s 5us/step - loss: 1.3930 - accuracy: 0.3697 - categorical_accuracy: 0.3697\n",
      "Epoch 16/20\n",
      "1059256/1059256 [==============================] - 5s 5us/step - loss: 1.3930 - accuracy: 0.3697 - categorical_accuracy: 0.3697\n",
      "Epoch 17/20\n",
      " 497000/1059256 [=============>................] - ETA: 4s - loss: 1.3929 - accuracy: 0.3696 - categorical_accuracy: 0.3696"
     ]
    }
   ],
   "source": [
    "history = model.fit(X_train_array, y_train, batch_size=1000, epochs=20, verbose=1)\n",
    "#     plt.plot(history.history['val_loss'])\n",
    "#     plt.xlabel(\"Epochs\")\n",
    "#     plt.ylabel(\"Test Error\")"
   ]
  },
  {
   "cell_type": "code",
   "execution_count": 35,
   "metadata": {},
   "outputs": [
    {
     "name": "stdout",
     "output_type": "stream",
     "text": [
      "117696/117696 [==============================] - 4s 33us/step\n"
     ]
    },
    {
     "data": {
      "text/plain": [
       "[1.3945127342497934, 0.3704459071159363, 0.3704459071159363]"
      ]
     },
     "execution_count": 35,
     "metadata": {},
     "output_type": "execute_result"
    }
   ],
   "source": [
    "model.evaluate(X_test_array, y_test)"
   ]
  },
  {
   "cell_type": "code",
   "execution_count": 22,
   "metadata": {},
   "outputs": [],
   "source": [
    "user_enc_samples = LabelEncoder()\n",
    "samples['user'] = user_enc.fit_transform(samples['user_id'].values)\n",
    "\n",
    "item_enc = LabelEncoder()\n",
    "samples['movie'] = item_enc.fit_transform(samples['movie_id'].values)\n",
    "\n",
    "samples['rating'] = samples['rating'].values.astype(np.int)\n",
    "    \n",
    "X_samples = samples[['user', 'movie']].values\n",
    "\n",
    "X_samples_array = [X_samples[:,0], X_samples[:,1]]\n",
    "\n",
    "samples_pred = model.predict(X_samples_array)"
   ]
  },
  {
   "cell_type": "code",
   "execution_count": 23,
   "metadata": {},
   "outputs": [],
   "source": [
    "rating_samples = (np.argmax(samples_pred,1)+1).tolist()"
   ]
  },
  {
   "cell_type": "code",
   "execution_count": 24,
   "metadata": {},
   "outputs": [],
   "source": [
    "submission = load_data(DATA_TEST_PATH)\n",
    "submission['rating'] = rating_samples"
   ]
  },
  {
   "cell_type": "code",
   "execution_count": 25,
   "metadata": {},
   "outputs": [],
   "source": [
    "from helpers import create_csv\n",
    "\n",
    "DATA_SUBMISSION = \"data/submission_dotprodCCE.csv\"\n",
    "create_csv(DATA_SUBMISSION, submission)"
   ]
  },
  {
   "cell_type": "markdown",
   "metadata": {},
   "source": [
    "Results AICrowd : RMSE = ... ; Secondary = ..."
   ]
  },
  {
   "cell_type": "code",
   "execution_count": null,
   "metadata": {},
   "outputs": [],
   "source": []
  }
 ],
 "metadata": {
  "kernelspec": {
   "display_name": "Python 3",
   "language": "python",
   "name": "python3"
  },
  "language_info": {
   "codemirror_mode": {
    "name": "ipython",
    "version": 3
   },
   "file_extension": ".py",
   "mimetype": "text/x-python",
   "name": "python",
   "nbconvert_exporter": "python",
   "pygments_lexer": "ipython3",
   "version": "3.7.3"
  }
 },
 "nbformat": 4,
 "nbformat_minor": 2
}
