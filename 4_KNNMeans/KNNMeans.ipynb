{
 "cells": [
  {
   "cell_type": "code",
   "execution_count": 9,
   "metadata": {},
   "outputs": [
    {
     "name": "stdout",
     "output_type": "stream",
     "text": [
      "The autoreload extension is already loaded. To reload it, use:\n",
      "  %reload_ext autoreload\n"
     ]
    }
   ],
   "source": [
    "# Imports\n",
    "\n",
    "import pandas as pd\n",
    "\n",
    "import matplotlib.pyplot as plt\n",
    "%matplotlib inline\n",
    "\n",
    "from surprise import Dataset\n",
    "from surprise import Reader\n",
    "from surprise.model_selection import cross_validate\n",
    "from surprise.model_selection import GridSearchCV\n",
    "from surprise import KNNBasic, KNNWithMeans, KNNWithZScore\n",
    "from surprise import SVD, SVDpp, NMF\n",
    "from surprise import SlopeOne, CoClustering\n",
    "from sklearn.model_selection import train_test_split\n",
    "\n",
    "\n",
    "%load_ext autoreload\n",
    "%autoreload 2\n"
   ]
  },
  {
   "cell_type": "code",
   "execution_count": 10,
   "metadata": {},
   "outputs": [],
   "source": [
    "from helpersKNNmeans import*\n",
    "\n",
    "# Load dataset and samples into a pandas data frame\n",
    "DATA_TRAIN_PATH = 'data/data_train.csv'\n",
    "data_np = load_data(DATA_TRAIN_PATH)\n",
    "\n",
    "\n",
    "DATA_TEST_PATH = 'data/sampleSubmission.csv'\n",
    "samples = load_data(DATA_TEST_PATH)"
   ]
  },
  {
   "cell_type": "code",
   "execution_count": 11,
   "metadata": {},
   "outputs": [],
   "source": [
    "reader = Reader(rating_scale=(1, 5))\n",
    "data = Dataset.load_from_df(data_np[['user_id', 'movie_id', 'rating']], reader=reader)"
   ]
  },
  {
   "cell_type": "code",
   "execution_count": 12,
   "metadata": {},
   "outputs": [],
   "source": [
    "train_data_np, test_data_np = train_test_split(data_np[['user_id', 'movie_id', 'rating']], test_size = 0.2 ,random_state=1)\n",
    "train_data = Dataset.load_from_df(train_data_np[['user_id', 'movie_id', 'rating']], reader=reader)"
   ]
  },
  {
   "cell_type": "markdown",
   "metadata": {},
   "source": [
    "## Predictions"
   ]
  },
  {
   "cell_type": "code",
   "execution_count": 13,
   "metadata": {},
   "outputs": [
    {
     "name": "stdout",
     "output_type": "stream",
     "text": [
      "Computing the msd similarity matrix...\n",
      "Done computing similarity matrix.\n"
     ]
    }
   ],
   "source": [
    "trainset = data.build_full_trainset()\n",
    "sim_options = {'name':'msd','user_based': True}\n",
    "knnbasic_algo = KNNBasic(k = 253, sim_options =sim_options).fit(trainset)\n",
    "\n",
    "samples['knnbasic_user_rating'] = samples[['user_id', 'movie_id']] \\\n",
    ".apply(lambda row: knnbasic_algo.predict(row['user_id'], row['movie_id'])[3], axis=1).round(decimals = 4)\n",
    "\n",
    "PATHOUT = \"knnbasic_user_submission.csv\"\n",
    "samples.to_csv(PATHOUT)"
   ]
  },
  {
   "cell_type": "code",
   "execution_count": null,
   "metadata": {},
   "outputs": [
    {
     "name": "stdout",
     "output_type": "stream",
     "text": [
      "Computing the msd similarity matrix...\n",
      "Done computing similarity matrix.\n"
     ]
    }
   ],
   "source": [
    "trainset = data.build_full_trainset()\n",
    "samples = samples[['user_id', 'movie_id']].copy()\n",
    "sim_options = {'name':'msd','user_based': False}\n",
    "knnbasic_algo = KNNBasic(k = 23, sim_options =sim_options).fit(trainset)\n",
    "\n",
    "samples['knnbasic_item_rating'] = samples[['user_id', 'movie_id']] \\\n",
    ".apply(lambda row: knnbasic_algo.predict(row['user_id'], row['movie_id'])[3], axis=1).round(decimals = 5)\n",
    "\n",
    "PATHOUT = \"knnbasic_item_submission.csv\"\n",
    "samples.to_csv(PATHOUT)"
   ]
  },
  {
   "cell_type": "code",
   "execution_count": 6,
   "metadata": {},
   "outputs": [
    {
     "name": "stdout",
     "output_type": "stream",
     "text": [
      "Computing the msd similarity matrix...\n",
      "Done computing similarity matrix.\n"
     ]
    }
   ],
   "source": [
    "trainset = data.build_full_trainset()\n",
    "samples = samples[['user_id', 'movie_id']].copy()\n",
    "trainset = data.build_full_trainset()\n",
    "sim_options = {'name':'msd','user_based': True}\n",
    "knnmeans_algo = KNNWithMeans(k = 500, sim_options =sim_options).fit(trainset)\n",
    "\n",
    "samples['knnmeans_user_rating'] = samples[['user_id', 'movie_id']] \\\n",
    ".apply(lambda row: knnmeans_algo.predict(row['user_id'], row['movie_id'])[3], axis=1).round(decimals = 4)\n",
    "\n",
    "PATHOUT = \"knnmeans_user_submission.csv\"\n",
    "samples.to_csv(PATHOUT)"
   ]
  },
  {
   "cell_type": "code",
   "execution_count": 14,
   "metadata": {},
   "outputs": [
    {
     "name": "stdout",
     "output_type": "stream",
     "text": [
      "Estimating biases using als...\n",
      "Computing the pearson_baseline similarity matrix...\n",
      "Done computing similarity matrix.\n"
     ]
    }
   ],
   "source": [
    "trainset = data.build_full_trainset()\n",
    "samples = samples[['user_id', 'movie_id']].copy()\n",
    "sim_options = {'name':'pearson_baseline','user_based': False}\n",
    "knnmeans_algo = KNNWithMeans(k = 108, sim_options =sim_options).fit(trainset)\n",
    "\n",
    "samples['knnmeans_item_rating'] = samples[['user_id', 'movie_id']] \\\n",
    ".apply(lambda row: knnmeans_algo.predict(row['user_id'], row['movie_id'])[3], axis=1).round(decimals = 4)\n",
    "\n",
    "\n",
    "PATHOUT = \"knnmeans_item_submission.csv\"\n",
    "samples.to_csv(PATHOUT)"
   ]
  },
  {
   "cell_type": "code",
   "execution_count": 8,
   "metadata": {},
   "outputs": [
    {
     "name": "stdout",
     "output_type": "stream",
     "text": [
      "Computing the msd similarity matrix...\n",
      "Done computing similarity matrix.\n"
     ]
    }
   ],
   "source": [
    "trainset = data.build_full_trainset()\n",
    "samples = samples[['user_id', 'movie_id']].copy()\n",
    "\n",
    "sim_options = {'name':'msd','user_based': True}\n",
    "knnz_algo = KNNWithZScore(k = 500, sim_options =sim_options).fit(trainset)\n",
    "\n",
    "samples['knnzscore_user_rating'] = samples[['user_id', 'movie_id']] \\\n",
    ".apply(lambda row: knnz_algo.predict(row['user_id'], row['movie_id'])[3], axis=1).round(decimals = 4)\n",
    "\n",
    "PATHOUT = \"knnzscore_user_submission.csv\"\n",
    "samples.to_csv(PATHOUT)"
   ]
  },
  {
   "cell_type": "code",
   "execution_count": 14,
   "metadata": {},
   "outputs": [
    {
     "name": "stdout",
     "output_type": "stream",
     "text": [
      "Estimating biases using als...\n",
      "Computing the pearson_baseline similarity matrix...\n",
      "Done computing similarity matrix.\n"
     ]
    }
   ],
   "source": [
    "trainset = data.build_full_trainset()\n",
    "samples = samples[['user_id', 'movie_id']].copy()\n",
    "\n",
    "sim_options = {'name':'pearson_baseline','user_based': False}\n",
    "knnz_algo = KNNWithZScore(k = 108, sim_options =sim_options).fit(trainset)\n",
    "\n",
    "samples['knnzscore_item_rating'] = samples[['user_id', 'movie_id']] \\\n",
    ".apply(lambda row: knnz_algo.predict(row['user_id'], row['movie_id'])[3], axis=1).round(decimals = 4)\n",
    "\n",
    "PATHOUT = \"knnzscore_item_submission.csv\"\n",
    "samples.to_csv(PATHOUT)"
   ]
  },
  {
   "cell_type": "code",
   "execution_count": 5,
   "metadata": {},
   "outputs": [
    {
     "name": "stdout",
     "output_type": "stream",
     "text": [
      "Computing the msd similarity matrix...\n",
      "Done computing similarity matrix.\n",
      "Computing the msd similarity matrix...\n",
      "Done computing similarity matrix.\n"
     ]
    }
   ],
   "source": [
    "trainset = train_data.build_full_trainset()\n",
    "sim_options = {'name':'msd','user_based': True}\n",
    "knnbasic_algo = KNNBasic(k = 253, sim_options =sim_options).fit(trainset)\n",
    "\n",
    "test_data_np['knnbasic_user_rating'] = test_data_np[['user_id', 'movie_id']] \\\n",
    ".apply(lambda row: knnbasic_algo.predict(row['user_id'], row['movie_id'])[3], axis=1).round(decimals = 4)\n",
    "\n",
    "sim_options = {'name':'msd','user_based': False}\n",
    "knnbasic_algo = KNNBasic(k = 23, sim_options =sim_options).fit(trainset)\n",
    "\n",
    "test_data_np['knnbasic_item_rating'] = test_data_np[['user_id', 'movie_id']] \\\n",
    ".apply(lambda row: knnbasic_algo.predict(row['user_id'], row['movie_id'])[3], axis=1).round(decimals = 4)\n",
    "\n",
    "PATHOUT = \"knnbasic_test.csv\"\n",
    "test_data_np.to_csv(PATHOUT)"
   ]
  },
  {
   "cell_type": "code",
   "execution_count": 6,
   "metadata": {},
   "outputs": [
    {
     "name": "stdout",
     "output_type": "stream",
     "text": [
      "Computing the msd similarity matrix...\n",
      "Done computing similarity matrix.\n",
      "Estimating biases using als...\n",
      "Computing the pearson_baseline similarity matrix...\n",
      "Done computing similarity matrix.\n"
     ]
    }
   ],
   "source": [
    "trainset = train_data.build_full_trainset()\n",
    "test_data_np = test_data_np[['user_id', 'movie_id']].copy()\n",
    "sim_options = {'name':'msd','user_based': True}\n",
    "knnmeans_algo = KNNWithMeans(k = 500, sim_options =sim_options).fit(trainset)\n",
    "\n",
    "test_data_np['knnmeans_user_rating'] = test_data_np[['user_id', 'movie_id']] \\\n",
    ".apply(lambda row: knnmeans_algo.predict(row['user_id'], row['movie_id'])[3], axis=1).round(decimals = 4)\n",
    "\n",
    "sim_options = {'name':'pearson_baseline','user_based': False}\n",
    "knnmeans_algo = KNNWithMeans(k = 108, sim_options =sim_options).fit(trainset)\n",
    "\n",
    "test_data_np['knnmeans_item_rating'] = test_data_np[['user_id', 'movie_id']] \\\n",
    ".apply(lambda row: knnmeans_algo.predict(row['user_id'], row['movie_id'])[3], axis=1).round(decimals = 4)\n",
    "\n",
    "\n",
    "PATHOUT = \"knnmeans_test.csv\"\n",
    "test_data_np.to_csv(PATHOUT)"
   ]
  },
  {
   "cell_type": "code",
   "execution_count": 7,
   "metadata": {},
   "outputs": [
    {
     "name": "stdout",
     "output_type": "stream",
     "text": [
      "Computing the msd similarity matrix...\n",
      "Done computing similarity matrix.\n",
      "Estimating biases using als...\n",
      "Computing the pearson_baseline similarity matrix...\n",
      "Done computing similarity matrix.\n"
     ]
    }
   ],
   "source": [
    "trainset = train_data.build_full_trainset()\n",
    "test_data_np = test_data_np[['user_id', 'movie_id']].copy()\n",
    "\n",
    "sim_options = {'name':'msd','user_based': True}\n",
    "knnz_algo = KNNWithZScore(k = 500, sim_options =sim_options).fit(trainset)\n",
    "\n",
    "test_data_np['knnzscore_user_rating'] = test_data_np[['user_id', 'movie_id']] \\\n",
    ".apply(lambda row: knnz_algo.predict(row['user_id'], row['movie_id'])[3], axis=1).round(decimals = 4)\n",
    "\n",
    "sim_options = {'name':'pearson_baseline','user_based': False}\n",
    "knnz_algo = KNNWithZScore(k = 108, sim_options =sim_options).fit(trainset)\n",
    "\n",
    "test_data_np['knnzscore_item_rating'] = test_data_np[['user_id', 'movie_id']] \\\n",
    ".apply(lambda row: knnz_algo.predict(row['user_id'], row['movie_id'])[3], axis=1).round(decimals = 4)\n",
    "\n",
    "PATHOUT = \"knnzscore_test.csv\"\n",
    "test_data_np.to_csv(PATHOUT)"
   ]
  }
 ],
 "metadata": {
  "kernelspec": {
   "display_name": "Python 3",
   "language": "python",
   "name": "python3"
  },
  "language_info": {
   "codemirror_mode": {
    "name": "ipython",
    "version": 3
   },
   "file_extension": ".py",
   "mimetype": "text/x-python",
   "name": "python",
   "nbconvert_exporter": "python",
   "pygments_lexer": "ipython3",
   "version": "3.7.3"
  },
  "pycharm": {
   "stem_cell": {
    "cell_type": "raw",
    "metadata": {
     "collapsed": false
    },
    "source": []
   }
  }
 },
 "nbformat": 4,
 "nbformat_minor": 2
}
