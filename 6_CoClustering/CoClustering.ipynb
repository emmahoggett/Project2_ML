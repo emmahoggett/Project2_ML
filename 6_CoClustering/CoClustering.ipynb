{
 "cells": [
  {
   "cell_type": "code",
   "execution_count": 5,
   "metadata": {},
   "outputs": [
    {
     "name": "stdout",
     "output_type": "stream",
     "text": [
      "The autoreload extension is already loaded. To reload it, use:\n",
      "  %reload_ext autoreload\n"
     ]
    }
   ],
   "source": [
    "# Imports\n",
    "import pandas as pd\n",
    "\n",
    "import matplotlib.pyplot as plt\n",
    "%matplotlib inline\n",
    "\n",
    "from surprise import Dataset\n",
    "from surprise import Reader\n",
    "from surprise.model_selection import cross_validate\n",
    "from surprise.model_selection import GridSearchCV\n",
    "from surprise import KNNBasic, KNNWithMeans, KNNWithZScore\n",
    "from surprise import SVD, SVDpp, NMF\n",
    "from surprise import SlopeOne, CoClustering\n",
    "from surprise.prediction_algorithms import predictions\n",
    "\n",
    "%load_ext autoreload\n",
    "%autoreload 2"
   ]
  },
  {
   "cell_type": "code",
   "execution_count": 6,
   "metadata": {},
   "outputs": [],
   "source": [
    "from helpersCoClustering import*\n",
    "\n",
    "# Load dataset and samples into a pandas data frame\n",
    "DATA_TRAIN_PATH = 'data/data_train.csv'\n",
    "data_np = load_data(DATA_TRAIN_PATH)\n",
    "\n",
    "\n",
    "DATA_TEST_PATH = 'data/sampleSubmission.csv'\n",
    "samples = load_data(DATA_TEST_PATH)"
   ]
  },
  {
   "cell_type": "code",
   "execution_count": 7,
   "metadata": {},
   "outputs": [],
   "source": [
    "reader = Reader(rating_scale=(1, 5))\n",
    "data = Dataset.load_from_df(data_np[['user_id', 'movie_id', 'rating']], reader=reader)"
   ]
  },
  {
   "cell_type": "code",
   "execution_count": 8,
   "metadata": {},
   "outputs": [],
   "source": [
    "coclus_cv = cross_validate(CoClustering(), data, cv=5, n_jobs=5, verbose=False)"
   ]
  },
  {
   "cell_type": "code",
   "execution_count": 9,
   "metadata": {},
   "outputs": [
    {
     "name": "stdout",
     "output_type": "stream",
     "text": [
      "CoClustering \t 1.0108 \t 0.8133\n"
     ]
    }
   ],
   "source": [
    "print('CoClustering', '\\t', round(coclus_cv['test_rmse'].mean(), 4), '\\t', round(coclus_cv['test_mae'].mean(), 4))"
   ]
  },
  {
   "cell_type": "code",
   "execution_count": null,
   "metadata": {},
   "outputs": [],
   "source": []
  }
 ],
 "metadata": {
  "kernelspec": {
   "display_name": "Python 3",
   "language": "python",
   "name": "python3"
  },
  "language_info": {
   "codemirror_mode": {
    "name": "ipython",
    "version": 3
   },
   "file_extension": ".py",
   "mimetype": "text/x-python",
   "name": "python",
   "nbconvert_exporter": "python",
   "pygments_lexer": "ipython3",
   "version": "3.7.3"
  }
 },
 "nbformat": 4,
 "nbformat_minor": 2
}
