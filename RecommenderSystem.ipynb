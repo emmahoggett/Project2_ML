{
 "cells": [
  {
   "cell_type": "markdown",
   "metadata": {},
   "source": [
    "# Recommender system"
   ]
  },
  {
   "cell_type": "markdown",
   "metadata": {},
   "source": [
    "## 1. Prerequiste"
   ]
  },
  {
   "cell_type": "markdown",
   "metadata": {},
   "source": [
    "Load of the libraries"
   ]
  },
  {
   "cell_type": "code",
   "execution_count": 1,
   "metadata": {},
   "outputs": [],
   "source": [
    "from __future__ import absolute_import, division, print_function, unicode_literals\n",
    "\n",
    "# TensorFlow\n",
    "import tensorflow as tf\n",
    "import numpy as np\n",
    "import scipy\n",
    "import scipy.io\n",
    "import scipy.sparse as sp\n",
    "\n",
    "\n",
    "%load_ext autoreload\n",
    "%autoreload 2"
   ]
  },
  {
   "cell_type": "markdown",
   "metadata": {},
   "source": [
    "Load the functions"
   ]
  },
  {
   "cell_type": "code",
   "execution_count": 2,
   "metadata": {},
   "outputs": [],
   "source": [
    "from helpers import*\n",
    "from preprocessing import*\n",
    "from RMSE import*\n",
    "from factorization_SGD import*\n",
    "from ImplementingBaseline import*"
   ]
  },
  {
   "cell_type": "markdown",
   "metadata": {},
   "source": [
    "Load the data set"
   ]
  },
  {
   "cell_type": "code",
   "execution_count": 3,
   "metadata": {},
   "outputs": [
    {
     "name": "stdout",
     "output_type": "stream",
     "text": [
      "number of items: 10000, number of users: 1000\n"
     ]
    }
   ],
   "source": [
    "DATA_TRAIN_PATH=\"data/data_train.csv\"\n",
    "data=load_data(DATA_TRAIN_PATH)"
   ]
  },
  {
   "cell_type": "markdown",
   "metadata": {},
   "source": [
    "## 2. Split the data"
   ]
  },
  {
   "cell_type": "markdown",
   "metadata": {},
   "source": [
    "For reproductibility, remove seed from split_data"
   ]
  },
  {
   "cell_type": "code",
   "execution_count": 4,
   "metadata": {},
   "outputs": [
    {
     "name": "stdout",
     "output_type": "stream",
     "text": [
      "Total number of nonzero elements in origial data:1176952\n",
      "Total number of nonzero elements in train data:1065253\n",
      "Total number of nonzero elements in test data:111620\n"
     ]
    }
   ],
   "source": [
    "valid_ratings, train, test = split_data(data, min_num_ratings=10, p_test=0.1)"
   ]
  },
  {
   "cell_type": "markdown",
   "metadata": {},
   "source": [
    "## 3. Implementing Baseline"
   ]
  },
  {
   "cell_type": "code",
   "execution_count": 12,
   "metadata": {},
   "outputs": [
    {
     "name": "stdout",
     "output_type": "stream",
     "text": [
      "test RMSE of baseline using the global mean: [[1.12152228]].\n"
     ]
    }
   ],
   "source": [
    "baseline_global_mean(train, test)"
   ]
  },
  {
   "cell_type": "code",
   "execution_count": 13,
   "metadata": {},
   "outputs": [
    {
     "name": "stdout",
     "output_type": "stream",
     "text": [
      "test RMSE of the baseline using the user mean: [[1.03317038]].\n"
     ]
    }
   ],
   "source": [
    "baseline_user_mean(train, test)"
   ]
  },
  {
   "cell_type": "code",
   "execution_count": 14,
   "metadata": {},
   "outputs": [
    {
     "name": "stdout",
     "output_type": "stream",
     "text": [
      "test RMSE of the baseline using the item mean: [[1.09633198]].\n"
     ]
    }
   ],
   "source": [
    "baseline_item_mean(train, test)"
   ]
  },
  {
   "cell_type": "markdown",
   "metadata": {},
   "source": [
    "## 4. Matrix Factorization using SGD"
   ]
  },
  {
   "cell_type": "code",
   "execution_count": 5,
   "metadata": {},
   "outputs": [
    {
     "name": "stdout",
     "output_type": "stream",
     "text": [
      "iter: 0, RMSE on training set: 1.0414226338467527.\n",
      "iter: 1, RMSE on training set: 1.0176912651356287.\n",
      "iter: 2, RMSE on training set: 1.0015059261669905.\n",
      "iter: 3, RMSE on training set: 0.9931939424079715.\n",
      "iter: 4, RMSE on training set: 0.9880421453171035.\n",
      "iter: 5, RMSE on training set: 0.9849628771708617.\n",
      "iter: 6, RMSE on training set: 0.9820886595491477.\n",
      "iter: 7, RMSE on training set: 0.9799733017929425.\n",
      "iter: 8, RMSE on training set: 0.978172485676104.\n",
      "iter: 9, RMSE on training set: 0.9771314935914168.\n",
      "iter: 10, RMSE on training set: 0.9762703891604646.\n",
      "iter: 11, RMSE on training set: 0.9754790425841844.\n",
      "iter: 12, RMSE on training set: 0.9748840661085938.\n",
      "iter: 13, RMSE on training set: 0.9744118774351853.\n",
      "iter: 14, RMSE on training set: 0.9740814015321738.\n",
      "iter: 15, RMSE on training set: 0.9737529949388423.\n",
      "iter: 16, RMSE on training set: 0.9734802514056692.\n",
      "iter: 17, RMSE on training set: 0.9732497668941799.\n",
      "iter: 18, RMSE on training set: 0.9731337572021386.\n",
      "iter: 19, RMSE on training set: 0.9729948317922138.\n",
      "RMSE on test data: 1.0044967530593436.\n"
     ]
    }
   ],
   "source": [
    "num_features = 20   # K in the lecture notes\n",
    "lambda_user = 0.02\n",
    "lambda_item = 0.2\n",
    "\n",
    "matrix_factorization_SGD(train, test, num_features, lambda_user, lambda_item) "
   ]
  },
  {
   "cell_type": "code",
   "execution_count": null,
   "metadata": {},
   "outputs": [],
   "source": []
  }
 ],
 "metadata": {
  "kernelspec": {
   "display_name": "Python 3",
   "language": "python",
   "name": "python3"
  },
  "language_info": {
   "codemirror_mode": {
    "name": "ipython",
    "version": 3
   },
   "file_extension": ".py",
   "mimetype": "text/x-python",
   "name": "python",
   "nbconvert_exporter": "python",
   "pygments_lexer": "ipython3",
   "version": "3.7.3"
  }
 },
 "nbformat": 4,
 "nbformat_minor": 2
}
