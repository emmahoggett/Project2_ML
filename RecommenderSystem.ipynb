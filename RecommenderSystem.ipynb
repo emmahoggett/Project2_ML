{
 "cells": [
  {
   "cell_type": "markdown",
   "metadata": {},
   "source": [
    "# Recommender system"
   ]
  },
  {
   "cell_type": "markdown",
   "metadata": {},
   "source": [
    "## 1. Prerequiste"
   ]
  },
  {
   "cell_type": "markdown",
   "metadata": {},
   "source": [
    "Load of the libraries"
   ]
  },
  {
   "cell_type": "code",
   "execution_count": 1,
   "metadata": {},
   "outputs": [],
   "source": [
    "from __future__ import absolute_import, division, print_function, unicode_literals\n",
    "\n",
    "# TensorFlow\n",
    "import tensorflow as tf\n",
    "import numpy as np\n",
    "import scipy\n",
    "import scipy.io\n",
    "import scipy.sparse as sp\n",
    "\n",
    "\n",
    "%load_ext autoreload\n",
    "%autoreload 2"
   ]
  },
  {
   "cell_type": "markdown",
   "metadata": {},
   "source": [
    "Load the functions"
   ]
  },
  {
   "cell_type": "code",
   "execution_count": 11,
   "metadata": {},
   "outputs": [],
   "source": [
    "from helpers import*\n",
    "from preprocessing import*\n",
    "from RMSE import*\n",
    "from factorization_SGD import*\n",
    "from ImplementingBaseline import*"
   ]
  },
  {
   "cell_type": "markdown",
   "metadata": {},
   "source": [
    "Load the data set"
   ]
  },
  {
   "cell_type": "code",
   "execution_count": 3,
   "metadata": {},
   "outputs": [
    {
     "name": "stdout",
     "output_type": "stream",
     "text": [
      "number of items: 10000, number of users: 1000\n"
     ]
    }
   ],
   "source": [
    "DATA_TRAIN_PATH=\"data/data_train.csv\"\n",
    "data=load_data(DATA_TRAIN_PATH)"
   ]
  },
  {
   "cell_type": "markdown",
   "metadata": {},
   "source": [
    "## 2. Split the data"
   ]
  },
  {
   "cell_type": "markdown",
   "metadata": {},
   "source": [
    "For reproductibility, remove seed from split_data"
   ]
  },
  {
   "cell_type": "code",
   "execution_count": 21,
   "metadata": {},
   "outputs": [
    {
     "name": "stdout",
     "output_type": "stream",
     "text": [
      "Total number of nonzero elements in origial data:1176952\n",
      "Total number of nonzero elements in train data:1065253\n",
      "Total number of nonzero elements in test data:111620\n"
     ]
    }
   ],
   "source": [
    "valid_ratings, train, test = split_data(data, min_num_ratings=10, p_test=0.1)"
   ]
  },
  {
   "cell_type": "markdown",
   "metadata": {},
   "source": [
    "## 3. Implementing Baseline"
   ]
  },
  {
   "cell_type": "code",
   "execution_count": 12,
   "metadata": {},
   "outputs": [
    {
     "name": "stdout",
     "output_type": "stream",
     "text": [
      "test RMSE of baseline using the global mean: [[1.12152228]].\n"
     ]
    }
   ],
   "source": [
    "baseline_global_mean(train, test)"
   ]
  },
  {
   "cell_type": "code",
   "execution_count": 13,
   "metadata": {},
   "outputs": [
    {
     "name": "stdout",
     "output_type": "stream",
     "text": [
      "test RMSE of the baseline using the user mean: [[1.03317038]].\n"
     ]
    }
   ],
   "source": [
    "baseline_user_mean(train, test)"
   ]
  },
  {
   "cell_type": "code",
   "execution_count": 14,
   "metadata": {},
   "outputs": [
    {
     "name": "stdout",
     "output_type": "stream",
     "text": [
      "test RMSE of the baseline using the item mean: [[1.09633198]].\n"
     ]
    }
   ],
   "source": [
    "baseline_item_mean(train, test)"
   ]
  },
  {
   "cell_type": "markdown",
   "metadata": {},
   "source": [
    "## 4. Matrix Factorization using SGD"
   ]
  },
  {
   "cell_type": "code",
   "execution_count": 27,
   "metadata": {},
   "outputs": [
    {
     "name": "stdout",
     "output_type": "stream",
     "text": [
      "iter: 0, RMSE on training set: 1.057335013683889.\n",
      "iter: 1, RMSE on training set: 1.0188298558037625.\n",
      "iter: 2, RMSE on training set: 1.0094647344383652.\n",
      "iter: 3, RMSE on training set: 1.006722386752134.\n",
      "iter: 4, RMSE on training set: 1.004004071539195.\n",
      "iter: 5, RMSE on training set: 1.0016326312031898.\n",
      "iter: 6, RMSE on training set: 0.9994247425402836.\n",
      "iter: 7, RMSE on training set: 0.9974329256306914.\n",
      "iter: 8, RMSE on training set: 0.99531695506617.\n",
      "iter: 9, RMSE on training set: 0.9943352312316242.\n",
      "iter: 10, RMSE on training set: 0.9934621373625426.\n",
      "iter: 11, RMSE on training set: 0.9925254518127665.\n",
      "iter: 12, RMSE on training set: 0.9918761796557094.\n",
      "iter: 13, RMSE on training set: 0.9914757502146113.\n",
      "iter: 14, RMSE on training set: 0.991107528701618.\n",
      "iter: 15, RMSE on training set: 0.9908235152461299.\n",
      "iter: 16, RMSE on training set: 0.9906613409224838.\n",
      "iter: 17, RMSE on training set: 0.9904679423413099.\n",
      "iter: 18, RMSE on training set: 0.9904979389621389.\n",
      "iter: 19, RMSE on training set: 0.990436954560419.\n",
      "RMSE on test data: 1.007659298588333.\n"
     ]
    }
   ],
   "source": [
    "num_features = 20   # K in the lecture notes\n",
    "lambda_user = 0.02\n",
    "lambda_item = 0.7\n",
    "\n",
    "matrix_factorization_SGD(train, test, num_features, lambda_user, lambda_item) "
   ]
  },
  {
   "cell_type": "code",
   "execution_count": null,
   "metadata": {},
   "outputs": [],
   "source": []
  }
 ],
 "metadata": {
  "kernelspec": {
   "display_name": "Python 3",
   "language": "python",
   "name": "python3"
  },
  "language_info": {
   "codemirror_mode": {
    "name": "ipython",
    "version": 3
   },
   "file_extension": ".py",
   "mimetype": "text/x-python",
   "name": "python",
   "nbconvert_exporter": "python",
   "pygments_lexer": "ipython3",
   "version": "3.7.3"
  }
 },
 "nbformat": 4,
 "nbformat_minor": 2
}
