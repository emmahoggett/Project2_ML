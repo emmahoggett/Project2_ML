{
 "cells": [
  {
   "cell_type": "code",
   "execution_count": 2,
   "metadata": {},
   "outputs": [
    {
     "name": "stdout",
     "output_type": "stream",
     "text": [
      "The autoreload extension is already loaded. To reload it, use:\n",
      "  %reload_ext autoreload\n"
     ]
    }
   ],
   "source": [
    "# Imports\n",
    "import pandas as pd\n",
    "\n",
    "import matplotlib.pyplot as plt\n",
    "%matplotlib inline\n",
    "\n",
    "from surprise import Dataset\n",
    "from surprise import Reader\n",
    "from surprise import SlopeOne\n",
    "\n",
    "from sklearn.model_selection import train_test_split\n",
    "\n",
    "%load_ext autoreload\n",
    "%autoreload 2"
   ]
  },
  {
   "cell_type": "code",
   "execution_count": 3,
   "metadata": {},
   "outputs": [],
   "source": [
    "from helpersSlopeOne import*\n",
    "\n",
    "# Load dataset and samples into a pandas data frame\n",
    "DATA_TRAIN_PATH = 'data/data_train.csv'\n",
    "data_np = load_data(DATA_TRAIN_PATH)\n",
    "\n",
    "\n",
    "DATA_TEST_PATH = 'data/sampleSubmission.csv'\n",
    "samples = load_data(DATA_TEST_PATH)"
   ]
  },
  {
   "cell_type": "code",
   "execution_count": 6,
   "metadata": {},
   "outputs": [],
   "source": [
    "train_data_np, test_data_np = train_test_split(data_np[['user_id', 'movie_id', 'rating']], test_size = 0.2 ,random_state=1)\n",
    "reader = Reader(rating_scale=(1, 5))\n",
    "train_data = Dataset.load_from_df(train_data_np[['user_id', 'movie_id', 'rating']], reader=reader)"
   ]
  },
  {
   "cell_type": "code",
   "execution_count": 9,
   "metadata": {},
   "outputs": [],
   "source": [
    "trainset = train_data.build_full_trainset()\n",
    "df = test_data_np[['user_id','movie_id']].copy()\n",
    "slopeone = SlopeOne().fit(trainset)\n",
    "    \n",
    "df['slopeone_rating'] = test_data_np[['user_id', 'movie_id']] \\\n",
    ".apply(lambda row: slopeone.predict(row['user_id'], row['movie_id'])[3], axis=1)"
   ]
  },
  {
   "cell_type": "code",
   "execution_count": 10,
   "metadata": {},
   "outputs": [],
   "source": [
    "df.to_csv('slopeone_test.csv')"
   ]
  },
  {
   "cell_type": "code",
   "execution_count": 7,
   "metadata": {},
   "outputs": [],
   "source": [
    "trainset = train_data.build_full_trainset()\n",
    "df = samples[['user_id','movie_id']].copy()\n",
    "slopeone = SlopeOne().fit(trainset)\n",
    "    \n",
    "df['slopeone_rating'] = samples[['user_id', 'movie_id']] \\\n",
    ".apply(lambda row: slopeone.predict(row['user_id'], row['movie_id'])[3], axis=1)\n",
    "df.to_csv('slopeone_submission.csv')"
   ]
  }
 ],
 "metadata": {
  "kernelspec": {
   "display_name": "Python 3",
   "language": "python",
   "name": "python3"
  },
  "language_info": {
   "codemirror_mode": {
    "name": "ipython",
    "version": 3
   },
   "file_extension": ".py",
   "mimetype": "text/x-python",
   "name": "python",
   "nbconvert_exporter": "python",
   "pygments_lexer": "ipython3",
   "version": "3.7.3"
  }
 },
 "nbformat": 4,
 "nbformat_minor": 2
}
