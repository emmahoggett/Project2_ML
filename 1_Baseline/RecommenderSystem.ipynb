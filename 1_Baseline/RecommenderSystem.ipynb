{
 "cells": [
  {
   "cell_type": "markdown",
   "metadata": {},
   "source": [
    "# Recommender system"
   ]
  },
  {
   "cell_type": "markdown",
   "metadata": {},
   "source": [
    "## 1. Prerequiste"
   ]
  },
  {
   "cell_type": "code",
   "execution_count": 1,
   "metadata": {},
   "outputs": [],
   "source": [
    "from __future__ import absolute_import, division, print_function, unicode_literals\n",
    "\n",
    "# TensorFlow\n",
    "import tensorflow as tf\n",
    "import numpy as np\n",
    "import scipy\n",
    "import scipy.io\n",
    "import scipy.sparse as sp\n",
    "import pandas as pd\n",
    "from itertools import groupby\n",
    "\n",
    "\n",
    "%load_ext autoreload\n",
    "%autoreload 2"
   ]
  },
  {
   "cell_type": "code",
   "execution_count": 2,
   "metadata": {},
   "outputs": [],
   "source": [
    "from helpersbaseline import*\n",
    "from preprocessing import*"
   ]
  },
  {
   "cell_type": "code",
   "execution_count": 3,
   "metadata": {},
   "outputs": [
    {
     "name": "stdout",
     "output_type": "stream",
     "text": [
      "number of users : 10000, number of items: 1000\n"
     ]
    }
   ],
   "source": [
    "DATA_TRAIN_PATH = \"data/data_train.csv\"\n",
    "data = load_data(DATA_TRAIN_PATH)"
   ]
  },
  {
   "cell_type": "markdown",
   "metadata": {},
   "source": [
    "## 2. Split the data"
   ]
  },
  {
   "cell_type": "markdown",
   "metadata": {},
   "source": [
    "For reproductibility, remove seed from split_data"
   ]
  },
  {
   "cell_type": "code",
   "execution_count": 19,
   "metadata": {
    "scrolled": false
   },
   "outputs": [
    {
     "name": "stdout",
     "output_type": "stream",
     "text": [
      "Total number of nonzero elements in origial data:1176952\n",
      "Total number of nonzero elements in train data:963903\n",
      "Total number of nonzero elements in test data:213049\n"
     ]
    }
   ],
   "source": [
    "valid_ratings, train, test = split_data(data, min_num_ratings=0, p_test=0.2)"
   ]
  },
  {
   "cell_type": "markdown",
   "metadata": {},
   "source": [
    "## 3. Implementing Baseline"
   ]
  },
  {
   "cell_type": "code",
   "execution_count": 28,
   "metadata": {},
   "outputs": [],
   "source": [
    "from ImplementingBaseline import*"
   ]
  },
  {
   "cell_type": "code",
   "execution_count": 29,
   "metadata": {
    "scrolled": true
   },
   "outputs": [
    {
     "name": "stdout",
     "output_type": "stream",
     "text": [
      "test of baseline using the global mean: RMSE = [[1.11845219]].\n"
     ]
    }
   ],
   "source": [
    "baseline_global_mean(train, test)"
   ]
  },
  {
   "cell_type": "code",
   "execution_count": 30,
   "metadata": {},
   "outputs": [
    {
     "name": "stdout",
     "output_type": "stream",
     "text": [
      "test RMSE of the baseline using the user mean: [[1.03154921]].\n"
     ]
    }
   ],
   "source": [
    "user_train_mean = baseline_user_mean(train, test)"
   ]
  },
  {
   "cell_type": "code",
   "execution_count": 32,
   "metadata": {},
   "outputs": [
    {
     "name": "stdout",
     "output_type": "stream",
     "text": [
      "test RMSE of the baseline using the item mean: [[1.09518532]].\n"
     ]
    }
   ],
   "source": [
    "baseline_item_mean(train, test)"
   ]
  },
  {
   "cell_type": "markdown",
   "metadata": {},
   "source": [
    "## 4. Matrix Factorization using SGD"
   ]
  },
  {
   "cell_type": "code",
   "execution_count": 33,
   "metadata": {},
   "outputs": [],
   "source": [
    "from factorization_SGD import*"
   ]
  },
  {
   "cell_type": "code",
   "execution_count": 34,
   "metadata": {},
   "outputs": [],
   "source": [
    "num_features = 20   # K in the lecture notes\n",
    "lambda_user = 0.07\n",
    "lambda_item = 0.07\n",
    "\n",
    "user_features, item_features = matrix_factorization_SGD(train, num_features, lambda_user, lambda_item) "
   ]
  },
  {
   "cell_type": "code",
   "execution_count": 35,
   "metadata": {},
   "outputs": [
    {
     "name": "stdout",
     "output_type": "stream",
     "text": [
      "RMSE on test data: 1.004158146666524.\n"
     ]
    }
   ],
   "source": [
    "nz_row, nz_col = test.nonzero()\n",
    "nz_test = list(zip(nz_row, nz_col))\n",
    "rmse = compute_error(test, user_features, item_features, nz_test)\n",
    "print(\"RMSE on test data: {}.\".format(rmse))"
   ]
  },
  {
   "cell_type": "code",
   "execution_count": 36,
   "metadata": {},
   "outputs": [
    {
     "name": "stdout",
     "output_type": "stream",
     "text": [
      "number of users : 10000, number of items: 1000\n"
     ]
    }
   ],
   "source": [
    "DATA_FINAL_PATH = \"data/sampleSubmission.csv\"\n",
    "samples = load_data(DATA_FINAL_PATH)\n",
    "_, _, samples = condition_min_num_ratings(samples, min_num_ratings=0)"
   ]
  },
  {
   "cell_type": "code",
   "execution_count": 10,
   "metadata": {},
   "outputs": [
    {
     "name": "stdout",
     "output_type": "stream",
     "text": [
      "RMSE on test data: 0.9373349757846028.\n"
     ]
    }
   ],
   "source": [
    "nz_row, nz_col = samples.nonzero()\n",
    "nz_samples = list(zip(nz_row, nz_col))\n",
    "rmse = compute_error(samples, user_features, item_features, nz_samples)\n",
    "print(\"RMSE on final data: {}.\".format(rmse))"
   ]
  },
  {
   "cell_type": "code",
   "execution_count": 51,
   "metadata": {
    "scrolled": true
   },
   "outputs": [],
   "source": [
    "prediction = user_features.T.dot(item_features)\n",
    "data = read_txt(DATA_FINAL_PATH)[1:]\n",
    "data = [deal_line(line) for line in data]\n",
    "n = len(data)\n",
    "submission = np.zeros((n,1))\n",
    "for i in range(n):\n",
    "    submission[i] = np.clip(round(prediction[data[i][1]-1][data[i][0]-1]), 1, 5)"
   ]
  },
  {
   "cell_type": "code",
   "execution_count": 52,
   "metadata": {},
   "outputs": [],
   "source": [
    "from helpers import*\n",
    "DATA_SUBMISSION = \"data/submission_SGD_base.csv\"\n",
    "create_csv(data, submission, DATA_SUBMISSION)"
   ]
  },
  {
   "cell_type": "markdown",
   "metadata": {},
   "source": [
    "Baseline dot product method SGD without min_num_ratings - AICrowd : 1.046 and accuracy = 0.124"
   ]
  },
  {
   "cell_type": "markdown",
   "metadata": {},
   "source": [
    "## 4. Matrix Factorization using ALS"
   ]
  },
  {
   "cell_type": "code",
   "execution_count": 4,
   "metadata": {},
   "outputs": [
    {
     "name": "stdout",
     "output_type": "stream",
     "text": [
      "RMSE on training set: 1.0496065966044934.\n",
      "RMSE on training set: 1.0166077240441311.\n",
      "RMSE on training set: 0.9801298876710286.\n",
      "RMSE on training set: 0.9533215482403568.\n",
      "RMSE on training set: 0.9378085290373935.\n",
      "RMSE on training set: 0.9287510736385048.\n",
      "RMSE on training set: 0.9229384705878788.\n",
      "RMSE on training set: 0.918867739291494.\n",
      "RMSE on training set: 0.9158420827722703.\n",
      "RMSE on training set: 0.9135031408290509.\n",
      "RMSE on training set: 0.9116458097690966.\n",
      "RMSE on training set: 0.9101420536969367.\n",
      "RMSE on training set: 0.9089063115392461.\n",
      "RMSE on training set: 0.907878354685018.\n",
      "RMSE on training set: 0.9070141549588037.\n",
      "RMSE on training set: 0.9062806725576844.\n",
      "RMSE on training set: 0.9056526661896035.\n",
      "RMSE on training set: 0.9051106081528817.\n",
      "RMSE on training set: 0.9046392458411912.\n",
      "RMSE on training set: 0.9042265697055412.\n",
      "RMSE on training set: 0.9038630534429476.\n",
      "RMSE on training set: 0.9035410852609801.\n",
      "RMSE on training set: 0.9032545375269232.\n",
      "RMSE on training set: 0.9029984386706037.\n",
      "RMSE on training set: 0.9027687216317353.\n",
      "RMSE on training set: 0.9025620301285209.\n",
      "RMSE on training set: 0.9023755689250148.\n",
      "RMSE on training set: 0.9022069878030363.\n",
      "RMSE on training set: 0.9020542915150768.\n",
      "RMSE on training set: 0.9019157698647946.\n",
      "RMSE on training set: 0.9017899434240859.\n",
      "RMSE on training set: 0.9016755213957085.\n",
      "RMSE on training set: 0.9015713688771155.\n",
      "RMSE on training set: 0.9014764813611887.\n"
     ]
    }
   ],
   "source": [
    "from factorization_ALS import*\n",
    "\n",
    "num_features = 20   # K in the lecture notes\n",
    "lambda_user = 0.081\n",
    "lambda_item = 0.081\n",
    "    \n",
    "user_features, item_features = matrix_factorization_ALS(train, num_features, lambda_user, lambda_item)"
   ]
  },
  {
   "cell_type": "code",
   "execution_count": 7,
   "metadata": {},
   "outputs": [
    {
     "name": "stdout",
     "output_type": "stream",
     "text": [
      "RMSE on test data: 0.9911709029489721.\n"
     ]
    }
   ],
   "source": [
    "nz_row, nz_col = test.nonzero()\n",
    "nz_test = list(zip(nz_row, nz_col))\n",
    "rmse = compute_error(test, user_features, item_features, nz_test)\n",
    "print(\"RMSE on test data: {}.\".format(rmse))"
   ]
  },
  {
   "cell_type": "code",
   "execution_count": 31,
   "metadata": {},
   "outputs": [],
   "source": [
    "from sklearn import model_selection\n",
    "\n",
    "data = read_txt(DATA_TRAIN_PATH)[1:]\n",
    "_, data_test = model_selection.train_test_split(data, test_size=0.2, random_state=1)"
   ]
  },
  {
   "cell_type": "code",
   "execution_count": 8,
   "metadata": {},
   "outputs": [],
   "source": [
    "prediction = user_features.T.dot(item_features)\n",
    "\n",
    "from sklearn import model_selection\n",
    "\n",
    "data = read_txt(DATA_TRAIN_PATH)[1:]\n",
    "_, data_test = model_selection.train_test_split(data, test_size=0.2, random_state=1)\n",
    "data_test = [deal_line(line) for line in data_test]\n",
    "n = len(data_test)\n",
    "prediction_test = np.zeros((n,1))\n",
    "for i in range(n):\n",
    "    prediction_test[i] = np.clip(prediction[data_test[i][1]-1][data_test[i][0]-1], 1, 5)"
   ]
  },
  {
   "cell_type": "code",
   "execution_count": null,
   "metadata": {},
   "outputs": [],
   "source": [
    "# DATA_SUBMISSION = \"data/MF_ALS_test.csv\"\n",
    "# create_csv(data, submission_test, DATA_SUBMISSION)"
   ]
  },
  {
   "cell_type": "markdown",
   "metadata": {},
   "source": [
    "### Create final submission"
   ]
  },
  {
   "cell_type": "code",
   "execution_count": 5,
   "metadata": {},
   "outputs": [
    {
     "name": "stdout",
     "output_type": "stream",
     "text": [
      "number of users : 10000, number of items: 1000\n"
     ]
    }
   ],
   "source": [
    "DATA_FINAL_PATH = \"data/sampleSubmission.csv\"\n",
    "samples = load_data(DATA_FINAL_PATH)\n",
    "_, _, samples = condition_min_num_ratings(samples, min_num_ratings=0)"
   ]
  },
  {
   "cell_type": "code",
   "execution_count": 6,
   "metadata": {},
   "outputs": [
    {
     "name": "stdout",
     "output_type": "stream",
     "text": [
      "RMSE on final data: 0.9402699558619569.\n"
     ]
    }
   ],
   "source": [
    "nz_row, nz_col = samples.nonzero()\n",
    "nz_samples = list(zip(nz_row, nz_col))\n",
    "rmse = compute_error(samples, user_features, item_features, nz_samples)\n",
    "print(\"RMSE on final data: {}.\".format(rmse))"
   ]
  },
  {
   "cell_type": "code",
   "execution_count": 9,
   "metadata": {},
   "outputs": [],
   "source": [
    "data = read_txt(DATA_FINAL_PATH)[1:]\n",
    "data = [deal_line(line) for line in data]\n",
    "n = len(data)\n",
    "prediction_submission = np.zeros((n,1))\n",
    "for i in range(n):\n",
    "    prediction_submission[i] = np.clip(prediction[data[i][1]-1][data[i][0]-1], 1, 5)"
   ]
  },
  {
   "cell_type": "code",
   "execution_count": 59,
   "metadata": {},
   "outputs": [],
   "source": [
    "# from helpers import*\n",
    "# DATA_SUBMISSION = \"data/MF_ALS_submission.csv\"\n",
    "# create_csv(data, submission, DATA_SUBMISSION)"
   ]
  },
  {
   "cell_type": "markdown",
   "metadata": {},
   "source": [
    "Baseline dot product method ALS without min_num_ratings - AICrowd : 1.072 and accuracy = 0.081"
   ]
  },
  {
   "cell_type": "markdown",
   "metadata": {},
   "source": [
    "### Create files for blending"
   ]
  },
  {
   "cell_type": "markdown",
   "metadata": {},
   "source": [
    "Test file"
   ]
  },
  {
   "cell_type": "code",
   "execution_count": 41,
   "metadata": {},
   "outputs": [
    {
     "name": "stderr",
     "output_type": "stream",
     "text": [
      "/home/louise/anaconda3/lib/python3.7/site-packages/ipykernel_launcher.py:5: SettingWithCopyWarning: \n",
      "A value is trying to be set on a copy of a slice from a DataFrame.\n",
      "Try using .loc[row_indexer,col_indexer] = value instead\n",
      "\n",
      "See the caveats in the documentation: http://pandas.pydata.org/pandas-docs/stable/user_guide/indexing.html#returning-a-view-versus-a-copy\n",
      "  \"\"\"\n"
     ]
    },
    {
     "data": {
      "text/html": [
       "<div>\n",
       "<style scoped>\n",
       "    .dataframe tbody tr th:only-of-type {\n",
       "        vertical-align: middle;\n",
       "    }\n",
       "\n",
       "    .dataframe tbody tr th {\n",
       "        vertical-align: top;\n",
       "    }\n",
       "\n",
       "    .dataframe thead th {\n",
       "        text-align: right;\n",
       "    }\n",
       "</style>\n",
       "<table border=\"1\" class=\"dataframe\">\n",
       "  <thead>\n",
       "    <tr style=\"text-align: right;\">\n",
       "      <th></th>\n",
       "      <th>user_id</th>\n",
       "      <th>movie_id</th>\n",
       "      <th>rating</th>\n",
       "      <th>MF_ALS_rating</th>\n",
       "    </tr>\n",
       "  </thead>\n",
       "  <tbody>\n",
       "    <tr>\n",
       "      <th>1014743</th>\n",
       "      <td>1219</td>\n",
       "      <td>803</td>\n",
       "      <td>5</td>\n",
       "      <td>3.901988</td>\n",
       "    </tr>\n",
       "    <tr>\n",
       "      <th>791571</th>\n",
       "      <td>1865</td>\n",
       "      <td>643</td>\n",
       "      <td>1</td>\n",
       "      <td>4.092153</td>\n",
       "    </tr>\n",
       "    <tr>\n",
       "      <th>967641</th>\n",
       "      <td>1382</td>\n",
       "      <td>771</td>\n",
       "      <td>3</td>\n",
       "      <td>3.262341</td>\n",
       "    </tr>\n",
       "    <tr>\n",
       "      <th>65567</th>\n",
       "      <td>3295</td>\n",
       "      <td>53</td>\n",
       "      <td>3</td>\n",
       "      <td>3.509550</td>\n",
       "    </tr>\n",
       "    <tr>\n",
       "      <th>622228</th>\n",
       "      <td>9259</td>\n",
       "      <td>530</td>\n",
       "      <td>4</td>\n",
       "      <td>4.212068</td>\n",
       "    </tr>\n",
       "    <tr>\n",
       "      <th>...</th>\n",
       "      <td>...</td>\n",
       "      <td>...</td>\n",
       "      <td>...</td>\n",
       "      <td>...</td>\n",
       "    </tr>\n",
       "    <tr>\n",
       "      <th>468443</th>\n",
       "      <td>2110</td>\n",
       "      <td>403</td>\n",
       "      <td>5</td>\n",
       "      <td>3.777028</td>\n",
       "    </tr>\n",
       "    <tr>\n",
       "      <th>1064490</th>\n",
       "      <td>9211</td>\n",
       "      <td>855</td>\n",
       "      <td>2</td>\n",
       "      <td>2.542277</td>\n",
       "    </tr>\n",
       "    <tr>\n",
       "      <th>1172922</th>\n",
       "      <td>7228</td>\n",
       "      <td>996</td>\n",
       "      <td>3</td>\n",
       "      <td>3.033381</td>\n",
       "    </tr>\n",
       "    <tr>\n",
       "      <th>327551</th>\n",
       "      <td>9827</td>\n",
       "      <td>272</td>\n",
       "      <td>5</td>\n",
       "      <td>4.098855</td>\n",
       "    </tr>\n",
       "    <tr>\n",
       "      <th>348100</th>\n",
       "      <td>1428</td>\n",
       "      <td>296</td>\n",
       "      <td>5</td>\n",
       "      <td>4.167641</td>\n",
       "    </tr>\n",
       "  </tbody>\n",
       "</table>\n",
       "<p>235391 rows × 4 columns</p>\n",
       "</div>"
      ],
      "text/plain": [
       "        user_id movie_id  rating  MF_ALS_rating\n",
       "1014743    1219      803       5       3.901988\n",
       "791571     1865      643       1       4.092153\n",
       "967641     1382      771       3       3.262341\n",
       "65567      3295       53       3       3.509550\n",
       "622228     9259      530       4       4.212068\n",
       "...         ...      ...     ...            ...\n",
       "468443     2110      403       5       3.777028\n",
       "1064490    9211      855       2       2.542277\n",
       "1172922    7228      996       3       3.033381\n",
       "327551     9827      272       5       4.098855\n",
       "348100     1428      296       5       4.167641\n",
       "\n",
       "[235391 rows x 4 columns]"
      ]
     },
     "execution_count": 41,
     "metadata": {},
     "output_type": "execute_result"
    }
   ],
   "source": [
    "from sklearn import model_selection\n",
    "\n",
    "data = load_data_df(DATA_TRAIN_PATH)\n",
    "_, submission_test = model_selection.train_test_split(data, test_size=0.2, random_state=1)\n",
    "submission_test['MF_ALS_rating'] = prediction_test\n",
    "submission_test"
   ]
  },
  {
   "cell_type": "code",
   "execution_count": 42,
   "metadata": {},
   "outputs": [],
   "source": [
    "DATA_BLENDING_TEST = \"data/MF_ALS_test.csv\"\n",
    "submission_test.to_csv(DATA_BLENDING_TEST)"
   ]
  },
  {
   "cell_type": "markdown",
   "metadata": {},
   "source": [
    "Submission file"
   ]
  },
  {
   "cell_type": "code",
   "execution_count": 10,
   "metadata": {
    "scrolled": true
   },
   "outputs": [
    {
     "data": {
      "text/html": [
       "<div>\n",
       "<style scoped>\n",
       "    .dataframe tbody tr th:only-of-type {\n",
       "        vertical-align: middle;\n",
       "    }\n",
       "\n",
       "    .dataframe tbody tr th {\n",
       "        vertical-align: top;\n",
       "    }\n",
       "\n",
       "    .dataframe thead th {\n",
       "        text-align: right;\n",
       "    }\n",
       "</style>\n",
       "<table border=\"1\" class=\"dataframe\">\n",
       "  <thead>\n",
       "    <tr style=\"text-align: right;\">\n",
       "      <th></th>\n",
       "      <th>user_id</th>\n",
       "      <th>movie_id</th>\n",
       "      <th>rating</th>\n",
       "      <th>MF_ALS_rating</th>\n",
       "    </tr>\n",
       "  </thead>\n",
       "  <tbody>\n",
       "    <tr>\n",
       "      <th>0</th>\n",
       "      <td>37</td>\n",
       "      <td>1</td>\n",
       "      <td>3</td>\n",
       "      <td>3.295094</td>\n",
       "    </tr>\n",
       "    <tr>\n",
       "      <th>1</th>\n",
       "      <td>73</td>\n",
       "      <td>1</td>\n",
       "      <td>3</td>\n",
       "      <td>3.006998</td>\n",
       "    </tr>\n",
       "    <tr>\n",
       "      <th>2</th>\n",
       "      <td>156</td>\n",
       "      <td>1</td>\n",
       "      <td>3</td>\n",
       "      <td>3.744199</td>\n",
       "    </tr>\n",
       "    <tr>\n",
       "      <th>3</th>\n",
       "      <td>160</td>\n",
       "      <td>1</td>\n",
       "      <td>3</td>\n",
       "      <td>3.298078</td>\n",
       "    </tr>\n",
       "    <tr>\n",
       "      <th>4</th>\n",
       "      <td>248</td>\n",
       "      <td>1</td>\n",
       "      <td>3</td>\n",
       "      <td>3.257229</td>\n",
       "    </tr>\n",
       "    <tr>\n",
       "      <th>...</th>\n",
       "      <td>...</td>\n",
       "      <td>...</td>\n",
       "      <td>...</td>\n",
       "      <td>...</td>\n",
       "    </tr>\n",
       "    <tr>\n",
       "      <th>1176947</th>\n",
       "      <td>9974</td>\n",
       "      <td>1000</td>\n",
       "      <td>3</td>\n",
       "      <td>3.409465</td>\n",
       "    </tr>\n",
       "    <tr>\n",
       "      <th>1176948</th>\n",
       "      <td>9977</td>\n",
       "      <td>1000</td>\n",
       "      <td>3</td>\n",
       "      <td>3.631472</td>\n",
       "    </tr>\n",
       "    <tr>\n",
       "      <th>1176949</th>\n",
       "      <td>9978</td>\n",
       "      <td>1000</td>\n",
       "      <td>3</td>\n",
       "      <td>2.841713</td>\n",
       "    </tr>\n",
       "    <tr>\n",
       "      <th>1176950</th>\n",
       "      <td>9982</td>\n",
       "      <td>1000</td>\n",
       "      <td>3</td>\n",
       "      <td>3.075880</td>\n",
       "    </tr>\n",
       "    <tr>\n",
       "      <th>1176951</th>\n",
       "      <td>9996</td>\n",
       "      <td>1000</td>\n",
       "      <td>3</td>\n",
       "      <td>3.665308</td>\n",
       "    </tr>\n",
       "  </tbody>\n",
       "</table>\n",
       "<p>1176952 rows × 4 columns</p>\n",
       "</div>"
      ],
      "text/plain": [
       "        user_id movie_id  rating  MF_ALS_rating\n",
       "0            37        1       3       3.295094\n",
       "1            73        1       3       3.006998\n",
       "2           156        1       3       3.744199\n",
       "3           160        1       3       3.298078\n",
       "4           248        1       3       3.257229\n",
       "...         ...      ...     ...            ...\n",
       "1176947    9974     1000       3       3.409465\n",
       "1176948    9977     1000       3       3.631472\n",
       "1176949    9978     1000       3       2.841713\n",
       "1176950    9982     1000       3       3.075880\n",
       "1176951    9996     1000       3       3.665308\n",
       "\n",
       "[1176952 rows x 4 columns]"
      ]
     },
     "execution_count": 10,
     "metadata": {},
     "output_type": "execute_result"
    }
   ],
   "source": [
    "DATA_FINAL_PATH = \"data/sampleSubmission.csv\"\n",
    "submission_samples = load_data_df(DATA_FINAL_PATH)\n",
    "submission_samples['MF_ALS_rating'] = prediction_submission\n",
    "submission_samples"
   ]
  },
  {
   "cell_type": "code",
   "execution_count": 11,
   "metadata": {},
   "outputs": [],
   "source": [
    "DATA_BLENDING_SUBMISSION = \"data/MF_ALS_submission.csv\"\n",
    "submission_samples.to_csv(DATA_BLENDING_SUBMISSION)"
   ]
  },
  {
   "cell_type": "code",
   "execution_count": null,
   "metadata": {},
   "outputs": [],
   "source": []
  }
 ],
 "metadata": {
  "kernelspec": {
   "display_name": "Python 3",
   "language": "python",
   "name": "python3"
  },
  "language_info": {
   "codemirror_mode": {
    "name": "ipython",
    "version": 3
   },
   "file_extension": ".py",
   "mimetype": "text/x-python",
   "name": "python",
   "nbconvert_exporter": "python",
   "pygments_lexer": "ipython3",
   "version": "3.7.3"
  }
 },
 "nbformat": 4,
 "nbformat_minor": 2
}
