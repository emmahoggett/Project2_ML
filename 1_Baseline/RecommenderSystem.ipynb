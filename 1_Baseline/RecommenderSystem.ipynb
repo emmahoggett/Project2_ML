{
 "cells": [
  {
   "cell_type": "markdown",
   "metadata": {},
   "source": [
    "# Recommender system"
   ]
  },
  {
   "cell_type": "markdown",
   "metadata": {},
   "source": [
    "## 1. Prerequiste"
   ]
  },
  {
   "cell_type": "code",
   "execution_count": 1,
   "metadata": {},
   "outputs": [],
   "source": [
    "from __future__ import absolute_import, division, print_function, unicode_literals\n",
    "\n",
    "# TensorFlow\n",
    "import tensorflow as tf\n",
    "import numpy as np\n",
    "import scipy\n",
    "import scipy.io\n",
    "import scipy.sparse as sp\n",
    "from itertools import groupby\n",
    "\n",
    "\n",
    "%load_ext autoreload\n",
    "%autoreload 2"
   ]
  },
  {
   "cell_type": "code",
   "execution_count": 4,
   "metadata": {},
   "outputs": [],
   "source": [
    "from helpers import*\n",
    "from preprocessing import*"
   ]
  },
  {
   "cell_type": "code",
   "execution_count": 5,
   "metadata": {},
   "outputs": [
    {
     "name": "stdout",
     "output_type": "stream",
     "text": [
      "number of users : 10000, number of items: 1000\n"
     ]
    }
   ],
   "source": [
    "DATA_TRAIN_PATH = \"data/data_train.csv\"\n",
    "data = load_data(DATA_TRAIN_PATH)"
   ]
  },
  {
   "cell_type": "markdown",
   "metadata": {},
   "source": [
    "## 2. Split the data"
   ]
  },
  {
   "cell_type": "markdown",
   "metadata": {},
   "source": [
    "For reproductibility, remove seed from split_data"
   ]
  },
  {
   "cell_type": "code",
   "execution_count": 6,
   "metadata": {},
   "outputs": [
    {
     "name": "stdout",
     "output_type": "stream",
     "text": [
      "Total number of nonzero elements in origial data:1176952\n",
      "Total number of nonzero elements in train data:1065327\n",
      "Total number of nonzero elements in test data:111625\n"
     ]
    }
   ],
   "source": [
    "valid_ratings, train, test = split_data(data, min_num_ratings=0, p_test=0.1)"
   ]
  },
  {
   "cell_type": "markdown",
   "metadata": {},
   "source": [
    "## 3. Implementing Baseline"
   ]
  },
  {
   "cell_type": "code",
   "execution_count": 8,
   "metadata": {},
   "outputs": [],
   "source": [
    "from ImplementingBaseline import*"
   ]
  },
  {
   "cell_type": "code",
   "execution_count": 10,
   "metadata": {
    "scrolled": true
   },
   "outputs": [
    {
     "name": "stdout",
     "output_type": "stream",
     "text": [
      "test RMSE of baseline using the global mean: [[1.12152228]].\n"
     ]
    }
   ],
   "source": [
    "baseline_global_mean(train, test)"
   ]
  },
  {
   "cell_type": "code",
   "execution_count": null,
   "metadata": {},
   "outputs": [],
   "source": [
    "user_train_mean = baseline_user_mean(train, test)"
   ]
  },
  {
   "cell_type": "code",
   "execution_count": 14,
   "metadata": {},
   "outputs": [
    {
     "name": "stdout",
     "output_type": "stream",
     "text": [
      "test RMSE of the baseline using the item mean: [[1.09633198]].\n"
     ]
    }
   ],
   "source": [
    "baseline_item_mean(train, test)"
   ]
  },
  {
   "cell_type": "markdown",
   "metadata": {},
   "source": [
    "## 4. Matrix Factorization using SGD"
   ]
  },
  {
   "cell_type": "code",
   "execution_count": null,
   "metadata": {},
   "outputs": [],
   "source": [
    "from factorization_SGD import*"
   ]
  },
  {
   "cell_type": "code",
   "execution_count": 7,
   "metadata": {},
   "outputs": [],
   "source": [
    "num_features = 20   # K in the lecture notes\n",
    "lambda_user = 0.05\n",
    "lambda_item = 0.2\n",
    "\n",
    "user_features, item_features = matrix_factorization_SGD(train, num_features, lambda_user, lambda_item) "
   ]
  },
  {
   "cell_type": "code",
   "execution_count": 8,
   "metadata": {},
   "outputs": [
    {
     "name": "stdout",
     "output_type": "stream",
     "text": [
      "RMSE on test data: 1.0082670439014565.\n"
     ]
    }
   ],
   "source": [
    "nz_row, nz_col = test.nonzero()\n",
    "nz_test = list(zip(nz_row, nz_col))\n",
    "rmse = compute_error(test, user_features, item_features, nz_test)\n",
    "print(\"RMSE on test data: {}.\".format(rmse))"
   ]
  },
  {
   "cell_type": "code",
   "execution_count": 9,
   "metadata": {},
   "outputs": [
    {
     "name": "stdout",
     "output_type": "stream",
     "text": [
      "number of users : 10000, number of items: 1000\n"
     ]
    }
   ],
   "source": [
    "DATA_FINAL_PATH = \"data/sampleSubmission.csv\"\n",
    "samples = load_data(DATA_FINAL_PATH)\n",
    "_, _, samples = condition_min_num_ratings(samples, min_num_ratings=0)"
   ]
  },
  {
   "cell_type": "code",
   "execution_count": 10,
   "metadata": {},
   "outputs": [
    {
     "name": "stdout",
     "output_type": "stream",
     "text": [
      "RMSE on test data: 0.9373349757846028.\n"
     ]
    }
   ],
   "source": [
    "nz_row, nz_col = samples.nonzero()\n",
    "nz_samples = list(zip(nz_row, nz_col))\n",
    "rmse = compute_error(samples, user_features, item_features, nz_samples)\n",
    "print(\"RMSE on final data: {}.\".format(rmse))"
   ]
  },
  {
   "cell_type": "code",
   "execution_count": 51,
   "metadata": {
    "scrolled": true
   },
   "outputs": [],
   "source": [
    "prediction = user_features.T.dot(item_features)\n",
    "data = read_txt(DATA_FINAL_PATH)[1:]\n",
    "data = [deal_line(line) for line in data]\n",
    "n = len(data)\n",
    "submission = np.zeros((n,1))\n",
    "for i in range(n):\n",
    "    submission[i] = np.clip(round(prediction[data[i][1]-1][data[i][0]-1]), 1, 5)"
   ]
  },
  {
   "cell_type": "code",
   "execution_count": 52,
   "metadata": {},
   "outputs": [],
   "source": [
    "from helpers import*\n",
    "DATA_SUBMISSION = \"data/submission_SGD_base.csv\"\n",
    "create_csv(data, submission, DATA_SUBMISSION)"
   ]
  },
  {
   "cell_type": "markdown",
   "metadata": {},
   "source": [
    "Baseline dot product method SGD without min_num_ratings - AICrowd : 1.046 and accuracy = 0.124"
   ]
  },
  {
   "cell_type": "markdown",
   "metadata": {},
   "source": [
    "## 4. Matrix Factorization using ALS"
   ]
  },
  {
   "cell_type": "code",
   "execution_count": 54,
   "metadata": {},
   "outputs": [
    {
     "name": "stdout",
     "output_type": "stream",
     "text": [
      "RMSE on training set: 2.106428517677524.\n",
      "RMSE on training set: 1.2739821017929538.\n",
      "RMSE on training set: 1.1446662872670106.\n",
      "RMSE on training set: 1.0934315709450497.\n",
      "RMSE on training set: 1.0678553712342054.\n",
      "RMSE on training set: 1.0533560622279643.\n",
      "RMSE on training set: 1.0444472374055602.\n",
      "RMSE on training set: 1.0386677546510814.\n",
      "RMSE on training set: 1.0347731654945034.\n",
      "RMSE on training set: 1.032076476383454.\n",
      "RMSE on training set: 1.0301721191256068.\n",
      "RMSE on training set: 1.0288077984696378.\n",
      "RMSE on training set: 1.0278199677348743.\n",
      "RMSE on training set: 1.0270991173242556.\n",
      "RMSE on training set: 1.0265700340491097.\n",
      "RMSE on training set: 1.0261800284164861.\n",
      "RMSE on training set: 1.025891620978918.\n",
      "RMSE on training set: 1.0256778367925297.\n",
      "RMSE on training set: 1.0255190865137027.\n",
      "RMSE on training set: 1.0254010470853805.\n",
      "RMSE on training set: 1.0253131918988199.\n"
     ]
    }
   ],
   "source": [
    "from helpers import*\n",
    "from factorization_ALS import*\n",
    "\n",
    "num_features = 25   # K in the lecture notes\n",
    "lambda_user = 0.1\n",
    "lambda_item = 0.7\n",
    "\n",
    "# A tester : ces valeurs des hyperparameters\n",
    "# num_features = 20   # K in the lecture notes\n",
    "# lambda_user = 0.05\n",
    "# lambda_item = 0.2\n",
    "    \n",
    "user_features, item_features = matrix_factorization_ALS(train, num_features, lambda_user, lambda_item)"
   ]
  },
  {
   "cell_type": "code",
   "execution_count": 55,
   "metadata": {},
   "outputs": [
    {
     "name": "stdout",
     "output_type": "stream",
     "text": [
      "RMSE on test data: 1.03547938538604.\n"
     ]
    }
   ],
   "source": [
    "nz_row, nz_col = test.nonzero()\n",
    "nz_test = list(zip(nz_row, nz_col))\n",
    "rmse = compute_error(test, user_features, item_features, nz_test)\n",
    "print(\"RMSE on test data: {}.\".format(rmse))"
   ]
  },
  {
   "cell_type": "code",
   "execution_count": 56,
   "metadata": {},
   "outputs": [
    {
     "name": "stdout",
     "output_type": "stream",
     "text": [
      "number of users : 10000, number of items: 1000\n"
     ]
    }
   ],
   "source": [
    "DATA_FINAL_PATH = \"data/sampleSubmission.csv\"\n",
    "samples = load_data(DATA_FINAL_PATH)\n",
    "_, _, samples = condition_min_num_ratings(samples, min_num_ratings=0)"
   ]
  },
  {
   "cell_type": "code",
   "execution_count": 57,
   "metadata": {},
   "outputs": [
    {
     "name": "stdout",
     "output_type": "stream",
     "text": [
      "RMSE on test data: 0.7634478766929802.\n"
     ]
    }
   ],
   "source": [
    "nz_row, nz_col = samples.nonzero()\n",
    "nz_samples = list(zip(nz_row, nz_col))\n",
    "rmse = compute_error(samples, user_features, item_features, nz_samples)\n",
    "print(\"RMSE on test data: {}.\".format(rmse))"
   ]
  },
  {
   "cell_type": "code",
   "execution_count": 58,
   "metadata": {},
   "outputs": [],
   "source": [
    "prediction = user_features.T.dot(item_features)\n",
    "data = read_txt(DATA_FINAL_PATH)[1:]\n",
    "data = [deal_line(line) for line in data]\n",
    "n = len(data)\n",
    "submission = np.zeros((n,1))\n",
    "for i in range(n):\n",
    "    submission[i] = np.clip(round(prediction[data[i][1]-1][data[i][0]-1]), 1, 5)"
   ]
  },
  {
   "cell_type": "code",
   "execution_count": 59,
   "metadata": {},
   "outputs": [],
   "source": [
    "from helpers import*\n",
    "DATA_SUBMISSION = \"data/submission_ALS_base.csv\"\n",
    "create_csv(data, submission, DATA_SUBMISSION)"
   ]
  },
  {
   "cell_type": "markdown",
   "metadata": {},
   "source": [
    "Baseline dot product method ALS without min_num_ratings - AICrowd : 1.072 and accuracy = 0.081"
   ]
  },
  {
   "cell_type": "code",
   "execution_count": null,
   "metadata": {},
   "outputs": [],
   "source": []
  }
 ],
 "metadata": {
  "kernelspec": {
   "display_name": "Python 3",
   "language": "python",
   "name": "python3"
  },
  "language_info": {
   "codemirror_mode": {
    "name": "ipython",
    "version": 3
   },
   "file_extension": ".py",
   "mimetype": "text/x-python",
   "name": "python",
   "nbconvert_exporter": "python",
   "pygments_lexer": "ipython3",
   "version": "3.7.3"
  }
 },
 "nbformat": 4,
 "nbformat_minor": 2
}
