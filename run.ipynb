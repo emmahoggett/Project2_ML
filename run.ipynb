{
 "cells": [
  {
   "cell_type": "code",
   "execution_count": 12,
   "metadata": {},
   "outputs": [],
   "source": [
    "import pandas as pd\n",
    "import numpy as np\n",
    "import pickle\n",
    "\n",
    "from sklearn.linear_model import RidgeCV\n",
    "from models.modelSurprise import computeSurprise\n",
    "from models.modelNN import computeNN\n",
    "from sklearn.model_selection import KFold\n",
    "from helpers import create_csv, load_data"
   ]
  },
  {
   "cell_type": "code",
   "execution_count": 14,
   "metadata": {},
   "outputs": [],
   "source": [
    "samples = load_data('data/sampleSubmission.csv')\n",
    "data = load_data('data/data_train.csv')"
   ]
  },
  {
   "cell_type": "code",
   "execution_count": null,
   "metadata": {},
   "outputs": [
    {
     "name": "stdout",
     "output_type": "stream",
     "text": [
      "Computing the msd similarity matrix...\n",
      "Done computing similarity matrix.\n"
     ]
    }
   ],
   "source": [
    "surprise_ratings = computeSurprise(data, samples)"
   ]
  },
  {
   "cell_type": "code",
   "execution_count": null,
   "metadata": {},
   "outputs": [],
   "source": [
    "NN_ratings = computeNN(data, samples)"
   ]
  },
  {
   "cell_type": "code",
   "execution_count": 9,
   "metadata": {},
   "outputs": [],
   "source": []
  },
  {
   "cell_type": "code",
   "execution_count": 10,
   "metadata": {},
   "outputs": [],
   "source": [
    "test_pred = pd.read_pickle('data/test_pred.pickle')\n",
    "test_pred = test_pred.rename(columns={\"mf_rmse_rating\": \"MF_RMSE_rating\"})"
   ]
  },
  {
   "cell_type": "code",
   "execution_count": 11,
   "metadata": {},
   "outputs": [
    {
     "name": "stderr",
     "output_type": "stream",
     "text": [
      "/home/emma-hoggett/anaconda3/lib/python3.7/site-packages/sklearn/model_selection/_split.py:296: FutureWarning: Setting a random_state has no effect since shuffle is False. This will raise an error in 0.24. You should leave random_state to its default (None), or set shuffle=True.\n",
      "  FutureWarning\n"
     ]
    }
   ],
   "source": [
    "models_names = [ 'MF_ALS_rating',\n",
    "                'cocluster_rating',\n",
    "                'knnmeans_item_rating',\n",
    "                'knnmeans_user_rating',\n",
    "                'knnzscore_user_rating',\n",
    "                'knnzscore_item_rating',\n",
    "                'knnbasic_user_rating',\n",
    "                'knnbasic_item_rating',\n",
    "                'slopeone_rating',\n",
    "                'mf_rating',\n",
    "                'svd_rating',\n",
    "                'svdpp_rating',\n",
    "                'item_mean_rating',\n",
    "                'user_mean_rating',\n",
    "                'global_mean_rating',\n",
    "                'MF_RMSE_rating',\n",
    "                'NN_deep_rating',\n",
    "                'NN_shallow_rating']\n",
    "\n",
    "cv_ridge = KFold(n_splits=10, random_state = 200)\n",
    "gs_ridge = RidgeCV(alphas = [10**-i for i in range (-5, 10)], fit_intercept = False, scoring = 'neg_mean_squared_error', cv = cv_ridge)"
   ]
  },
  {
   "cell_type": "code",
   "execution_count": 12,
   "metadata": {},
   "outputs": [
    {
     "name": "stdout",
     "output_type": "stream",
     "text": [
      "Best lambda : 1.0 \n",
      "\n",
      "Optimal weight: [ 0.40679372 -0.00439563  0.06831155  0.2343497   0.18813534  0.10614723\n",
      "  0.14039408  0.09197466  0.19605285 -0.04170352  0.01601419  0.18747773\n",
      " -0.59894364 -0.65511378  0.59057697 -0.21071062  0.16800608  0.12941344] \n",
      "\n"
     ]
    }
   ],
   "source": [
    "gs_ridge.fit (test_pred[models_names],test_pred['rating'] )\n",
    "\n",
    "print (\"Best lambda :\", gs_ridge.alpha_, \"\\n\")\n",
    "print (\"Optimal weight:\", gs_ridge.coef_, \"\\n\")"
   ]
  },
  {
   "cell_type": "code",
   "execution_count": 13,
   "metadata": {},
   "outputs": [],
   "source": [
    "submission_pred['ridge_rating'] = gs_ridge.predict(submission_pred[models_names])"
   ]
  },
  {
   "cell_type": "markdown",
   "metadata": {},
   "source": [
    "30458\tPaillasonLover\tgraded\t1.017\t0.172\tGraded Successfully !"
   ]
  },
  {
   "cell_type": "code",
   "execution_count": 14,
   "metadata": {},
   "outputs": [
    {
     "name": "stderr",
     "output_type": "stream",
     "text": [
      "/home/emma-hoggett/git_workspace/Project2_ML/helpers.py:26: SettingWithCopyWarning: \n",
      "A value is trying to be set on a copy of a slice from a DataFrame.\n",
      "Try using .loc[row_indexer,col_indexer] = value instead\n",
      "\n",
      "See the caveats in the documentation: http://pandas.pydata.org/pandas-docs/stable/indexing.html#indexing-view-versus-copy\n",
      "  final['Prediction'] = final['ridge_rating'].apply(lambda x: 5 if x > 5 else (1 if x < 1 else round(x)))\n",
      "/home/emma-hoggett/git_workspace/Project2_ML/helpers.py:28: SettingWithCopyWarning: \n",
      "A value is trying to be set on a copy of a slice from a DataFrame.\n",
      "Try using .loc[row_indexer,col_indexer] = value instead\n",
      "\n",
      "See the caveats in the documentation: http://pandas.pydata.org/pandas-docs/stable/indexing.html#indexing-view-versus-copy\n",
      "  final['Id'] = pos\n"
     ]
    }
   ],
   "source": [
    "submission_path = 'FinalSubmission.csv'\n",
    "create_csv(submission_path, submission_pred)"
   ]
  }
 ],
 "metadata": {
  "kernelspec": {
   "display_name": "Python 3",
   "language": "python",
   "name": "python3"
  },
  "language_info": {
   "codemirror_mode": {
    "name": "ipython",
    "version": 3
   },
   "file_extension": ".py",
   "mimetype": "text/x-python",
   "name": "python",
   "nbconvert_exporter": "python",
   "pygments_lexer": "ipython3",
   "version": "3.7.3"
  }
 },
 "nbformat": 4,
 "nbformat_minor": 2
}
