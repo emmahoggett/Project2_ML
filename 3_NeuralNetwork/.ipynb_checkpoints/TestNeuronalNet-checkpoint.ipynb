{
 "cells": [
  {
   "cell_type": "code",
   "execution_count": 2,
   "metadata": {},
   "outputs": [],
   "source": [
    "import numpy as np\n",
    "import pandas as pd\n",
    "import matplotlib.pyplot as plt\n",
    "import os\n",
    "import warnings\n",
    "\n",
    "\n",
    "warnings.filterwarnings('ignore')\n",
    "%matplotlib inline\n",
    "\n",
    "\n",
    "%load_ext autoreload\n",
    "%autoreload 2"
   ]
  },
  {
   "cell_type": "code",
   "execution_count": 3,
   "metadata": {},
   "outputs": [],
   "source": [
    "from helpers import load_data\n",
    "\n",
    "DATA_TRAIN_PATH = \"data/data_train.csv\"\n",
    "data = load_data(DATA_TRAIN_PATH)\n",
    "\n",
    "\n",
    "DATA_TEST_PATH = \"data/sampleSubmission.csv\"\n",
    "samples = load_data(DATA_TEST_PATH)"
   ]
  },
  {
   "cell_type": "code",
   "execution_count": 4,
   "metadata": {},
   "outputs": [],
   "source": [
    "from sklearn.model_selection import train_test_split\n",
    "from sklearn.preprocessing import LabelEncoder"
   ]
  },
  {
   "cell_type": "code",
   "execution_count": 5,
   "metadata": {},
   "outputs": [],
   "source": [
    "user_enc = LabelEncoder()\n",
    "data ['user'] = user_enc.fit_transform(data['user_id'].values)\n",
    "samples ['user'] = user_enc.fit_transform(samples['user_id'].values)\n",
    "\n",
    "item_enc = LabelEncoder()\n",
    "data ['movie'] = item_enc.fit_transform(data['movie_id'].values)\n",
    "samples['movie'] = item_enc.fit_transform(samples['movie_id'].values)\n",
    "\n",
    "\n",
    "data ['rating'] = data ['rating'].values.astype(np.int)\n",
    "n_factors = 50"
   ]
  },
  {
   "cell_type": "code",
   "execution_count": 6,
   "metadata": {},
   "outputs": [
    {
     "name": "stderr",
     "output_type": "stream",
     "text": [
      "Using TensorFlow backend.\n"
     ]
    }
   ],
   "source": [
    "from keras.utils import np_utils\n",
    "from helpersNeuronalNet import*\n"
   ]
  },
  {
   "cell_type": "code",
   "execution_count": 44,
   "metadata": {},
   "outputs": [],
   "source": [
    "from keras.models import Model,load_model\n",
    "from keras.layers import Input, Dot\n",
    "from keras.optimizers import Adam\n",
    "from keras.regularizers import l2\n",
    "from keras.layers import Concatenate, Dense, Dropout, Add, Activation, Lambda\n",
    "from keras.callbacks import EarlyStopping\n",
    "usualCallback = EarlyStopping()"
   ]
  },
  {
   "cell_type": "code",
   "execution_count": 25,
   "metadata": {},
   "outputs": [],
   "source": []
  },
  {
   "cell_type": "code",
   "execution_count": 61,
   "metadata": {},
   "outputs": [],
   "source": [
    "nb_neurons = 100\n",
    "nb_dropout = 0.30\n",
    "nb_embeddinglayer = 50\n",
    "max_nb_layers= 200\n",
    "\n",
    "#opt_layer = layers(max_nb_layers, nb_neurons, nb_dropout, nb_embeddinglayer, data)"
   ]
  },
  {
   "cell_type": "code",
   "execution_count": 62,
   "metadata": {},
   "outputs": [],
   "source": [
    "from optimizer import*\n",
    "from helpersNeuronalNet import*"
   ]
  },
  {
   "cell_type": "code",
   "execution_count": null,
   "metadata": {},
   "outputs": [],
   "source": [
    "def embeddinglayer(nb_layers, nb_neurons, nb_dropout, max_nb_embeddinglayer, data):\n",
    "    X_train_array, X_test_array, y_train, y_test, n_movies, n_users = setDataSet(data)\n",
    "    max_accuracy = 0\n",
    "    for embeddinglayer in range(10,max_nb_embeddinglayer,10):\n",
    "        model = generate(nb_layers, nb_neurons, nb_dropout, n_users, n_movies, embeddinglayer)\n",
    "        history = model.fit(x=X_train_array, y=y_train,  batch_size=1024, \n",
    "                             epochs=10000,verbose=1,validation_data=(X_test_array, y_test),callbacks=[usualCallback])\n",
    "        accuracy.append(history.history['val_accuracy'][-1])\n",
    "        \n",
    "        if (max_accuracy < max(accuracy)):\n",
    "            max_accuracy = max(accuracy)\n",
    "            nb_embeddinglayer = embeddinglayer\n",
    "            \n",
    "    return nb_embeddinglayer"
   ]
  }
 ],
 "metadata": {
  "kernelspec": {
   "display_name": "Python 3",
   "language": "python",
   "name": "python3"
  },
  "language_info": {
   "codemirror_mode": {
    "name": "ipython",
    "version": 3
   },
   "file_extension": ".py",
   "mimetype": "text/x-python",
   "name": "python",
   "nbconvert_exporter": "python",
   "pygments_lexer": "ipython3",
   "version": "3.7.3"
  }
 },
 "nbformat": 4,
 "nbformat_minor": 2
}
