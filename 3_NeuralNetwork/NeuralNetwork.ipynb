{
 "cells": [
  {
   "cell_type": "markdown",
   "metadata": {},
   "source": [
    "# Recommender System - Neural Network"
   ]
  },
  {
   "cell_type": "markdown",
   "metadata": {},
   "source": [
    "The recommender here use the RMSE loss function."
   ]
  },
  {
   "cell_type": "markdown",
   "metadata": {},
   "source": [
    "## 1. Prerequisites"
   ]
  },
  {
   "cell_type": "code",
   "execution_count": 1,
   "metadata": {},
   "outputs": [
    {
     "name": "stderr",
     "output_type": "stream",
     "text": [
      "Using TensorFlow backend.\n"
     ]
    }
   ],
   "source": [
    "import numpy as np\n",
    "import pandas as pd\n",
    "import matplotlib.pyplot as plt\n",
    "import os\n",
    "import warnings\n",
    "import scipy\n",
    "import scipy.io\n",
    "import scipy.sparse as sp\n",
    "import keras\n",
    "\n",
    "warnings.filterwarnings('ignore')\n",
    "%matplotlib inline\n",
    "\n",
    "\n",
    "from sklearn.preprocessing import LabelEncoder\n",
    "from keras import layers\n",
    "from keras import models\n",
    "from keras import optimizers\n",
    "\n",
    "%load_ext autoreload\n",
    "%autoreload 2"
   ]
  },
  {
   "cell_type": "code",
   "execution_count": 2,
   "metadata": {},
   "outputs": [],
   "source": [
    "from helpersNeuralNet import load_data\n",
    "from sklearn.model_selection import train_test_split\n",
    "\n",
    "DATA_TRAIN_PATH = \"data/data_train.csv\"\n",
    "ratings = load_data(DATA_TRAIN_PATH)\n",
    "\n",
    "DATA_TEST_PATH = \"data/sampleSubmission.csv\"\n",
    "samples = load_data(DATA_TEST_PATH)\n",
    "\n",
    "n_users = len(ratings.user_id.unique())\n",
    "n_items = len(ratings.movie_id.unique())"
   ]
  },
  {
   "cell_type": "code",
   "execution_count": 3,
   "metadata": {},
   "outputs": [
    {
     "data": {
      "text/html": [
       "<div>\n",
       "<style scoped>\n",
       "    .dataframe tbody tr th:only-of-type {\n",
       "        vertical-align: middle;\n",
       "    }\n",
       "\n",
       "    .dataframe tbody tr th {\n",
       "        vertical-align: top;\n",
       "    }\n",
       "\n",
       "    .dataframe thead th {\n",
       "        text-align: right;\n",
       "    }\n",
       "</style>\n",
       "<table border=\"1\" class=\"dataframe\">\n",
       "  <thead>\n",
       "    <tr style=\"text-align: right;\">\n",
       "      <th></th>\n",
       "      <th>user_id</th>\n",
       "      <th>movie_id</th>\n",
       "      <th>rating</th>\n",
       "    </tr>\n",
       "  </thead>\n",
       "  <tbody>\n",
       "    <tr>\n",
       "      <th>0</th>\n",
       "      <td>37</td>\n",
       "      <td>1</td>\n",
       "      <td>3</td>\n",
       "    </tr>\n",
       "    <tr>\n",
       "      <th>1</th>\n",
       "      <td>73</td>\n",
       "      <td>1</td>\n",
       "      <td>3</td>\n",
       "    </tr>\n",
       "    <tr>\n",
       "      <th>2</th>\n",
       "      <td>156</td>\n",
       "      <td>1</td>\n",
       "      <td>3</td>\n",
       "    </tr>\n",
       "    <tr>\n",
       "      <th>3</th>\n",
       "      <td>160</td>\n",
       "      <td>1</td>\n",
       "      <td>3</td>\n",
       "    </tr>\n",
       "    <tr>\n",
       "      <th>4</th>\n",
       "      <td>248</td>\n",
       "      <td>1</td>\n",
       "      <td>3</td>\n",
       "    </tr>\n",
       "  </tbody>\n",
       "</table>\n",
       "</div>"
      ],
      "text/plain": [
       "  user_id movie_id  rating\n",
       "0      37        1       3\n",
       "1      73        1       3\n",
       "2     156        1       3\n",
       "3     160        1       3\n",
       "4     248        1       3"
      ]
     },
     "execution_count": 3,
     "metadata": {},
     "output_type": "execute_result"
    }
   ],
   "source": [
    "samples.head()"
   ]
  },
  {
   "cell_type": "markdown",
   "metadata": {},
   "source": [
    "## 2. Data preprocessing"
   ]
  },
  {
   "cell_type": "code",
   "execution_count": 4,
   "metadata": {},
   "outputs": [],
   "source": [
    "from sklearn import model_selection\n",
    "\n",
    "train_x, test_x = model_selection.train_test_split(ratings, test_size=0.2, random_state=1)"
   ]
  },
  {
   "cell_type": "code",
   "execution_count": 5,
   "metadata": {},
   "outputs": [
    {
     "data": {
      "text/plain": [
       "(235391, 5)"
      ]
     },
     "execution_count": 5,
     "metadata": {},
     "output_type": "execute_result"
    }
   ],
   "source": [
    "categorical_train_y = np.zeros([train_x.shape[0], 5])\n",
    "categorical_train_y[np.arange(train_x.shape[0]), train_x.rating - 1] = 1\n",
    "categorical_train_y.shape\n",
    "\n",
    "categorical_test_y = np.zeros([test_x.shape[0], 5])\n",
    "categorical_test_y[np.arange(test_x.shape[0]), test_x.rating - 1] = 1\n",
    "categorical_test_y.shape"
   ]
  },
  {
   "cell_type": "markdown",
   "metadata": {},
   "source": [
    "## 3. Neural network"
   ]
  },
  {
   "cell_type": "code",
   "execution_count": 6,
   "metadata": {},
   "outputs": [],
   "source": [
    "from keras.optimizers import Adam\n",
    "from keras.regularizers import l2\n",
    "from keras_radam import RAdam\n",
    "\n",
    "def shallow_net():\n",
    "    features = 48\n",
    "    \n",
    "    input_i = layers.Input(shape=[1])\n",
    "    i = layers.Embedding(n_items + 1, features)(input_i)\n",
    "    i = layers.Flatten()(i)\n",
    "    i = layers.normalization.BatchNormalization()(i)\n",
    "\n",
    "    input_u = layers.Input(shape=[1])\n",
    "    u = layers.Embedding(n_users + 1, features)(input_u)\n",
    "    u = layers.Flatten()(u)\n",
    "    u = layers.normalization.BatchNormalization()(u)\n",
    "    \n",
    "    nn = layers.concatenate([i, u])\n",
    "    \n",
    "    nn = layers.Dense(512, activation='relu')(nn)\n",
    "    nn = layers.Dropout(0.5)(nn)\n",
    "    nn = layers.normalization.BatchNormalization()(nn)\n",
    "    \n",
    "    nn = layers.Dense(128, activation='relu')(nn)\n",
    "    \n",
    "    output = layers.Dense(5, activation='softmax')(nn)\n",
    "    \n",
    "    model = models.Model([input_i, input_u], output)\n",
    "    model.compile(optimizer='adamax', loss='categorical_crossentropy')\n",
    "    return model\n",
    "\n",
    "# Optimizer : 'adamax', 'sgd', 'adam', RAdam()"
   ]
  },
  {
   "cell_type": "code",
   "execution_count": 16,
   "metadata": {},
   "outputs": [],
   "source": [
    "def dense_net():\n",
    "    features = 256\n",
    "    \n",
    "    input_i = layers.Input(shape=[1])\n",
    "    i = layers.Embedding(n_items + 1, features)(input_i)\n",
    "    i = layers.Flatten()(i)\n",
    "    i = layers.normalization.BatchNormalization()(i)\n",
    "\n",
    "    input_u = layers.Input(shape=[1])\n",
    "    u = layers.Embedding(n_users + 1, features)(input_u)\n",
    "    u = layers.Flatten()(u)\n",
    "    u = layers.normalization.BatchNormalization()(u)\n",
    "    \n",
    "    nn = layers.concatenate([i, u])\n",
    "    \n",
    "    nn = layers.Dense(512, activation='relu')(nn)\n",
    "    nn = layers.normalization.BatchNormalization()(nn)\n",
    "#     nn = layers.Dropout(0.5)(nn)\n",
    "    nn = layers.Dense(512, activation='relu')(nn)\n",
    "    \n",
    "    output =  layers.Dense(5, activation='softmax')(nn)\n",
    "    \n",
    "    model = models.Model([input_i, input_u], output)\n",
    "    model.compile(optimizer='adamax', loss='categorical_crossentropy')\n",
    "    return model"
   ]
  },
  {
   "cell_type": "code",
   "execution_count": 8,
   "metadata": {},
   "outputs": [],
   "source": [
    "def deep_net():\n",
    "    features = 48\n",
    "    \n",
    "    input_i = layers.Input(shape=[1])\n",
    "    i = layers.Embedding(n_items + 1, features)(input_i)\n",
    "    i = layers.Flatten()(i)\n",
    "    i = layers.normalization.BatchNormalization()(i)\n",
    "\n",
    "    input_u = layers.Input(shape=[1])\n",
    "    u = layers.Embedding(n_users + 1, features)(input_u)\n",
    "    u = layers.Flatten()(u)\n",
    "    u = layers.normalization.BatchNormalization()(u)\n",
    "    \n",
    "    nn = layers.concatenate([i, u])\n",
    "    \n",
    "    nn = layers.Dense(1024, activation='relu')(nn)\n",
    "    nn = layers.Dropout(0.5)(nn)\n",
    "    nn = layers.normalization.BatchNormalization()(nn)\n",
    "    nn = layers.Dense(512, activation='relu')(nn)\n",
    "    nn = layers.Dropout(0.5)(nn)\n",
    "    nn = layers.normalization.BatchNormalization()(nn)\n",
    "    nn = layers.Dense(256, activation='relu')(nn)\n",
    "    nn = layers.Dropout(0.5)(nn)\n",
    "    nn = layers.normalization.BatchNormalization()(nn)\n",
    "    nn = layers.Dense(128, activation='relu')(nn)\n",
    "    \n",
    "    output = layers.Dense(5, activation='softmax')(nn)\n",
    "    \n",
    "    model = models.Model([input_i, input_u], output)\n",
    "    model.compile(optimizer='adamax', loss='categorical_crossentropy')\n",
    "    \n",
    "    return model"
   ]
  },
  {
   "cell_type": "code",
   "execution_count": 17,
   "metadata": {},
   "outputs": [
    {
     "name": "stdout",
     "output_type": "stream",
     "text": [
      "Model: \"model_5\"\n",
      "__________________________________________________________________________________________________\n",
      "Layer (type)                    Output Shape         Param #     Connected to                     \n",
      "==================================================================================================\n",
      "input_9 (InputLayer)            (None, 1)            0                                            \n",
      "__________________________________________________________________________________________________\n",
      "input_10 (InputLayer)           (None, 1)            0                                            \n",
      "__________________________________________________________________________________________________\n",
      "embedding_9 (Embedding)         (None, 1, 256)       256256      input_9[0][0]                    \n",
      "__________________________________________________________________________________________________\n",
      "embedding_10 (Embedding)        (None, 1, 256)       2560256     input_10[0][0]                   \n",
      "__________________________________________________________________________________________________\n",
      "flatten_9 (Flatten)             (None, 256)          0           embedding_9[0][0]                \n",
      "__________________________________________________________________________________________________\n",
      "flatten_10 (Flatten)            (None, 256)          0           embedding_10[0][0]               \n",
      "__________________________________________________________________________________________________\n",
      "batch_normalization_13 (BatchNo (None, 256)          1024        flatten_9[0][0]                  \n",
      "__________________________________________________________________________________________________\n",
      "batch_normalization_14 (BatchNo (None, 256)          1024        flatten_10[0][0]                 \n",
      "__________________________________________________________________________________________________\n",
      "concatenate_5 (Concatenate)     (None, 512)          0           batch_normalization_13[0][0]     \n",
      "                                                                 batch_normalization_14[0][0]     \n",
      "__________________________________________________________________________________________________\n",
      "dense_13 (Dense)                (None, 512)          262656      concatenate_5[0][0]              \n",
      "__________________________________________________________________________________________________\n",
      "batch_normalization_15 (BatchNo (None, 512)          2048        dense_13[0][0]                   \n",
      "__________________________________________________________________________________________________\n",
      "dense_14 (Dense)                (None, 512)          262656      batch_normalization_15[0][0]     \n",
      "__________________________________________________________________________________________________\n",
      "dense_15 (Dense)                (None, 5)            2565        dense_14[0][0]                   \n",
      "==================================================================================================\n",
      "Total params: 3,348,485\n",
      "Trainable params: 3,346,437\n",
      "Non-trainable params: 2,048\n",
      "__________________________________________________________________________________________________\n",
      "Train on 941561 samples, validate on 235391 samples\n",
      "Epoch 1/20\n",
      "941561/941561 [==============================] - 67s 72us/step - loss: 1.3187 - val_loss: 1.3836\n",
      "Epoch 2/20\n",
      "941561/941561 [==============================] - 61s 65us/step - loss: 1.1950 - val_loss: 1.2898\n",
      "Epoch 3/20\n",
      "941561/941561 [==============================] - 61s 65us/step - loss: 1.1239 - val_loss: 1.3279\n",
      "Epoch 4/20\n",
      "941561/941561 [==============================] - 62s 66us/step - loss: 1.0248 - val_loss: 1.4085\n",
      "Epoch 5/20\n",
      "941561/941561 [==============================] - 61s 65us/step - loss: 0.9027 - val_loss: 1.5336\n",
      "Epoch 6/20\n",
      "941561/941561 [==============================] - 61s 65us/step - loss: 0.7748 - val_loss: 1.6930\n",
      "Epoch 7/20\n",
      "941561/941561 [==============================] - 76s 80us/step - loss: 0.6546 - val_loss: 1.8766\n",
      "Epoch 8/20\n",
      "941561/941561 [==============================] - 82s 87us/step - loss: 0.5467 - val_loss: 2.0941\n",
      "Epoch 9/20\n",
      "941561/941561 [==============================] - 65s 69us/step - loss: 0.4537 - val_loss: 2.3083\n",
      "Epoch 10/20\n",
      "941561/941561 [==============================] - 69s 73us/step - loss: 0.3742 - val_loss: 2.5600\n",
      "Epoch 11/20\n",
      "941561/941561 [==============================] - 68s 72us/step - loss: 0.3094 - val_loss: 2.7953\n",
      "Epoch 12/20\n",
      "941561/941561 [==============================] - 67s 71us/step - loss: 0.2576 - val_loss: 3.0440\n",
      "Epoch 13/20\n",
      "941561/941561 [==============================] - 67s 71us/step - loss: 0.2170 - val_loss: 3.2841\n",
      "Epoch 14/20\n",
      "941561/941561 [==============================] - 67s 71us/step - loss: 0.1855 - val_loss: 3.5257\n",
      "Epoch 15/20\n",
      "941561/941561 [==============================] - 66s 70us/step - loss: 0.1616 - val_loss: 3.7399\n",
      "Epoch 16/20\n",
      "941561/941561 [==============================] - 66s 71us/step - loss: 0.1440 - val_loss: 3.9391\n",
      "Epoch 17/20\n",
      "941561/941561 [==============================] - 66s 70us/step - loss: 0.1286 - val_loss: 4.1274\n",
      "Epoch 18/20\n",
      "941561/941561 [==============================] - 66s 71us/step - loss: 0.1183 - val_loss: 4.3225\n",
      "Epoch 19/20\n",
      "941561/941561 [==============================] - 67s 71us/step - loss: 0.1091 - val_loss: 4.4846\n",
      "Epoch 20/20\n",
      "941561/941561 [==============================] - 66s 70us/step - loss: 0.1018 - val_loss: 4.6502\n"
     ]
    },
    {
     "data": {
      "text/plain": [
       "Text(0, 0.5, 'Test Error')"
      ]
     },
     "execution_count": 17,
     "metadata": {},
     "output_type": "execute_result"
    },
    {
     "data": {
      "image/png": "[encoded data removed]",
      "text/plain": [
       "<Figure size 432x288 with 1 Axes>"
      ]
     },
     "metadata": {
      "needs_background": "light"
     },
     "output_type": "display_data"
    }
   ],
   "source": [
    "model = dense_net()\n",
    "model.summary()\n",
    "\n",
    "history = model.fit([train_x.movie_id, train_x.user_id], y=categorical_train_y,  batch_size=2048, epochs=20, validation_data=([test_x.movie_id, test_x.user_id], categorical_test_y))\n",
    "model.save('NeuralNet_base.h5')\n",
    "plt.plot(history.history['val_loss'])\n",
    "plt.xlabel(\"Epochs\")\n",
    "plt.ylabel(\"Test Error\")"
   ]
  },
  {
   "cell_type": "markdown",
   "metadata": {},
   "source": [
    "### 5.2 Model validation"
   ]
  },
  {
   "cell_type": "code",
   "execution_count": 10,
   "metadata": {
    "scrolled": true
   },
   "outputs": [
    {
     "name": "stdout",
     "output_type": "stream",
     "text": [
      "235391/235391 [==============================] - 11s 48us/step\n"
     ]
    },
    {
     "data": {
      "text/plain": [
       "1.5982267639283312"
      ]
     },
     "execution_count": 10,
     "metadata": {},
     "output_type": "execute_result"
    }
   ],
   "source": [
    "model.evaluate([test_x.movie_id, test_x.user_id], categorical_test_y)"
   ]
  },
  {
   "cell_type": "code",
   "execution_count": 26,
   "metadata": {
    "scrolled": true
   },
   "outputs": [],
   "source": [
    "from sklearn.metrics import mean_squared_error\n",
    "\n",
    "pred_test_matrix = model.predict([test_x.movie_id, test_x.user_id])\n",
    "\n",
    "pred_test = (np.dot(pred_test_matrix,[1,2,3,4,5])).tolist()"
   ]
  },
  {
   "cell_type": "code",
   "execution_count": 27,
   "metadata": {},
   "outputs": [],
   "source": [
    "for i in range(len(pred_test)):\n",
    "#     pred[i] = np.round(pred[i])\n",
    "    if (pred_test[i] < 1):\n",
    "        pred_test[i] = 1\n",
    "    elif (pred_test[i] > 5):\n",
    "        pred_test[i] = 5"
   ]
  },
  {
   "cell_type": "code",
   "execution_count": 33,
   "metadata": {},
   "outputs": [
    {
     "data": {
      "text/html": [
       "<div>\n",
       "<style scoped>\n",
       "    .dataframe tbody tr th:only-of-type {\n",
       "        vertical-align: middle;\n",
       "    }\n",
       "\n",
       "    .dataframe tbody tr th {\n",
       "        vertical-align: top;\n",
       "    }\n",
       "\n",
       "    .dataframe thead th {\n",
       "        text-align: right;\n",
       "    }\n",
       "</style>\n",
       "<table border=\"1\" class=\"dataframe\">\n",
       "  <thead>\n",
       "    <tr style=\"text-align: right;\">\n",
       "      <th></th>\n",
       "      <th>user_id</th>\n",
       "      <th>movie_id</th>\n",
       "      <th>rating</th>\n",
       "      <th>NN_shallow_rating</th>\n",
       "    </tr>\n",
       "  </thead>\n",
       "  <tbody>\n",
       "    <tr>\n",
       "      <th>1014743</th>\n",
       "      <td>1219</td>\n",
       "      <td>803</td>\n",
       "      <td>5</td>\n",
       "      <td>3.642172</td>\n",
       "    </tr>\n",
       "    <tr>\n",
       "      <th>791571</th>\n",
       "      <td>1865</td>\n",
       "      <td>643</td>\n",
       "      <td>1</td>\n",
       "      <td>4.470908</td>\n",
       "    </tr>\n",
       "    <tr>\n",
       "      <th>967641</th>\n",
       "      <td>1382</td>\n",
       "      <td>771</td>\n",
       "      <td>3</td>\n",
       "      <td>3.038107</td>\n",
       "    </tr>\n",
       "    <tr>\n",
       "      <th>65567</th>\n",
       "      <td>3295</td>\n",
       "      <td>53</td>\n",
       "      <td>3</td>\n",
       "      <td>3.648969</td>\n",
       "    </tr>\n",
       "    <tr>\n",
       "      <th>622228</th>\n",
       "      <td>9259</td>\n",
       "      <td>530</td>\n",
       "      <td>4</td>\n",
       "      <td>4.012660</td>\n",
       "    </tr>\n",
       "    <tr>\n",
       "      <th>...</th>\n",
       "      <td>...</td>\n",
       "      <td>...</td>\n",
       "      <td>...</td>\n",
       "      <td>...</td>\n",
       "    </tr>\n",
       "    <tr>\n",
       "      <th>468443</th>\n",
       "      <td>2110</td>\n",
       "      <td>403</td>\n",
       "      <td>5</td>\n",
       "      <td>3.727260</td>\n",
       "    </tr>\n",
       "    <tr>\n",
       "      <th>1064490</th>\n",
       "      <td>9211</td>\n",
       "      <td>855</td>\n",
       "      <td>2</td>\n",
       "      <td>2.812773</td>\n",
       "    </tr>\n",
       "    <tr>\n",
       "      <th>1172922</th>\n",
       "      <td>7228</td>\n",
       "      <td>996</td>\n",
       "      <td>3</td>\n",
       "      <td>3.449689</td>\n",
       "    </tr>\n",
       "    <tr>\n",
       "      <th>327551</th>\n",
       "      <td>9827</td>\n",
       "      <td>272</td>\n",
       "      <td>5</td>\n",
       "      <td>3.998318</td>\n",
       "    </tr>\n",
       "    <tr>\n",
       "      <th>348100</th>\n",
       "      <td>1428</td>\n",
       "      <td>296</td>\n",
       "      <td>5</td>\n",
       "      <td>4.046476</td>\n",
       "    </tr>\n",
       "  </tbody>\n",
       "</table>\n",
       "<p>235391 rows × 4 columns</p>\n",
       "</div>"
      ],
      "text/plain": [
       "        user_id movie_id  rating  NN_shallow_rating\n",
       "1014743    1219      803       5           3.642172\n",
       "791571     1865      643       1           4.470908\n",
       "967641     1382      771       3           3.038107\n",
       "65567      3295       53       3           3.648969\n",
       "622228     9259      530       4           4.012660\n",
       "...         ...      ...     ...                ...\n",
       "468443     2110      403       5           3.727260\n",
       "1064490    9211      855       2           2.812773\n",
       "1172922    7228      996       3           3.449689\n",
       "327551     9827      272       5           3.998318\n",
       "348100     1428      296       5           4.046476\n",
       "\n",
       "[235391 rows x 4 columns]"
      ]
     },
     "execution_count": 33,
     "metadata": {},
     "output_type": "execute_result"
    }
   ],
   "source": [
    "test_x['NN_dense_rating'] = pred_test\n",
    "test_x"
   ]
  },
  {
   "cell_type": "code",
   "execution_count": 34,
   "metadata": {},
   "outputs": [],
   "source": [
    "DATA_BLENDING_TEST = \"data/neuralnet_dense_test.csv\"\n",
    "test_x.to_csv(DATA_BLENDING_TEST)"
   ]
  },
  {
   "cell_type": "markdown",
   "metadata": {},
   "source": [
    "### Create submission"
   ]
  },
  {
   "cell_type": "code",
   "execution_count": 30,
   "metadata": {},
   "outputs": [],
   "source": [
    "pred_matrix = model.predict([samples.movie_id, samples.user_id])"
   ]
  },
  {
   "cell_type": "code",
   "execution_count": 31,
   "metadata": {},
   "outputs": [],
   "source": [
    "pred_samples = (np.dot(pred_matrix,[1,2,3,4,5])).tolist()"
   ]
  },
  {
   "cell_type": "code",
   "execution_count": 35,
   "metadata": {},
   "outputs": [],
   "source": [
    "for i in range(len(pred_samples)):\n",
    "#     pred[i] = np.round(pred[i])\n",
    "    if (pred_samples[i] < 1):\n",
    "        pred_samples[i] = 1\n",
    "    elif (pred_samples[i] > 5):\n",
    "        pred_samples[i] = 5"
   ]
  },
  {
   "cell_type": "code",
   "execution_count": 36,
   "metadata": {},
   "outputs": [
    {
     "data": {
      "text/html": [
       "<div>\n",
       "<style scoped>\n",
       "    .dataframe tbody tr th:only-of-type {\n",
       "        vertical-align: middle;\n",
       "    }\n",
       "\n",
       "    .dataframe tbody tr th {\n",
       "        vertical-align: top;\n",
       "    }\n",
       "\n",
       "    .dataframe thead th {\n",
       "        text-align: right;\n",
       "    }\n",
       "</style>\n",
       "<table border=\"1\" class=\"dataframe\">\n",
       "  <thead>\n",
       "    <tr style=\"text-align: right;\">\n",
       "      <th></th>\n",
       "      <th>user_id</th>\n",
       "      <th>movie_id</th>\n",
       "      <th>rating</th>\n",
       "      <th>NN_shallow_rating</th>\n",
       "    </tr>\n",
       "  </thead>\n",
       "  <tbody>\n",
       "    <tr>\n",
       "      <th>0</th>\n",
       "      <td>37</td>\n",
       "      <td>1</td>\n",
       "      <td>3</td>\n",
       "      <td>3.425436</td>\n",
       "    </tr>\n",
       "    <tr>\n",
       "      <th>1</th>\n",
       "      <td>73</td>\n",
       "      <td>1</td>\n",
       "      <td>3</td>\n",
       "      <td>3.173776</td>\n",
       "    </tr>\n",
       "    <tr>\n",
       "      <th>2</th>\n",
       "      <td>156</td>\n",
       "      <td>1</td>\n",
       "      <td>3</td>\n",
       "      <td>3.573101</td>\n",
       "    </tr>\n",
       "    <tr>\n",
       "      <th>3</th>\n",
       "      <td>160</td>\n",
       "      <td>1</td>\n",
       "      <td>3</td>\n",
       "      <td>3.092145</td>\n",
       "    </tr>\n",
       "    <tr>\n",
       "      <th>4</th>\n",
       "      <td>248</td>\n",
       "      <td>1</td>\n",
       "      <td>3</td>\n",
       "      <td>3.672881</td>\n",
       "    </tr>\n",
       "    <tr>\n",
       "      <th>...</th>\n",
       "      <td>...</td>\n",
       "      <td>...</td>\n",
       "      <td>...</td>\n",
       "      <td>...</td>\n",
       "    </tr>\n",
       "    <tr>\n",
       "      <th>1176947</th>\n",
       "      <td>9974</td>\n",
       "      <td>1000</td>\n",
       "      <td>3</td>\n",
       "      <td>3.815011</td>\n",
       "    </tr>\n",
       "    <tr>\n",
       "      <th>1176948</th>\n",
       "      <td>9977</td>\n",
       "      <td>1000</td>\n",
       "      <td>3</td>\n",
       "      <td>3.209673</td>\n",
       "    </tr>\n",
       "    <tr>\n",
       "      <th>1176949</th>\n",
       "      <td>9978</td>\n",
       "      <td>1000</td>\n",
       "      <td>3</td>\n",
       "      <td>2.180135</td>\n",
       "    </tr>\n",
       "    <tr>\n",
       "      <th>1176950</th>\n",
       "      <td>9982</td>\n",
       "      <td>1000</td>\n",
       "      <td>3</td>\n",
       "      <td>2.662641</td>\n",
       "    </tr>\n",
       "    <tr>\n",
       "      <th>1176951</th>\n",
       "      <td>9996</td>\n",
       "      <td>1000</td>\n",
       "      <td>3</td>\n",
       "      <td>3.875110</td>\n",
       "    </tr>\n",
       "  </tbody>\n",
       "</table>\n",
       "<p>1176952 rows × 4 columns</p>\n",
       "</div>"
      ],
      "text/plain": [
       "        user_id movie_id  rating  NN_shallow_rating\n",
       "0            37        1       3           3.425436\n",
       "1            73        1       3           3.173776\n",
       "2           156        1       3           3.573101\n",
       "3           160        1       3           3.092145\n",
       "4           248        1       3           3.672881\n",
       "...         ...      ...     ...                ...\n",
       "1176947    9974     1000       3           3.815011\n",
       "1176948    9977     1000       3           3.209673\n",
       "1176949    9978     1000       3           2.180135\n",
       "1176950    9982     1000       3           2.662641\n",
       "1176951    9996     1000       3           3.875110\n",
       "\n",
       "[1176952 rows x 4 columns]"
      ]
     },
     "execution_count": 36,
     "metadata": {},
     "output_type": "execute_result"
    }
   ],
   "source": [
    "submission = load_data(DATA_TEST_PATH)\n",
    "submission['NN_dense_rating'] = pred_samples\n",
    "submission"
   ]
  },
  {
   "cell_type": "code",
   "execution_count": 37,
   "metadata": {},
   "outputs": [],
   "source": [
    "DATA_BLENDING_SUBMISSION = \"data/neuralnet_dense_submission.csv\"\n",
    "submission.to_csv(DATA_BLENDING_SUBMISSION)"
   ]
  },
  {
   "cell_type": "code",
   "execution_count": null,
   "metadata": {},
   "outputs": [],
   "source": []
  }
 ],
 "metadata": {
  "kernelspec": {
   "display_name": "Python 3",
   "language": "python",
   "name": "python3"
  },
  "language_info": {
   "codemirror_mode": {
    "name": "ipython",
    "version": 3
   },
   "file_extension": ".py",
   "mimetype": "text/x-python",
   "name": "python",
   "nbconvert_exporter": "python",
   "pygments_lexer": "ipython3",
   "version": "3.7.3"
  }
 },
 "nbformat": 4,
 "nbformat_minor": 2
}
