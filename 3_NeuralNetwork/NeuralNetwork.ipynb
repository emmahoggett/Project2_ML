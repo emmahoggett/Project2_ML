{
 "cells": [
  {
   "cell_type": "markdown",
   "metadata": {},
   "source": [
    "# Recommender System - Neural Network"
   ]
  },
  {
   "cell_type": "markdown",
   "metadata": {},
   "source": [
    "The recommender here use the RMSE loss function."
   ]
  },
  {
   "cell_type": "markdown",
   "metadata": {},
   "source": [
    "## 1. Prerequisites"
   ]
  },
  {
   "cell_type": "code",
   "execution_count": 1,
   "metadata": {},
   "outputs": [
    {
     "name": "stderr",
     "output_type": "stream",
     "text": [
      "Using TensorFlow backend.\n"
     ]
    }
   ],
   "source": [
    "import numpy as np\n",
    "import pandas as pd\n",
    "import matplotlib.pyplot as plt\n",
    "import os\n",
    "import warnings\n",
    "import scipy\n",
    "import scipy.io\n",
    "import scipy.sparse as sp\n",
    "import keras\n",
    "\n",
    "warnings.filterwarnings('ignore')\n",
    "%matplotlib inline\n",
    "\n",
    "\n",
    "from sklearn.preprocessing import LabelEncoder\n",
    "from keras import layers\n",
    "from keras import models\n",
    "from keras import optimizers\n",
    "\n",
    "%load_ext autoreload\n",
    "%autoreload 2"
   ]
  },
  {
   "cell_type": "code",
   "execution_count": 2,
   "metadata": {},
   "outputs": [],
   "source": [
    "from helpersNeuralNet import load_data\n",
    "from sklearn.model_selection import train_test_split\n",
    "\n",
    "DATA_TRAIN_PATH = \"data/data_train.csv\"\n",
    "ratings = load_data(DATA_TRAIN_PATH)\n",
    "\n",
    "DATA_TEST_PATH = \"data/sampleSubmission.csv\"\n",
    "samples = load_data(DATA_TEST_PATH)\n",
    "\n",
    "n_users = len(ratings.user_id.unique())\n",
    "n_items = len(ratings.movie_id.unique())\n",
    "\n",
    "train, test = train_test_split(ratings, test_size=0.1, random_state=42)"
   ]
  },
  {
   "cell_type": "code",
   "execution_count": 3,
   "metadata": {},
   "outputs": [
    {
     "data": {
      "text/html": [
       "<div>\n",
       "<style scoped>\n",
       "    .dataframe tbody tr th:only-of-type {\n",
       "        vertical-align: middle;\n",
       "    }\n",
       "\n",
       "    .dataframe tbody tr th {\n",
       "        vertical-align: top;\n",
       "    }\n",
       "\n",
       "    .dataframe thead th {\n",
       "        text-align: right;\n",
       "    }\n",
       "</style>\n",
       "<table border=\"1\" class=\"dataframe\">\n",
       "  <thead>\n",
       "    <tr style=\"text-align: right;\">\n",
       "      <th></th>\n",
       "      <th>user_id</th>\n",
       "      <th>movie_id</th>\n",
       "      <th>rating</th>\n",
       "    </tr>\n",
       "  </thead>\n",
       "  <tbody>\n",
       "    <tr>\n",
       "      <th>0</th>\n",
       "      <td>37</td>\n",
       "      <td>1</td>\n",
       "      <td>3</td>\n",
       "    </tr>\n",
       "    <tr>\n",
       "      <th>1</th>\n",
       "      <td>73</td>\n",
       "      <td>1</td>\n",
       "      <td>3</td>\n",
       "    </tr>\n",
       "    <tr>\n",
       "      <th>2</th>\n",
       "      <td>156</td>\n",
       "      <td>1</td>\n",
       "      <td>3</td>\n",
       "    </tr>\n",
       "    <tr>\n",
       "      <th>3</th>\n",
       "      <td>160</td>\n",
       "      <td>1</td>\n",
       "      <td>3</td>\n",
       "    </tr>\n",
       "    <tr>\n",
       "      <th>4</th>\n",
       "      <td>248</td>\n",
       "      <td>1</td>\n",
       "      <td>3</td>\n",
       "    </tr>\n",
       "  </tbody>\n",
       "</table>\n",
       "</div>"
      ],
      "text/plain": [
       "  user_id movie_id  rating\n",
       "0      37        1       3\n",
       "1      73        1       3\n",
       "2     156        1       3\n",
       "3     160        1       3\n",
       "4     248        1       3"
      ]
     },
     "execution_count": 3,
     "metadata": {},
     "output_type": "execute_result"
    }
   ],
   "source": [
    "samples.head()"
   ]
  },
  {
   "cell_type": "markdown",
   "metadata": {},
   "source": [
    "## 2. Data preprocessing"
   ]
  },
  {
   "cell_type": "code",
   "execution_count": 4,
   "metadata": {},
   "outputs": [],
   "source": [
    "from sklearn import model_selection\n",
    "\n",
    "train_x, test_x = model_selection.train_test_split(ratings, test_size=0.2, random_state=1)"
   ]
  },
  {
   "cell_type": "code",
   "execution_count": 5,
   "metadata": {},
   "outputs": [
    {
     "data": {
      "text/plain": [
       "(235391, 5)"
      ]
     },
     "execution_count": 5,
     "metadata": {},
     "output_type": "execute_result"
    }
   ],
   "source": [
    "categorical_train_y = np.zeros([train_x.shape[0], 5])\n",
    "categorical_train_y[np.arange(train_x.shape[0]), train_x.rating - 1] = 1\n",
    "categorical_train_y.shape\n",
    "\n",
    "categorical_test_y = np.zeros([test_x.shape[0], 5])\n",
    "categorical_test_y[np.arange(test_x.shape[0]), test_x.rating - 1] = 1\n",
    "categorical_test_y.shape"
   ]
  },
  {
   "cell_type": "markdown",
   "metadata": {},
   "source": [
    "## 3. Neural network"
   ]
  },
  {
   "cell_type": "code",
   "execution_count": 17,
   "metadata": {},
   "outputs": [],
   "source": [
    "from keras.optimizers import Adam\n",
    "from keras.regularizers import l2\n",
    "from keras_radam import RAdam\n",
    "\n",
    "def shallow_net():\n",
    "    features = 48\n",
    "    \n",
    "    input_i = layers.Input(shape=[1])\n",
    "    i = layers.Embedding(n_items + 1, features)(input_i)\n",
    "    i = layers.Flatten()(i)\n",
    "    i = layers.normalization.BatchNormalization()(i)\n",
    "\n",
    "    input_u = layers.Input(shape=[1])\n",
    "    u = layers.Embedding(n_users + 1, features)(input_u)\n",
    "    u = layers.Flatten()(u)\n",
    "    u = layers.normalization.BatchNormalization()(u)\n",
    "    \n",
    "    nn = layers.concatenate([i, u])\n",
    "    \n",
    "    nn = layers.Dense(512, activation='relu')(nn)\n",
    "    nn = layers.Dropout(0.5)(nn)\n",
    "    nn = layers.normalization.BatchNormalization()(nn)\n",
    "    \n",
    "    nn = layers.Dense(128, activation='relu')(nn)\n",
    "    \n",
    "    output = layers.Dense(5, activation='softmax')(nn)\n",
    "    \n",
    "    model = models.Model([input_i, input_u], output)\n",
    "    model.compile(optimizer='adamax', loss='categorical_crossentropy')\n",
    "    return model\n",
    "\n",
    "# Optimizer : 'adamax', 'sgd', 'adam', RAdam()"
   ]
  },
  {
   "cell_type": "code",
   "execution_count": 32,
   "metadata": {},
   "outputs": [],
   "source": [
    "def dense_net():\n",
    "    features = 256\n",
    "    \n",
    "    input_i = layers.Input(shape=[1])\n",
    "    i = layers.Embedding(n_items + 1, features)(input_i)\n",
    "    i = layers.Flatten()(i)\n",
    "    i = layers.normalization.BatchNormalization()(i)\n",
    "\n",
    "    input_u = layers.Input(shape=[1])\n",
    "    u = layers.Embedding(n_users + 1, features)(input_u)\n",
    "    u = layers.Flatten()(u)\n",
    "    u = layers.normalization.BatchNormalization()(u)\n",
    "    \n",
    "    nn = layers.concatenate([i, u])\n",
    "    \n",
    "    nn = layers.Dense(512, activation='relu')(nn)\n",
    "    nn = layers.normalization.BatchNormalization()(nn)\n",
    "#     nn = layers.Dropout(0.5)(nn)\n",
    "    nn = layers.Dense(512, activation='relu')(nn)\n",
    "    \n",
    "    output =  layers.Dense(5, activation='softmax')(nn)\n",
    "    \n",
    "    model = models.Model([input_i, input_u], output)\n",
    "    model.compile(optimizer='adamax', loss='categorical_crossentropy')\n",
    "    return model"
   ]
  },
  {
   "cell_type": "code",
   "execution_count": 33,
   "metadata": {},
   "outputs": [],
   "source": [
    "def deep_net():\n",
    "    features = 48\n",
    "    \n",
    "    input_i = layers.Input(shape=[1])\n",
    "    i = layers.Embedding(n_items + 1, features)(input_i)\n",
    "    i = layers.Flatten()(i)\n",
    "    i = layers.normalization.BatchNormalization()(i)\n",
    "\n",
    "    input_u = layers.Input(shape=[1])\n",
    "    u = layers.Embedding(n_users + 1, features)(input_u)\n",
    "    u = layers.Flatten()(u)\n",
    "    u = layers.normalization.BatchNormalization()(u)\n",
    "    \n",
    "    nn = layers.concatenate([i, u])\n",
    "    \n",
    "    nn = layers.Dense(1024, activation='relu')(nn)\n",
    "    nn = layers.Dropout(0.5)(nn)\n",
    "    nn = layers.normalization.BatchNormalization()(nn)\n",
    "    nn = layers.Dense(512, activation='relu')(nn)\n",
    "    nn = layers.Dropout(0.5)(nn)\n",
    "    nn = layers.normalization.BatchNormalization()(nn)\n",
    "    nn = layers.Dense(256, activation='relu')(nn)\n",
    "    nn = layers.Dropout(0.5)(nn)\n",
    "    nn = layers.normalization.BatchNormalization()(nn)\n",
    "    nn = layers.Dense(128, activation='relu')(nn)\n",
    "    \n",
    "    output = layers.Dense(5, activation='softmax')(nn)\n",
    "    \n",
    "    model = models.Model([input_i, input_u], output)\n",
    "    model.compile(optimizer='adamax', loss='categorical_crossentropy')\n",
    "    \n",
    "    return model"
   ]
  },
  {
   "cell_type": "code",
   "execution_count": 1,
   "metadata": {},
   "outputs": [
    {
     "ename": "NameError",
     "evalue": "name 'shallow_net' is not defined",
     "output_type": "error",
     "traceback": [
      "\u001b[0;31m---------------------------------------------------------------------------\u001b[0m",
      "\u001b[0;31mNameError\u001b[0m                                 Traceback (most recent call last)",
      "\u001b[0;32m<ipython-input-1-1c0bed0f6991>\u001b[0m in \u001b[0;36m<module>\u001b[0;34m\u001b[0m\n\u001b[0;32m----> 1\u001b[0;31m \u001b[0mmodel\u001b[0m \u001b[0;34m=\u001b[0m \u001b[0mshallow_net\u001b[0m\u001b[0;34m(\u001b[0m\u001b[0;34m)\u001b[0m\u001b[0;34m\u001b[0m\u001b[0;34m\u001b[0m\u001b[0m\n\u001b[0m\u001b[1;32m      2\u001b[0m \u001b[0mmodel\u001b[0m\u001b[0;34m.\u001b[0m\u001b[0msummary\u001b[0m\u001b[0;34m(\u001b[0m\u001b[0;34m)\u001b[0m\u001b[0;34m\u001b[0m\u001b[0;34m\u001b[0m\u001b[0m\n\u001b[1;32m      3\u001b[0m \u001b[0;34m\u001b[0m\u001b[0m\n\u001b[1;32m      4\u001b[0m \u001b[0;32mif\u001b[0m \u001b[0mos\u001b[0m\u001b[0;34m.\u001b[0m\u001b[0mpath\u001b[0m\u001b[0;34m.\u001b[0m\u001b[0mexists\u001b[0m\u001b[0;34m(\u001b[0m\u001b[0;34m'NeuralNet_base.h5'\u001b[0m\u001b[0;34m)\u001b[0m\u001b[0;34m:\u001b[0m\u001b[0;34m\u001b[0m\u001b[0;34m\u001b[0m\u001b[0m\n\u001b[1;32m      5\u001b[0m     \u001b[0mmodel\u001b[0m \u001b[0;34m=\u001b[0m \u001b[0mload_model\u001b[0m\u001b[0;34m(\u001b[0m\u001b[0;34m'NeuralNet_base.h5'\u001b[0m\u001b[0;34m)\u001b[0m\u001b[0;34m\u001b[0m\u001b[0;34m\u001b[0m\u001b[0m\n",
      "\u001b[0;31mNameError\u001b[0m: name 'shallow_net' is not defined"
     ]
    }
   ],
   "source": [
    "model = shallow_net()\n",
    "model.summary()\n",
    "\n",
    "if os.path.exists('NeuralNet_base.h5'):\n",
    "    model = load_model('NeuralNet_base.h5')\n",
    "else:\n",
    "    history = model.fit([train_x.movie_id, train_x.user_id], y=categorical_train_y,  batch_size=20480, epochs=20, validation_data=([test_x.movie_id, test_x.user_id], categorical_test_y))\n",
    "    model.save('NeuralNet_base.h5')\n",
    "    plt.plot(history.history['val_loss'])\n",
    "    plt.xlabel(\"Epochs\")\n",
    "    plt.ylabel(\"Test Error\")"
   ]
  },
  {
   "cell_type": "markdown",
   "metadata": {},
   "source": [
    "### 5.2 Model validation"
   ]
  },
  {
   "cell_type": "code",
   "execution_count": 39,
   "metadata": {
    "scrolled": true
   },
   "outputs": [
    {
     "name": "stdout",
     "output_type": "stream",
     "text": [
      "235391/235391 [==============================] - 11s 45us/step\n"
     ]
    },
    {
     "data": {
      "text/plain": [
       "1.3802265699990555"
      ]
     },
     "execution_count": 39,
     "metadata": {},
     "output_type": "execute_result"
    }
   ],
   "source": [
    "model.evaluate([test_x.movie_id, test_x.user_id], categorical_test_y)"
   ]
  },
  {
   "cell_type": "code",
   "execution_count": 51,
   "metadata": {},
   "outputs": [
    {
     "ename": "ValueError",
     "evalue": "y_true and y_pred have different number of output (5!=1)",
     "output_type": "error",
     "traceback": [
      "\u001b[0;31m---------------------------------------------------------------------------\u001b[0m",
      "\u001b[0;31mValueError\u001b[0m                                Traceback (most recent call last)",
      "\u001b[0;32m<ipython-input-51-3a3e82eba081>\u001b[0m in \u001b[0;36m<module>\u001b[0;34m\u001b[0m\n\u001b[1;32m      3\u001b[0m \u001b[0mprediction_test\u001b[0m \u001b[0;34m=\u001b[0m \u001b[0mnp\u001b[0m\u001b[0;34m.\u001b[0m\u001b[0marray\u001b[0m\u001b[0;34m(\u001b[0m\u001b[0;34m[\u001b[0m\u001b[0ma\u001b[0m\u001b[0;34m[\u001b[0m\u001b[0;36m0\u001b[0m\u001b[0;34m]\u001b[0m \u001b[0;32mfor\u001b[0m \u001b[0ma\u001b[0m \u001b[0;32min\u001b[0m \u001b[0mmodel\u001b[0m\u001b[0;34m.\u001b[0m\u001b[0mpredict\u001b[0m\u001b[0;34m(\u001b[0m\u001b[0;34m[\u001b[0m\u001b[0mtest_x\u001b[0m\u001b[0;34m.\u001b[0m\u001b[0mmovie_id\u001b[0m\u001b[0;34m,\u001b[0m \u001b[0mtest_x\u001b[0m\u001b[0;34m.\u001b[0m\u001b[0muser_id\u001b[0m\u001b[0;34m]\u001b[0m\u001b[0;34m)\u001b[0m\u001b[0;34m]\u001b[0m\u001b[0;34m)\u001b[0m\u001b[0;34m\u001b[0m\u001b[0;34m\u001b[0m\u001b[0m\n\u001b[1;32m      4\u001b[0m \u001b[0;34m\u001b[0m\u001b[0m\n\u001b[0;32m----> 5\u001b[0;31m \u001b[0mprint\u001b[0m \u001b[0;34m(\u001b[0m\u001b[0mmean_squared_error\u001b[0m\u001b[0;34m(\u001b[0m\u001b[0mcategorical_test_y\u001b[0m\u001b[0;34m,\u001b[0m \u001b[0mprediction_test\u001b[0m\u001b[0;34m)\u001b[0m\u001b[0;34m)\u001b[0m\u001b[0;34m\u001b[0m\u001b[0;34m\u001b[0m\u001b[0m\n\u001b[0m",
      "\u001b[0;32m~/anaconda3/lib/python3.7/site-packages/sklearn/metrics/regression.py\u001b[0m in \u001b[0;36mmean_squared_error\u001b[0;34m(y_true, y_pred, sample_weight, multioutput)\u001b[0m\n\u001b[1;32m    239\u001b[0m     \"\"\"\n\u001b[1;32m    240\u001b[0m     y_type, y_true, y_pred, multioutput = _check_reg_targets(\n\u001b[0;32m--> 241\u001b[0;31m         y_true, y_pred, multioutput)\n\u001b[0m\u001b[1;32m    242\u001b[0m     \u001b[0mcheck_consistent_length\u001b[0m\u001b[0;34m(\u001b[0m\u001b[0my_true\u001b[0m\u001b[0;34m,\u001b[0m \u001b[0my_pred\u001b[0m\u001b[0;34m,\u001b[0m \u001b[0msample_weight\u001b[0m\u001b[0;34m)\u001b[0m\u001b[0;34m\u001b[0m\u001b[0;34m\u001b[0m\u001b[0m\n\u001b[1;32m    243\u001b[0m     output_errors = np.average((y_true - y_pred) ** 2, axis=0,\n",
      "\u001b[0;32m~/anaconda3/lib/python3.7/site-packages/sklearn/metrics/regression.py\u001b[0m in \u001b[0;36m_check_reg_targets\u001b[0;34m(y_true, y_pred, multioutput)\u001b[0m\n\u001b[1;32m     87\u001b[0m     \u001b[0;32mif\u001b[0m \u001b[0my_true\u001b[0m\u001b[0;34m.\u001b[0m\u001b[0mshape\u001b[0m\u001b[0;34m[\u001b[0m\u001b[0;36m1\u001b[0m\u001b[0;34m]\u001b[0m \u001b[0;34m!=\u001b[0m \u001b[0my_pred\u001b[0m\u001b[0;34m.\u001b[0m\u001b[0mshape\u001b[0m\u001b[0;34m[\u001b[0m\u001b[0;36m1\u001b[0m\u001b[0;34m]\u001b[0m\u001b[0;34m:\u001b[0m\u001b[0;34m\u001b[0m\u001b[0;34m\u001b[0m\u001b[0m\n\u001b[1;32m     88\u001b[0m         raise ValueError(\"y_true and y_pred have different number of output \"\n\u001b[0;32m---> 89\u001b[0;31m                          \"({0}!={1})\".format(y_true.shape[1], y_pred.shape[1]))\n\u001b[0m\u001b[1;32m     90\u001b[0m \u001b[0;34m\u001b[0m\u001b[0m\n\u001b[1;32m     91\u001b[0m     \u001b[0mn_outputs\u001b[0m \u001b[0;34m=\u001b[0m \u001b[0my_true\u001b[0m\u001b[0;34m.\u001b[0m\u001b[0mshape\u001b[0m\u001b[0;34m[\u001b[0m\u001b[0;36m1\u001b[0m\u001b[0;34m]\u001b[0m\u001b[0;34m\u001b[0m\u001b[0;34m\u001b[0m\u001b[0m\n",
      "\u001b[0;31mValueError\u001b[0m: y_true and y_pred have different number of output (5!=1)"
     ]
    }
   ],
   "source": [
    "from sklearn.metrics import mean_squared_error\n",
    "\n",
    "prediction_test = np.array([a[0] for a in model.predict([test_x.movie_id, test_x.user_id])])\n",
    "\n",
    "prediction = (np.argmax(prediction_test,1)+1).tolist()\n",
    "\n",
    "print (mean_squared_error(categorical_test_y, prediction))"
   ]
  },
  {
   "cell_type": "markdown",
   "metadata": {},
   "source": [
    "## 6. Building real test data"
   ]
  },
  {
   "cell_type": "code",
   "execution_count": 50,
   "metadata": {},
   "outputs": [],
   "source": [
    "user_enc = LabelEncoder()\n",
    "samples['user'] = user_enc.fit_transform(samples['user_id'].values)\n",
    "n_users = samples['user'].nunique()\n",
    "\n",
    "item_enc = LabelEncoder()\n",
    "samples['movie'] = item_enc.fit_transform(samples['movie_id'].values)\n",
    "n_movies = samples['movie'].nunique()\n",
    "\n",
    "samples['rating'] = samples['rating'].values.astype(np.int)\n",
    "\n",
    "X = samples[['user', 'movie']].values\n",
    "X_array = [X[:,0], X[:,1]]\n",
    "\n",
    "prediction = np.array([a[0] for a in model.predict(x=X_array)])\n",
    "\n",
    "samples.drop('rating',axis = 1, inplace = True)\n",
    "samples['rating'] = prediction"
   ]
  },
  {
   "cell_type": "code",
   "execution_count": 52,
   "metadata": {},
   "outputs": [],
   "source": [
    "from helpersNeuralNet import create_csv\n",
    "\n",
    "DATA_SUBMISSION = \"data/submission_neuralnet_base.csv\"\n",
    "create_csv(DATA_SUBMISSION, samples)"
   ]
  },
  {
   "cell_type": "markdown",
   "metadata": {},
   "source": [
    "AICrowd result : RMSE = 1.159 : Secondary = -0.056"
   ]
  },
  {
   "cell_type": "code",
   "execution_count": null,
   "metadata": {},
   "outputs": [],
   "source": []
  }
 ],
 "metadata": {
  "kernelspec": {
   "display_name": "Python 3",
   "language": "python",
   "name": "python3"
  },
  "language_info": {
   "codemirror_mode": {
    "name": "ipython",
    "version": 3
   },
   "file_extension": ".py",
   "mimetype": "text/x-python",
   "name": "python",
   "nbconvert_exporter": "python",
   "pygments_lexer": "ipython3",
   "version": "3.7.3"
  }
 },
 "nbformat": 4,
 "nbformat_minor": 2
}
