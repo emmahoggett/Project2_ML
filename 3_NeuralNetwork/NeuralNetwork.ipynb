{
 "cells": [
  {
   "cell_type": "code",
   "execution_count": 17,
   "metadata": {},
   "outputs": [
    {
     "name": "stdout",
     "output_type": "stream",
     "text": [
      "The autoreload extension is already loaded. To reload it, use:\n",
      "  %reload_ext autoreload\n"
     ]
    }
   ],
   "source": [
    "import numpy as np\n",
    "import pandas as pd\n",
    "import matplotlib.pyplot as plt\n",
    "import os\n",
    "import warnings\n",
    "import tensorflow as tf\n",
    "from keras.callbacks import *\n",
    "\n",
    "warnings.filterwarnings('ignore')\n",
    "%matplotlib inline\n",
    "\n",
    "%load_ext autoreload\n",
    "%autoreload 2"
   ]
  },
  {
   "cell_type": "code",
   "execution_count": 2,
   "metadata": {},
   "outputs": [
    {
     "name": "stderr",
     "output_type": "stream",
     "text": [
      "Using TensorFlow backend.\n"
     ]
    }
   ],
   "source": [
    "from helpersNeuralNet import*\n",
    "\n",
    "# Load dataset and samples into a pandas data frame\n",
    "DATA_TRAIN_PATH = 'data_train.csv'\n",
    "data = load_data(DATA_TRAIN_PATH)\n",
    "\n",
    "\n",
    "DATA_TEST_PATH = 'sampleSubmission.csv'\n",
    "samples = load_data(DATA_TEST_PATH)"
   ]
  },
  {
   "cell_type": "code",
   "execution_count": null,
   "metadata": {},
   "outputs": [],
   "source": [
    "# Give number of users and movies\n",
    "n_users = data['user_id'].nunique()\n",
    "n_movies = data['movie_id'].nunique()"
   ]
  },
  {
   "cell_type": "code",
   "execution_count": 7,
   "metadata": {},
   "outputs": [],
   "source": [
    "from optimizer import*\n",
    "from model_generation import*"
   ]
  },
  {
   "cell_type": "markdown",
   "metadata": {},
   "source": [
    "## Layer & Neurons Optimization"
   ]
  },
  {
   "cell_type": "code",
   "execution_count": 11,
   "metadata": {},
   "outputs": [],
   "source": [
    "# Initialization\n",
    "prev_neurons = 100\n",
    "prev_embedding = 50\n",
    "prev_dropout = 0.05\n",
    "\n",
    "# Maximal number of tested values \n",
    "max_nb_layers = 20\n",
    "max_nb_neurons = 200\n",
    "\n",
    "# Maximal number of iterations & initialization\n",
    "max_iter = 50\n",
    "n_iter = 0\n",
    "break_ind = 0\n",
    "max_accurracy = 0\n",
    "\n",
    "while (n_iter<max_iter):\n",
    "    # Compute the optimal number of layers\n",
    "    next_layer, accurracy_layer = layers(max_nb_layers, prev_neurons, prev_dropout,  prev_embedding, data)\n",
    "    if (accurracy_layer >= max_accurracy):\n",
    "        max_accurracy = accurracy_layer\n",
    "        prev_layer = next_layer\n",
    "    print('Max Accuracy :{}\\n'.format(max_accurracy))\n",
    "    # Compute the optimal number of neurons\n",
    "    next_neurons, accurracy_neurons = neurons(next_layer, max_nb_neurons, prev_dropout, prev_embedding, data)\n",
    "    if (accurracy_neurons >= max_accurracy):\n",
    "        max_accurracy = accurracy_neurons\n",
    "        prev_neurons = next_neurons\n",
    "    print('Max Accuracy :{}\\n'.format(max_accurracy))\n",
    "    n_iter+=1\n",
    "    print ('\\n New iteration\\n')\n",
    "\n",
    "model = generate(prev_layer, prev_neurons, prev_dropout, n_users, n_movies, prev_embedding)\n",
    "model.save('model_LayersNeurons.h5')\n",
    "print ('\\n Simulation finished \\n')"
   ]
  },
  {
   "cell_type": "markdown",
   "metadata": {},
   "source": [
    "## Layers, Neurons, Dropout & Embedding Layer Optimization\n",
    "\n",
    "Need to run first \"Layers & Neurons Optimization\""
   ]
  },
  {
   "cell_type": "code",
   "execution_count": null,
   "metadata": {},
   "outputs": [],
   "source": [
    "max_nb_embedding = 150\n",
    "\n",
    "n_iter = 0\n",
    "\n",
    "while (n_iter<max_iter):\n",
    "    # Compute the optimal factor for emedding layers\n",
    "    next_embedding, accurracy_embeddinglayers = embeddinglayer(prev_layer, prev_neurons, prev_dropout, max_nb_embedding, data)\n",
    "    if (accurracy_embeddinglayers>= max_accurracy):\n",
    "        max_accurracy = accurracy_embeddinglayers\n",
    "        prev_embedding = next_embedding\n",
    "    print('Max Accuracy :{}\\n'.format(max_accurracy))\n",
    "    # Compute the optimal number for dropout\n",
    "    next_dropout, accurracy_dropout = optimize_dropout(prev_layer, prev_neurons, prev_embedding, data)\n",
    "    if(accurracy_dropout>= max_accurracy):\n",
    "        max_accurracy = accurracy_dropout\n",
    "        prev_dropout = next_dropout\n",
    "    print('Max Accuracy :{}\\n'.format(max_accurracy))\n",
    "    # Compute the optimal number of layers\n",
    "    next_layer, accurracy_layer = layers(max_nb_layers, prev_neurons, prev_dropout,  prev_embedding, data)\n",
    "    if (accurracy_layer >= max_accurracy):\n",
    "        max_accurracy = accurracy_layer\n",
    "        prev_layer = next_layer\n",
    "    print('Max Accuracy :{}\\n'.format(max_accurracy))\n",
    "    # Compute the optimal number of neurons\n",
    "    next_neurons, accurracy_neurons = neurons(next_layer, max_nb_neurons, prev_dropout, prev_embedding, data)\n",
    "    if (accurracy_neurons >= max_accurracy):\n",
    "        max_accurracy = accurracy_neurons\n",
    "        prev_neurons = next_neurons\n",
    "    print('Max Accuracy :{}\\n'.format(max_accurracy))\n",
    "    n_iter+=1\n",
    "    print ('\\n New iteration\\n')\n",
    "    \n",
    "model = generate(prev_layer, prev_neurons, prev_dropout, n_users, n_movies, prev_embedding)\n",
    "model.save('model_LayersNeuronsDropEmbed.h5')\n",
    "print ('\\n Simulation Successfully Finished\\n')"
   ]
  }
 ],
 "metadata": {
  "kernelspec": {
   "display_name": "Python 3",
   "language": "python",
   "name": "python3"
  },
  "language_info": {
   "codemirror_mode": {
    "name": "ipython",
    "version": 3
   },
   "file_extension": ".py",
   "mimetype": "text/x-python",
   "name": "python",
   "nbconvert_exporter": "python",
   "pygments_lexer": "ipython3",
   "version": "3.7.3"
  }
 },
 "nbformat": 4,
 "nbformat_minor": 2
}
