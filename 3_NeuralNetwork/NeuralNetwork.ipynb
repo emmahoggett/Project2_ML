{
 "cells": [
  {
   "cell_type": "markdown",
   "metadata": {},
   "source": [
    "# Recommender System - Neural Network"
   ]
  },
  {
   "cell_type": "markdown",
   "metadata": {},
   "source": [
    "The recommender here use the RMSE loss function."
   ]
  },
  {
   "cell_type": "markdown",
   "metadata": {},
   "source": [
    "## 1. Prerequisites"
   ]
  },
  {
   "cell_type": "code",
   "execution_count": 1,
   "metadata": {},
   "outputs": [],
   "source": [
    "import numpy as np\n",
    "import pandas as pd\n",
    "import matplotlib.pyplot as plt\n",
    "import os\n",
    "import warnings\n",
    "\n",
    "\n",
    "warnings.filterwarnings('ignore')\n",
    "%matplotlib inline\n",
    "\n",
    "\n",
    "import scipy\n",
    "import scipy.io\n",
    "import scipy.sparse as sp\n",
    "\n",
    "from sklearn.preprocessing import LabelEncoder\n",
    "\n",
    "\n",
    "%load_ext autoreload\n",
    "%autoreload 2"
   ]
  },
  {
   "cell_type": "code",
   "execution_count": 6,
   "metadata": {},
   "outputs": [
    {
     "name": "stderr",
     "output_type": "stream",
     "text": [
      "Using TensorFlow backend.\n"
     ]
    }
   ],
   "source": [
    "from helpersNeuralNet import load_data\n",
    "from sklearn.model_selection import train_test_split\n",
    "\n",
    "DATA_TRAIN_PATH = \"data/data_train.csv\"\n",
    "ratings = load_data(DATA_TRAIN_PATH)\n",
    "\n",
    "DATA_TEST_PATH = \"data/sampleSubmission.csv\"\n",
    "samples = load_data(DATA_TEST_PATH)\n",
    "\n",
    "n_users = len(ratings.user_id.unique())\n",
    "n_books = len(ratings.movie_id.unique())\n",
    "\n",
    "train, test = train_test_split(ratings, test_size=0.1, random_state=42)"
   ]
  },
  {
   "cell_type": "code",
   "execution_count": 7,
   "metadata": {},
   "outputs": [
    {
     "data": {
      "text/html": [
       "<div>\n",
       "<style scoped>\n",
       "    .dataframe tbody tr th:only-of-type {\n",
       "        vertical-align: middle;\n",
       "    }\n",
       "\n",
       "    .dataframe tbody tr th {\n",
       "        vertical-align: top;\n",
       "    }\n",
       "\n",
       "    .dataframe thead th {\n",
       "        text-align: right;\n",
       "    }\n",
       "</style>\n",
       "<table border=\"1\" class=\"dataframe\">\n",
       "  <thead>\n",
       "    <tr style=\"text-align: right;\">\n",
       "      <th></th>\n",
       "      <th>user_id</th>\n",
       "      <th>movie_id</th>\n",
       "      <th>rating</th>\n",
       "    </tr>\n",
       "  </thead>\n",
       "  <tbody>\n",
       "    <tr>\n",
       "      <th>0</th>\n",
       "      <td>37</td>\n",
       "      <td>1</td>\n",
       "      <td>3</td>\n",
       "    </tr>\n",
       "    <tr>\n",
       "      <th>1</th>\n",
       "      <td>73</td>\n",
       "      <td>1</td>\n",
       "      <td>3</td>\n",
       "    </tr>\n",
       "    <tr>\n",
       "      <th>2</th>\n",
       "      <td>156</td>\n",
       "      <td>1</td>\n",
       "      <td>3</td>\n",
       "    </tr>\n",
       "    <tr>\n",
       "      <th>3</th>\n",
       "      <td>160</td>\n",
       "      <td>1</td>\n",
       "      <td>3</td>\n",
       "    </tr>\n",
       "    <tr>\n",
       "      <th>4</th>\n",
       "      <td>248</td>\n",
       "      <td>1</td>\n",
       "      <td>3</td>\n",
       "    </tr>\n",
       "  </tbody>\n",
       "</table>\n",
       "</div>"
      ],
      "text/plain": [
       "  user_id movie_id  rating\n",
       "0      37        1       3\n",
       "1      73        1       3\n",
       "2     156        1       3\n",
       "3     160        1       3\n",
       "4     248        1       3"
      ]
     },
     "execution_count": 7,
     "metadata": {},
     "output_type": "execute_result"
    }
   ],
   "source": [
    "samples.head()"
   ]
  },
  {
   "cell_type": "markdown",
   "metadata": {},
   "source": [
    "## 2. Data preprocessing"
   ]
  },
  {
   "cell_type": "code",
   "execution_count": 8,
   "metadata": {},
   "outputs": [],
   "source": [
    "user_enc = LabelEncoder()\n",
    "ratings['user'] = user_enc.fit_transform(ratings['user_id'].values)\n",
    "n_users = ratings['user'].nunique()\n",
    "\n",
    "item_enc = LabelEncoder()\n",
    "ratings['movie'] = item_enc.fit_transform(ratings['movie_id'].values)\n",
    "n_movies = ratings['movie'].nunique()\n",
    "\n",
    "ratings['rating'] = ratings['rating'].values.astype(np.int)\n",
    "min_rating = min(ratings['rating'])\n",
    "max_rating = max(ratings['rating'])"
   ]
  },
  {
   "cell_type": "code",
   "execution_count": 44,
   "metadata": {},
   "outputs": [],
   "source": [
    "X = ratings[['user', 'movie']].values\n",
    "y = ratings['rating']\n",
    "\n",
    "X_train, X_test, y_train, y_test = train_test_split(X, y, test_size=0.1, random_state=42)"
   ]
  },
  {
   "cell_type": "code",
   "execution_count": 45,
   "metadata": {},
   "outputs": [],
   "source": [
    "n_factors = 25\n",
    "\n",
    "X_train_array = [X_train[:,0], X_train[:,1]]\n",
    "X_test_array = [X_test[:,0], X_test[:,1]]"
   ]
  },
  {
   "cell_type": "markdown",
   "metadata": {},
   "source": [
    "## 3. Neural network"
   ]
  },
  {
   "cell_type": "code",
   "execution_count": 46,
   "metadata": {},
   "outputs": [],
   "source": [
    "from keras.layers import Add, Activation, Lambda\n",
    "from keras.layers import Concatenate, Dense, Dropout, Input, Reshape, Dot\n",
    "from keras.models import Model,load_model\n",
    "from keras.layers.embeddings import Embedding\n",
    "from keras.optimizers import Adam\n",
    "from keras.regularizers import l2\n",
    "from keras_radam import RAdam\n",
    "\n",
    "class EmbeddingLayer:\n",
    "    def __init__(self, n_items, n_factors):\n",
    "        self.n_items = n_items\n",
    "        self.n_factors = n_factors\n",
    "    \n",
    "    def __call__(self, x):\n",
    "        x = Embedding(self.n_items, self.n_factors, embeddings_initializer='he_normal', embeddings_regularizer=l2(1e-5))(x)\n",
    "        x = Reshape((self.n_factors,))(x)\n",
    "        return x\n",
    "    \n",
    "    \n",
    "def RecommenderNet(n_users, n_movies, n_factors, min_rating, max_rating):\n",
    "    \n",
    "    user = Input(shape=(1,))\n",
    "    u = EmbeddingLayer(n_users, n_factors)(user)\n",
    "    \n",
    "    movie = Input(shape=(1,))\n",
    "    m = EmbeddingLayer(n_movies, n_factors)(movie)\n",
    "    \n",
    "    x = Concatenate()([u, m])\n",
    "    x = Dropout(0.05)(x)\n",
    "    \n",
    "    x = Dense(10, kernel_initializer='he_normal')(x)\n",
    "    x = Activation('relu')(x)\n",
    "    x = Dropout(0.5)(x)\n",
    "    \n",
    "    x = Dense(1, kernel_initializer='he_normal')(x)\n",
    "    x = Activation('sigmoid')(x)\n",
    "    x = Lambda(lambda x: x * (max_rating - min_rating) + min_rating)(x)\n",
    "    \n",
    "    model = Model(inputs=[user, movie], outputs=x)\n",
    "    model.compile(loss='mean_squared_error', optimizer=RAdam(), metrics=['mse', 'accuracy'])\n",
    "#     opt = Adam(lr=0.001)\n",
    "    \n",
    "    return model"
   ]
  },
  {
   "cell_type": "code",
   "execution_count": 48,
   "metadata": {},
   "outputs": [
    {
     "name": "stdout",
     "output_type": "stream",
     "text": [
      "Model: \"model_14\"\n",
      "__________________________________________________________________________________________________\n",
      "Layer (type)                    Output Shape         Param #     Connected to                     \n",
      "==================================================================================================\n",
      "input_27 (InputLayer)           (None, 1)            0                                            \n",
      "__________________________________________________________________________________________________\n",
      "input_28 (InputLayer)           (None, 1)            0                                            \n",
      "__________________________________________________________________________________________________\n",
      "embedding_27 (Embedding)        (None, 1, 25)        250000      input_27[0][0]                   \n",
      "__________________________________________________________________________________________________\n",
      "embedding_28 (Embedding)        (None, 1, 25)        25000       input_28[0][0]                   \n",
      "__________________________________________________________________________________________________\n",
      "reshape_27 (Reshape)            (None, 25)           0           embedding_27[0][0]               \n",
      "__________________________________________________________________________________________________\n",
      "reshape_28 (Reshape)            (None, 25)           0           embedding_28[0][0]               \n",
      "__________________________________________________________________________________________________\n",
      "concatenate_14 (Concatenate)    (None, 50)           0           reshape_27[0][0]                 \n",
      "                                                                 reshape_28[0][0]                 \n",
      "__________________________________________________________________________________________________\n",
      "dropout_27 (Dropout)            (None, 50)           0           concatenate_14[0][0]             \n",
      "__________________________________________________________________________________________________\n",
      "dense_27 (Dense)                (None, 10)           510         dropout_27[0][0]                 \n",
      "__________________________________________________________________________________________________\n",
      "activation_27 (Activation)      (None, 10)           0           dense_27[0][0]                   \n",
      "__________________________________________________________________________________________________\n",
      "dropout_28 (Dropout)            (None, 10)           0           activation_27[0][0]              \n",
      "__________________________________________________________________________________________________\n",
      "dense_28 (Dense)                (None, 1)            11          dropout_28[0][0]                 \n",
      "__________________________________________________________________________________________________\n",
      "activation_28 (Activation)      (None, 1)            0           dense_28[0][0]                   \n",
      "__________________________________________________________________________________________________\n",
      "lambda_14 (Lambda)              (None, 1)            0           activation_28[0][0]              \n",
      "==================================================================================================\n",
      "Total params: 275,521\n",
      "Trainable params: 275,521\n",
      "Non-trainable params: 0\n",
      "__________________________________________________________________________________________________\n",
      "Train on 1059256 samples, validate on 117696 samples\n",
      "Epoch 1/20\n",
      "1059256/1059256 [==============================] - 3s 3us/step - loss: 1.9357 - mse: 1.9347 - accuracy: 0.2332 - val_loss: 1.8034 - val_mse: 1.8024 - val_accuracy: 0.2321\n",
      "Epoch 2/20\n",
      "1059256/1059256 [==============================] - 3s 3us/step - loss: 1.6450 - mse: 1.6439 - accuracy: 0.2426 - val_loss: 1.4173 - val_mse: 1.4160 - val_accuracy: 0.2436\n",
      "Epoch 3/20\n",
      "1059256/1059256 [==============================] - 3s 3us/step - loss: 1.3424 - mse: 1.3407 - accuracy: 0.2699 - val_loss: 1.1264 - val_mse: 1.1245 - val_accuracy: 0.3004\n",
      "Epoch 4/20\n",
      "1059256/1059256 [==============================] - 3s 3us/step - loss: 1.1907 - mse: 1.1887 - accuracy: 0.3006 - val_loss: 1.0370 - val_mse: 1.0347 - val_accuracy: 0.3034\n",
      "Epoch 5/20\n",
      "1059256/1059256 [==============================] - 3s 3us/step - loss: 1.1278 - mse: 1.1255 - accuracy: 0.3273 - val_loss: 1.0131 - val_mse: 1.0106 - val_accuracy: 0.3174\n",
      "Epoch 6/20\n",
      "1059256/1059256 [==============================] - 3s 3us/step - loss: 1.1011 - mse: 1.0986 - accuracy: 0.3412 - val_loss: 1.0067 - val_mse: 1.0040 - val_accuracy: 0.3409\n",
      "Epoch 7/20\n",
      "1059256/1059256 [==============================] - 3s 3us/step - loss: 1.0889 - mse: 1.0862 - accuracy: 0.3484 - val_loss: 1.0048 - val_mse: 1.0020 - val_accuracy: 0.3531\n",
      "Epoch 8/20\n",
      "1059256/1059256 [==============================] - 3s 3us/step - loss: 1.0805 - mse: 1.0776 - accuracy: 0.3529 - val_loss: 1.0037 - val_mse: 1.0008 - val_accuracy: 0.3594\n",
      "Epoch 9/20\n",
      "1059256/1059256 [==============================] - 3s 3us/step - loss: 1.0762 - mse: 1.0733 - accuracy: 0.3551 - val_loss: 1.0037 - val_mse: 1.0006 - val_accuracy: 0.3607\n",
      "Epoch 10/20\n",
      "1059256/1059256 [==============================] - 3s 3us/step - loss: 1.0699 - mse: 1.0668 - accuracy: 0.3574 - val_loss: 1.0031 - val_mse: 0.9999 - val_accuracy: 0.3626\n",
      "Epoch 11/20\n",
      "1059256/1059256 [==============================] - 3s 3us/step - loss: 1.0650 - mse: 1.0617 - accuracy: 0.3591 - val_loss: 1.0027 - val_mse: 0.9994 - val_accuracy: 0.3630\n",
      "Epoch 12/20\n",
      "1059256/1059256 [==============================] - 3s 3us/step - loss: 1.0607 - mse: 1.0574 - accuracy: 0.3605 - val_loss: 1.0026 - val_mse: 0.9992 - val_accuracy: 0.3629\n",
      "Epoch 13/20\n",
      "1059256/1059256 [==============================] - 3s 3us/step - loss: 1.0563 - mse: 1.0529 - accuracy: 0.3604 - val_loss: 1.0029 - val_mse: 0.9994 - val_accuracy: 0.3632\n",
      "Epoch 14/20\n",
      "1059256/1059256 [==============================] - 3s 3us/step - loss: 1.0511 - mse: 1.0475 - accuracy: 0.3613 - val_loss: 1.0028 - val_mse: 0.9992 - val_accuracy: 0.3642\n",
      "Epoch 15/20\n",
      "1059256/1059256 [==============================] - 3s 3us/step - loss: 1.0479 - mse: 1.0443 - accuracy: 0.3608 - val_loss: 1.0030 - val_mse: 0.9993 - val_accuracy: 0.3635\n",
      "Epoch 16/20\n",
      "1059256/1059256 [==============================] - 3s 3us/step - loss: 1.0440 - mse: 1.0403 - accuracy: 0.3614 - val_loss: 1.0030 - val_mse: 0.9992 - val_accuracy: 0.3626\n",
      "Epoch 17/20\n",
      "1059256/1059256 [==============================] - 3s 3us/step - loss: 1.0402 - mse: 1.0364 - accuracy: 0.3611 - val_loss: 1.0030 - val_mse: 0.9992 - val_accuracy: 0.3629\n",
      "Epoch 18/20\n",
      "1059256/1059256 [==============================] - 3s 3us/step - loss: 1.0362 - mse: 1.0322 - accuracy: 0.3613 - val_loss: 1.0034 - val_mse: 0.9995 - val_accuracy: 0.3632\n",
      "Epoch 19/20\n",
      "1059256/1059256 [==============================] - 3s 3us/step - loss: 1.0329 - mse: 1.0289 - accuracy: 0.3619 - val_loss: 1.0033 - val_mse: 0.9993 - val_accuracy: 0.3630\n",
      "Epoch 20/20\n",
      "1059256/1059256 [==============================] - 3s 3us/step - loss: 1.0299 - mse: 1.0258 - accuracy: 0.3613 - val_loss: 1.0038 - val_mse: 0.9997 - val_accuracy: 0.3629\n"
     ]
    },
    {
     "data": {
      "image/png": "[encoded data removed]",
      "text/plain": [
       "<Figure size 432x288 with 1 Axes>"
      ]
     },
     "metadata": {
      "needs_background": "light"
     },
     "output_type": "display_data"
    }
   ],
   "source": [
    "model = RecommenderNet(n_users, n_movies, n_factors, min_rating, max_rating)\n",
    "model.summary()\n",
    "\n",
    "if os.path.exists('NeuralNet_base.h5'):\n",
    "    model = load_model('NeuralNet_base.h5')\n",
    "else:\n",
    "    history = model.fit(x=X_train_array, y=y_train,  batch_size=10000, epochs=20, verbose=1, validation_data=(X_test_array, y_test))\n",
    "    model.save('NeuralNet_base.h5')\n",
    "    plt.plot(history.history['val_loss'])\n",
    "    plt.xlabel(\"Epochs\")\n",
    "    plt.ylabel(\"Test Error\")"
   ]
  },
  {
   "cell_type": "markdown",
   "metadata": {},
   "source": [
    "### 5.2 Model validation"
   ]
  },
  {
   "cell_type": "code",
   "execution_count": 49,
   "metadata": {},
   "outputs": [
    {
     "name": "stdout",
     "output_type": "stream",
     "text": [
      "0.9997292606535696\n"
     ]
    }
   ],
   "source": [
    "from sklearn.metrics import mean_squared_error\n",
    "\n",
    "prediction_test = np.array([a[0] for a in model.predict(x=X_test_array)])\n",
    "\n",
    "print (mean_squared_error(y_test, prediction_test))"
   ]
  },
  {
   "cell_type": "markdown",
   "metadata": {},
   "source": [
    "## 6. Building real test data"
   ]
  },
  {
   "cell_type": "code",
   "execution_count": 50,
   "metadata": {},
   "outputs": [],
   "source": [
    "user_enc = LabelEncoder()\n",
    "samples['user'] = user_enc.fit_transform(samples['user_id'].values)\n",
    "n_users = samples['user'].nunique()\n",
    "\n",
    "item_enc = LabelEncoder()\n",
    "samples['movie'] = item_enc.fit_transform(samples['movie_id'].values)\n",
    "n_movies = samples['movie'].nunique()\n",
    "\n",
    "samples['rating'] = samples['rating'].values.astype(np.int)\n",
    "\n",
    "X = samples[['user', 'movie']].values\n",
    "X_array = [X[:,0], X[:,1]]\n",
    "\n",
    "prediction = np.array([a[0] for a in model.predict(x=X_array)])\n",
    "\n",
    "samples.drop('rating',axis = 1, inplace = True)\n",
    "samples['rating'] = prediction"
   ]
  },
  {
   "cell_type": "code",
   "execution_count": 52,
   "metadata": {},
   "outputs": [],
   "source": [
    "from helpersNeuralNet import create_csv\n",
    "\n",
    "DATA_SUBMISSION = \"data/submission_neuralnet_base.csv\"\n",
    "create_csv(DATA_SUBMISSION, samples)"
   ]
  },
  {
   "cell_type": "markdown",
   "metadata": {},
   "source": [
    "AICrowd result : RMSE = 1.159 : Secondary = -0.056"
   ]
  },
  {
   "cell_type": "code",
   "execution_count": null,
   "metadata": {},
   "outputs": [],
   "source": []
  }
 ],
 "metadata": {
  "kernelspec": {
   "display_name": "Python 3",
   "language": "python",
   "name": "python3"
  },
  "language_info": {
   "codemirror_mode": {
    "name": "ipython",
    "version": 3
   },
   "file_extension": ".py",
   "mimetype": "text/x-python",
   "name": "python",
   "nbconvert_exporter": "python",
   "pygments_lexer": "ipython3",
   "version": "3.7.3"
  }
 },
 "nbformat": 4,
 "nbformat_minor": 2
}
