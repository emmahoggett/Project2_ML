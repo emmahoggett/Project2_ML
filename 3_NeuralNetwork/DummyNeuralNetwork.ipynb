{
 "cells": [
  {
   "cell_type": "code",
   "execution_count": 51,
   "metadata": {},
   "outputs": [
    {
     "name": "stdout",
     "output_type": "stream",
     "text": [
      "The autoreload extension is already loaded. To reload it, use:\n",
      "  %reload_ext autoreload\n"
     ]
    }
   ],
   "source": [
    "import numpy as np\n",
    "import pandas as pd\n",
    "import matplotlib.pyplot as plt\n",
    "import os\n",
    "import warnings\n",
    "\n",
    "\n",
    "warnings.filterwarnings('ignore')\n",
    "%matplotlib inline\n",
    "\n",
    "\n",
    "%load_ext autoreload\n",
    "%autoreload 2"
   ]
  },
  {
   "cell_type": "markdown",
   "metadata": {},
   "source": [
    "# Neural Network with a dummy neural network"
   ]
  },
  {
   "cell_type": "code",
   "execution_count": 63,
   "metadata": {},
   "outputs": [],
   "source": [
    "from helpersNeuronalNet import*\n",
    "# load the training data set\n",
    "DATA_TRAIN_PATH = \"data/data_train.csv\"\n",
    "data = load_data(DATA_TRAIN_PATH)"
   ]
  },
  {
   "cell_type": "code",
   "execution_count": 55,
   "metadata": {},
   "outputs": [],
   "source": []
  },
  {
   "cell_type": "code",
   "execution_count": 56,
   "metadata": {},
   "outputs": [],
   "source": [
    "from keras.models import Model,load_model\n",
    "from keras.layers import Input, Reshape, Dot\n",
    "from keras.layers.embeddings import Embedding\n",
    "from keras.optimizers import Adam\n",
    "from keras.regularizers import l2\n",
    "from keras.layers import Concatenate, Dense, Dropout, Add, Activation, Lambda\n",
    "from keras.callbacks import EarlyStopping\n",
    "# stop epochs when the model converge\n",
    "usualCallback = EarlyStopping()"
   ]
  },
  {
   "cell_type": "code",
   "execution_count": 57,
   "metadata": {},
   "outputs": [
    {
     "name": "stdout",
     "output_type": "stream",
     "text": [
      "Train on 1059256 samples, validate on 117696 samples\n",
      "Epoch 1/10000\n",
      "1059256/1059256 [==============================] - 29s 28us/step - loss: 0.1392 - val_loss: 0.1337\n",
      "Epoch 2/10000\n",
      "1059256/1059256 [==============================] - 27s 25us/step - loss: 0.1354 - val_loss: 0.1332\n",
      "Epoch 3/10000\n",
      "1059256/1059256 [==============================] - 21s 20us/step - loss: 0.1349 - val_loss: 0.1331\n",
      "Epoch 4/10000\n",
      "1059256/1059256 [==============================] - 24s 22us/step - loss: 0.1348 - val_loss: 0.1331\n"
     ]
    },
    {
     "data": {
      "image/png": "[encoded data removed]",
      "text/plain": [
       "<Figure size 432x288 with 1 Axes>"
      ]
     },
     "metadata": {
      "needs_background": "light"
     },
     "output_type": "display_data"
    }
   ],
   "source": [
    "from DummyNet import recommenderNet\n",
    "# set the model\n",
    "model = recommenderNet(n_users, n_movies, n_factors)\n",
    "\n",
    "if os.path.exists('model_DummyNet.h5'):\n",
    "    #load the model\n",
    "    model = load_model('model_DummyNet.h5')\n",
    "else:\n",
    "    # train the model with y_train and X_train\n",
    "    history = model.fit(x=X_train_array, y= y_train, batch_size=1024, epochs=10000, verbose=1, validation_data=(X_test_array,y_test), callbacks=[usualCallback])\n",
    "    #Save the model\n",
    "    model.save('model_DummyNet.h5')\n",
    "    #plot the test Root Mean Square\n",
    "    plt.plot(history.history['val_loss'])\n",
    "    plt.xlabel(\"Epochs\")\n",
    "    plt.ylabel(\"Test Error\")"
   ]
  },
  {
   "cell_type": "markdown",
   "metadata": {},
   "source": [
    "## Create a submission prediction"
   ]
  },
  {
   "cell_type": "code",
   "execution_count": null,
   "metadata": {},
   "outputs": [],
   "source": [
    "# load the test data\n",
    "DATA_TEST_PATH = \"data/sampleSubmission.csv\"\n",
    "samples = load_data(DATA_TEST_PATH)"
   ]
  },
  {
   "cell_type": "code",
   "execution_count": 65,
   "metadata": {
    "scrolled": true
   },
   "outputs": [],
   "source": [
    "samples ['user'] = user_enc.fit_transform(samples['user_id'].values)\n",
    "samples['movie'] = item_enc.fit_transform(samples['movie_id'].values)\n",
    "X_samples = samples[['user', 'movie']].values\n",
    "X_samples_array = [X_samples[:,0], X_samples[:,1]]"
   ]
  },
  {
   "cell_type": "code",
   "execution_count": 66,
   "metadata": {},
   "outputs": [],
   "source": [
    "#make predictions with model\n",
    "sample_pred = model.predict(X_samples_array)"
   ]
  },
  {
   "cell_type": "code",
   "execution_count": 69,
   "metadata": {},
   "outputs": [
    {
     "name": "stdout",
     "output_type": "stream",
     "text": [
      "[[0.05955226 0.14823733 0.3579268  0.2704927  0.16379085]\n",
      " [0.08011974 0.16050558 0.3343182  0.24062547 0.18443097]\n",
      " [0.01423595 0.06425991 0.27671057 0.36924586 0.2755477 ]\n",
      " ...\n",
      " [0.07504976 0.15366739 0.32826966 0.25556514 0.18744805]\n",
      " [0.08269288 0.14590028 0.2917071  0.23733068 0.24236904]\n",
      " [0.01082622 0.05528766 0.25491685 0.37466872 0.30430052]]\n"
     ]
    }
   ],
   "source": [
    "print(sample_pred)"
   ]
  },
  {
   "cell_type": "code",
   "execution_count": 70,
   "metadata": {},
   "outputs": [],
   "source": [
    "rating_samples = (np.argmax(sample_pred,1)+1).tolist()\n",
    "samples['rating'] = rating_samples"
   ]
  },
  {
   "cell_type": "code",
   "execution_count": 68,
   "metadata": {},
   "outputs": [],
   "source": [
    "from helpers import create_csv\n",
    "# make a csv file\n",
    "PATH_SUBMISSION = \"data/DummyNeuralNetworkPrediction.csv\"\n",
    "create_csv(PATH_SUBMISSION, samples)"
   ]
  }
 ],
 "metadata": {
  "kernelspec": {
   "display_name": "Python 3",
   "language": "python",
   "name": "python3"
  },
  "language_info": {
   "codemirror_mode": {
    "name": "ipython",
    "version": 3
   },
   "file_extension": ".py",
   "mimetype": "text/x-python",
   "name": "python",
   "nbconvert_exporter": "python",
   "pygments_lexer": "ipython3",
   "version": "3.7.3"
  }
 },
 "nbformat": 4,
 "nbformat_minor": 2
}
