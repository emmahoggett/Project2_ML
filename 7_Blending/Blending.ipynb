{
 "cells": [
  {
   "cell_type": "code",
   "execution_count": 2,
   "metadata": {},
   "outputs": [],
   "source": [
    "import numpy as np\n",
    "# Imports\n",
    "import pandas as pd\n",
    "\n",
    "import matplotlib.pyplot as plt\n",
    "import numpy as np\n",
    "import pandas as pd\n",
    "\n",
    "from sklearn.linear_model import LogisticRegression\n",
    "\n",
    "from sklearn.model_selection import train_test_split\n",
    "\n",
    "from surprise import Dataset\n",
    "from surprise import Reader\n",
    "\n",
    "from surprise import KNNBasic, KNNWithMeans, KNNWithZScore\n",
    "from surprise import SVD, SVDpp, NMF\n",
    "from surprise import SlopeOne, CoClustering\n",
    "%matplotlib inline\n",
    "from blendingFunction import*"
   ]
  },
  {
   "cell_type": "markdown",
   "metadata": {},
   "source": [
    "## Load Data"
   ]
  },
  {
   "cell_type": "code",
   "execution_count": 3,
   "metadata": {},
   "outputs": [],
   "source": [
    "from data_related.data import Data"
   ]
  },
  {
   "cell_type": "code",
   "execution_count": 4,
   "metadata": {},
   "outputs": [
    {
     "name": "stdout",
     "output_type": "stream",
     "text": [
      "Preparing data ...\n",
      "Splitting data to train and test data ...\n",
      "... blend.\n",
      "... data is splitted.\n",
      "... data is prepared.\n"
     ]
    }
   ],
   "source": [
    "data = Data()"
   ]
  },
  {
   "cell_type": "code",
   "execution_count": 6,
   "metadata": {},
   "outputs": [
    {
     "data": {
      "text/html": [
       "<div>\n",
       "<style scoped>\n",
       "    .dataframe tbody tr th:only-of-type {\n",
       "        vertical-align: middle;\n",
       "    }\n",
       "\n",
       "    .dataframe tbody tr th {\n",
       "        vertical-align: top;\n",
       "    }\n",
       "\n",
       "    .dataframe thead th {\n",
       "        text-align: right;\n",
       "    }\n",
       "</style>\n",
       "<table border=\"1\" class=\"dataframe\">\n",
       "  <thead>\n",
       "    <tr style=\"text-align: right;\">\n",
       "      <th></th>\n",
       "      <th>user_id</th>\n",
       "      <th>movie_id</th>\n",
       "      <th>rating</th>\n",
       "    </tr>\n",
       "  </thead>\n",
       "  <tbody>\n",
       "    <tr>\n",
       "      <th>16518</th>\n",
       "      <td>4275</td>\n",
       "      <td>10</td>\n",
       "      <td>3</td>\n",
       "    </tr>\n",
       "    <tr>\n",
       "      <th>443000</th>\n",
       "      <td>3725</td>\n",
       "      <td>370</td>\n",
       "      <td>5</td>\n",
       "    </tr>\n",
       "    <tr>\n",
       "      <th>933769</th>\n",
       "      <td>9639</td>\n",
       "      <td>742</td>\n",
       "      <td>4</td>\n",
       "    </tr>\n",
       "    <tr>\n",
       "      <th>456054</th>\n",
       "      <td>5624</td>\n",
       "      <td>389</td>\n",
       "      <td>4</td>\n",
       "    </tr>\n",
       "    <tr>\n",
       "      <th>1121681</th>\n",
       "      <td>7514</td>\n",
       "      <td>933</td>\n",
       "      <td>3</td>\n",
       "    </tr>\n",
       "  </tbody>\n",
       "</table>\n",
       "</div>"
      ],
      "text/plain": [
       "        user_id movie_id  rating\n",
       "16518      4275       10       3\n",
       "443000     3725      370       5\n",
       "933769     9639      742       4\n",
       "456054     5624      389       4\n",
       "1121681    7514      933       3"
      ]
     },
     "execution_count": 6,
     "metadata": {},
     "output_type": "execute_result"
    }
   ],
   "source": [
    "data.valid_df.head()"
   ]
  },
  {
   "cell_type": "code",
   "execution_count": 7,
   "metadata": {},
   "outputs": [],
   "source": [
    "reader = Reader(rating_scale=(1, 5))\n",
    "train_data = Dataset.load_from_df(data.train_df, reader=reader)\n",
    "test_data = Dataset.load_from_df(data.test_df, reader=reader)\n",
    "valid_data = Dataset.load_from_df(data.valid_df, reader=reader)"
   ]
  },
  {
   "cell_type": "code",
   "execution_count": 75,
   "metadata": {},
   "outputs": [
    {
     "name": "stdout",
     "output_type": "stream",
     "text": [
      "Estimating biases using als...\n",
      "Computing the pearson_baseline similarity matrix...\n",
      "Done computing similarity matrix.\n",
      "Estimating biases using als...\n",
      "Computing the pearson_baseline similarity matrix...\n",
      "Done computing similarity matrix.\n"
     ]
    }
   ],
   "source": [
    "trainset = train_data.build_full_trainset()\n",
    "\n",
    "simoption = {'name' : 'pearson_baseline', 'user_based':True}\n",
    "knnmeans_user = KNNWithMeans(k = 500, sim_options = simoption).fit(trainset)\n",
    "\n",
    "test_data_np['ratingknnmeans_user'] = data.test_df[['user_id', 'movie_id']] \\\n",
    ".apply(lambda row: knnmeans_user.predict(row['user_id'], row['movie_id'])[3], axis=1)\n",
    "\n",
    "valid_data_np['ratingknnmeans_user'] = valid_data_np[['user_id', 'movie_id']] \\\n",
    ".apply(lambda row: knnmeans_user.predict(row['user_id'], row['movie_id'])[3], axis=1)\n",
    "\n",
    "\n",
    "simoption = {'name' : 'pearson_baseline', 'user_based':False}\n",
    "knnmeans_item = KNNWithMeans(k = 57, sim_options = simoption).fit(trainset)\n",
    "\n",
    "\n",
    "data.test_df['ratingknnmeans_item'] =data.test_df[['user_id', 'movie_id']] \\\n",
    ".apply(lambda row: knnmeans_item.predict(row['user_id'], row['movie_id'])[3], axis=1)\n",
    "\n",
    "data.valid_df['ratingknnmeans_item'] = data.valid_df[['user_id', 'movie_id']] \\\n",
    ".apply(lambda row: knnmeans_item.predict(row['user_id'], row['movie_id'])[3], axis=1)"
   ]
  },
  {
   "cell_type": "code",
   "execution_count": null,
   "metadata": {},
   "outputs": [],
   "source": []
  },
  {
   "cell_type": "code",
   "execution_count": 63,
   "metadata": {},
   "outputs": [
    {
     "data": {
      "text/html": [
       "<div>\n",
       "<style scoped>\n",
       "    .dataframe tbody tr th:only-of-type {\n",
       "        vertical-align: middle;\n",
       "    }\n",
       "\n",
       "    .dataframe tbody tr th {\n",
       "        vertical-align: top;\n",
       "    }\n",
       "\n",
       "    .dataframe thead th {\n",
       "        text-align: right;\n",
       "    }\n",
       "</style>\n",
       "<table border=\"1\" class=\"dataframe\">\n",
       "  <thead>\n",
       "    <tr style=\"text-align: right;\">\n",
       "      <th></th>\n",
       "      <th>user_id</th>\n",
       "      <th>movie_id</th>\n",
       "      <th>rating</th>\n",
       "      <th>ratingknnmeans_user</th>\n",
       "      <th>ratingknnmeans_item</th>\n",
       "    </tr>\n",
       "  </thead>\n",
       "  <tbody>\n",
       "    <tr>\n",
       "      <th>16518</th>\n",
       "      <td>4275</td>\n",
       "      <td>10</td>\n",
       "      <td>3</td>\n",
       "      <td>3.790300</td>\n",
       "      <td>3.643554</td>\n",
       "    </tr>\n",
       "    <tr>\n",
       "      <th>443000</th>\n",
       "      <td>3725</td>\n",
       "      <td>370</td>\n",
       "      <td>5</td>\n",
       "      <td>3.903508</td>\n",
       "      <td>4.056220</td>\n",
       "    </tr>\n",
       "    <tr>\n",
       "      <th>933769</th>\n",
       "      <td>9639</td>\n",
       "      <td>742</td>\n",
       "      <td>4</td>\n",
       "      <td>3.826401</td>\n",
       "      <td>4.081580</td>\n",
       "    </tr>\n",
       "    <tr>\n",
       "      <th>456054</th>\n",
       "      <td>5624</td>\n",
       "      <td>389</td>\n",
       "      <td>4</td>\n",
       "      <td>3.618853</td>\n",
       "      <td>3.553138</td>\n",
       "    </tr>\n",
       "    <tr>\n",
       "      <th>1121681</th>\n",
       "      <td>7514</td>\n",
       "      <td>933</td>\n",
       "      <td>3</td>\n",
       "      <td>3.748165</td>\n",
       "      <td>3.840001</td>\n",
       "    </tr>\n",
       "  </tbody>\n",
       "</table>\n",
       "</div>"
      ],
      "text/plain": [
       "        user_id movie_id  rating  ratingknnmeans_user  ratingknnmeans_item\n",
       "16518      4275       10       3             3.790300             3.643554\n",
       "443000     3725      370       5             3.903508             4.056220\n",
       "933769     9639      742       4             3.826401             4.081580\n",
       "456054     5624      389       4             3.618853             3.553138\n",
       "1121681    7514      933       3             3.748165             3.840001"
      ]
     },
     "execution_count": 63,
     "metadata": {},
     "output_type": "execute_result"
    }
   ],
   "source": [
    "valid_data_np.head()"
   ]
  },
  {
   "cell_type": "code",
   "execution_count": 84,
   "metadata": {},
   "outputs": [
    {
     "name": "stdout",
     "output_type": "stream",
     "text": [
      "        user_id movie_id  rating  ratingknnmeans_user  ratingknnmeans_item\n",
      "16518      4275       10    0.50             0.697575             0.660889\n",
      "443000     3725      370    1.00             0.725877             0.764055\n",
      "933769     9639      742    0.75             0.706600             0.770395\n",
      "456054     5624      389    0.75             0.654713             0.638285\n",
      "1121681    7514      933    0.50             0.687041             0.710000\n",
      "421744     1152      350    1.00             0.660045             0.685614\n",
      "201592     5602      176    0.75             0.786064             0.857255\n",
      "793470     7733      643    1.00             0.822793             0.795347\n",
      "799391     8183      645    1.00             0.859346             0.868871\n",
      "295082     7378      247    0.50             0.736396             0.687399\n",
      "184989     6277      161    1.00             0.839918             0.769126\n",
      "196860     9395      172    0.25             0.586525             0.622975\n",
      "391309     9140      320    1.00             0.760615             0.813279\n",
      "218800     1570      184    0.50             0.680512             0.756911\n",
      "1006660    3805      794    1.00             0.739417             0.731102\n",
      "217273     4608      183    0.75             0.722063             0.692231\n",
      "924443     4123      733    0.25             0.676919             0.728538\n",
      "979673     8233      776    1.00             0.780978             0.905189\n",
      "896534     3582      702    1.00             0.752734             0.673179\n",
      "641904      691      549    0.25             0.679745             0.672051\n",
      "1130205    2151      947    0.25             0.440280             0.428058\n",
      "1054814    5636      844    0.50             0.700495             0.713942\n",
      "128334     3891      106    0.50             0.695009             0.736828\n",
      "223633     8190      186    0.50             0.720743             0.764294\n",
      "392836     5384      321    1.00             0.945282             0.934424\n",
      "249744     8652      207    0.50             0.488610             0.452129\n",
      "311897     4604      257    1.00             0.858207             0.880970\n",
      "476719     5093      411    0.75             0.659894             0.669108\n",
      "743220     2146      615    1.00             0.865559             0.866806\n",
      "542044     8218      466    0.50             0.683743             0.722747\n",
      "...         ...      ...     ...                  ...                  ...\n",
      "424049     9311      350    0.75             0.773823             0.675792\n",
      "365526     3789      306    0.75             0.846181             0.653254\n",
      "163594     1704      142    0.75             0.668723             0.684839\n",
      "587923     8519      493    1.00             0.761179             0.741295\n",
      "1102940     636      911    0.25             0.609087             0.582438\n",
      "32241      2006       22    0.50             0.558723             0.593180\n",
      "906751     9315      707    0.50             0.670638             0.729483\n",
      "952367     6100      756    1.00             0.747289             0.758234\n",
      "607608     7620      509    1.00             0.701950             0.723593\n",
      "112320     3553       94    0.75             0.724140             0.711266\n",
      "808025     9150      650    1.00             0.908809             0.886046\n",
      "625663     6353      534    0.50             0.813741             0.705901\n",
      "885090     7269      694    0.75             0.797272             0.758603\n",
      "277308     1191      234    1.00             0.713256             0.696103\n",
      "1062985    4474      854    0.75             0.573043             0.585248\n",
      "37182      7862       26    0.75             0.862415             0.854473\n",
      "427269     2733      352    0.50             0.723872             0.694065\n",
      "524550     3303      451    0.75             0.745742             0.744713\n",
      "493401     6001      423    0.25             0.670874             0.700556\n",
      "2561       3014        4    1.00             0.674630             0.691258\n",
      "888280     9105      696    0.75             0.754281             0.823331\n",
      "515438     1253      442    1.00             0.739228             0.746731\n",
      "735025     6549      611    0.00             0.950636             0.911709\n",
      "366233     6531      306    1.00             0.694428             0.671332\n",
      "952132     5049      756    0.50             0.774392             0.721071\n",
      "490324     8834      420    0.50             0.493094             0.443193\n",
      "244427     1939      203    0.75             0.858872             0.893765\n",
      "127589     1322      106    1.00             0.538706             0.500443\n",
      "397611     6485      323    0.25             0.661921             0.700219\n",
      "106888     8605       89    0.75             0.650630             0.626842\n",
      "\n",
      "[117695 rows x 5 columns]\n"
     ]
    }
   ],
   "source": [
    "from sklearn.preprocessing import MinMaxScaler\n",
    "\n",
    "\n",
    "model_rating = ['ratingknnmeans_user','ratingknnmeans_item', 'rating']\n",
    "model_blend = ['user_id', 'movie_id','ratingknnmeans_user','ratingknnmeans_item']\n",
    "scaler = MinMaxScaler()\n",
    "\n",
    "data.valid_df[model_rating] = scaler.fit_transform(valid_data_np[model_rating])\n",
    "X_val = "
   ]
  },
  {
   "cell_type": "code",
   "execution_count": 73,
   "metadata": {},
   "outputs": [
    {
     "name": "stderr",
     "output_type": "stream",
     "text": [
      "/home/emma-hoggett/anaconda3/lib/python3.7/site-packages/sklearn/linear_model/_logistic.py:939: ConvergenceWarning: lbfgs failed to converge (status=1):\n",
      "STOP: TOTAL NO. of ITERATIONS REACHED LIMIT.\n",
      "\n",
      "Increase the number of iterations (max_iter) or scale the data as shown in:\n",
      "    https://scikit-learn.org/stable/modules/preprocessing.html.\n",
      "Please also refer to the documentation for alternative solver options:\n",
      "    https://scikit-learn.org/stable/modules/linear_model.html#logistic-regression\n",
      "  extra_warning_msg=_LOGISTIC_SOLVER_CONVERGENCE_MSG)\n"
     ]
    },
    {
     "data": {
      "text/plain": [
       "LogisticRegression(C=1.0, class_weight=None, dual=False, fit_intercept=True,\n",
       "                   intercept_scaling=1, l1_ratio=None, max_iter=100,\n",
       "                   multi_class='auto', n_jobs=None, penalty='l2',\n",
       "                   random_state=None, solver='lbfgs', tol=0.0001, verbose=0,\n",
       "                   warm_start=False)"
      ]
     },
     "execution_count": 73,
     "metadata": {},
     "output_type": "execute_result"
    }
   ],
   "source": [
    "model = LogisticRegression()\n",
    "model.fit(X_val,y_val)"
   ]
  }
 ],
 "metadata": {
  "kernelspec": {
   "display_name": "Python 3",
   "language": "python",
   "name": "python3"
  }
 },
 "nbformat": 4,
 "nbformat_minor": 2
}
