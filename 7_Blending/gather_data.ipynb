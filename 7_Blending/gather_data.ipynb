{
 "cells": [
  {
   "cell_type": "code",
   "execution_count": 1,
   "metadata": {},
   "outputs": [
    {
     "name": "stderr",
     "output_type": "stream",
     "text": [
      "Using TensorFlow backend.\n"
     ]
    }
   ],
   "source": [
    "import numpy as np\n",
    "import pandas as pd\n",
    "import matplotlib.pyplot as plt\n",
    "import os\n",
    "import warnings\n",
    "import scipy\n",
    "import scipy.io\n",
    "import scipy.sparse as sp\n",
    "import keras\n",
    "\n",
    "warnings.filterwarnings('ignore')\n",
    "%matplotlib inline\n",
    "\n",
    "\n",
    "from sklearn.preprocessing import LabelEncoder\n",
    "from keras import layers\n",
    "from keras import models\n",
    "from keras import optimizers\n",
    "\n",
    "%load_ext autoreload\n",
    "%autoreload 2"
   ]
  },
  {
   "cell_type": "code",
   "execution_count": 7,
   "metadata": {},
   "outputs": [],
   "source": [
    "INIT_PATH = \"data/test/\"\n",
    "\n",
    "# df_temp = pd.read_csv(INIT_PATH + 'cocluster_test.csv')\n",
    "# df_test = df_temp[['cocluster_rating']].copy()\n",
    "\n",
    "df_temp = pd.read_csv(INIT_PATH + 'knnbasic_test.csv')\n",
    "df_test = pd.concat([df_test, df_temp[['knnbasic_user_rating', 'knnbasic_item_rating']]], axis=1)\n",
    "\n",
    "df_temp = pd.read_csv(INIT_PATH + 'knnmeans_test.csv')\n",
    "df_test = pd.concat([df_test, df_temp[['knnmeans_user_rating', 'knnmeans_item_rating']]], axis=1)\n",
    "\n",
    "df_temp = pd.read_csv(INIT_PATH + 'knnzscore_test.csv')\n",
    "df_test = pd.concat([df_test, df_temp[['knnzscore_user_rating', 'knnzscore_item_rating']]], axis=1)\n",
    "\n",
    "df_temp = pd.read_csv(INIT_PATH + 'MF_ALS_test.csv')\n",
    "df_test = pd.concat([df_test, df_temp[['MF_ALS_rating']]], axis=1)\n",
    "\n",
    "df_temp = pd.read_csv(INIT_PATH + 'MF_RMSE_test.csv')\n",
    "df_test = pd.concat([df_test, df_temp[['MF_RMSE_rating']]], axis=1)\n",
    "\n",
    "df_temp = pd.read_csv(INIT_PATH + 'neuralnet_deep_test.csv')\n",
    "df_test = pd.concat([df_test, df_temp[['NN_deep_rating']]], axis=1)\n",
    "\n",
    "df_temp = pd.read_csv(INIT_PATH + 'neuralnet_shallow_test.csv')\n",
    "df_test = pd.concat([df_test, df_temp[['NN_shallow_rating']]], axis=1)\n",
    "\n",
    "df_temp = pd.read_csv(INIT_PATH + 'slopeone_test.csv')\n",
    "df_test = pd.concat([df_test, df_temp[['slopeone_rating']]], axis=1)"
   ]
  },
  {
   "cell_type": "code",
   "execution_count": 9,
   "metadata": {},
   "outputs": [],
   "source": [
    "df_test.to_csv(\"data/file_models_test.zip\")\n",
    "df_test.to_csv(\"data/file_models_test.csv\")"
   ]
  },
  {
   "cell_type": "code",
   "execution_count": 13,
   "metadata": {},
   "outputs": [
    {
     "ename": "NameError",
     "evalue": "name 'df_submission' is not defined",
     "output_type": "error",
     "traceback": [
      "\u001b[0;31m---------------------------------------------------------------------------\u001b[0m",
      "\u001b[0;31mNameError\u001b[0m                                 Traceback (most recent call last)",
      "\u001b[0;32m<ipython-input-13-c6e2b466e290>\u001b[0m in \u001b[0;36m<module>\u001b[0;34m\u001b[0m\n\u001b[1;32m      5\u001b[0m \u001b[0;34m\u001b[0m\u001b[0m\n\u001b[1;32m      6\u001b[0m \u001b[0mdf_temp\u001b[0m \u001b[0;34m=\u001b[0m \u001b[0mpd\u001b[0m\u001b[0;34m.\u001b[0m\u001b[0mread_csv\u001b[0m\u001b[0;34m(\u001b[0m\u001b[0mINIT_PATH\u001b[0m \u001b[0;34m+\u001b[0m \u001b[0;34m'knnbasic_item_submission.csv'\u001b[0m\u001b[0;34m)\u001b[0m\u001b[0;34m\u001b[0m\u001b[0;34m\u001b[0m\u001b[0m\n\u001b[0;32m----> 7\u001b[0;31m \u001b[0mdf_submission\u001b[0m \u001b[0;34m=\u001b[0m \u001b[0mpd\u001b[0m\u001b[0;34m.\u001b[0m\u001b[0mconcat\u001b[0m\u001b[0;34m(\u001b[0m\u001b[0;34m[\u001b[0m\u001b[0mdf_submission\u001b[0m\u001b[0;34m,\u001b[0m \u001b[0mdf_temp\u001b[0m\u001b[0;34m[\u001b[0m\u001b[0;34m[\u001b[0m\u001b[0;34m'knnbasic_item_rating'\u001b[0m\u001b[0;34m]\u001b[0m\u001b[0;34m]\u001b[0m\u001b[0;34m]\u001b[0m\u001b[0;34m,\u001b[0m \u001b[0maxis\u001b[0m\u001b[0;34m=\u001b[0m\u001b[0;36m1\u001b[0m\u001b[0;34m)\u001b[0m\u001b[0;34m\u001b[0m\u001b[0;34m\u001b[0m\u001b[0m\n\u001b[0m\u001b[1;32m      8\u001b[0m \u001b[0;34m\u001b[0m\u001b[0m\n\u001b[1;32m      9\u001b[0m \u001b[0mdf_temp\u001b[0m \u001b[0;34m=\u001b[0m \u001b[0mpd\u001b[0m\u001b[0;34m.\u001b[0m\u001b[0mread_csv\u001b[0m\u001b[0;34m(\u001b[0m\u001b[0mINIT_PATH\u001b[0m \u001b[0;34m+\u001b[0m \u001b[0;34m'knnbasic_user_submission.csv'\u001b[0m\u001b[0;34m)\u001b[0m\u001b[0;34m\u001b[0m\u001b[0;34m\u001b[0m\u001b[0m\n",
      "\u001b[0;31mNameError\u001b[0m: name 'df_submission' is not defined"
     ]
    }
   ],
   "source": [
    "INIT_PATH = \"data/submission/\"\n",
    "\n",
    "# df_temp = pd.read_csv(INIT_PATH + 'cocluster_submission.csv')\n",
    "# df_submission = df_temp[['cocluster_rating']].copy()\n",
    "\n",
    "df_temp = pd.read_csv(INIT_PATH + 'knnbasic_item_submission.csv')\n",
    "df_submission = pd.concat([df_submission, df_temp[['knnbasic_item_rating']]], axis=1)\n",
    "\n",
    "df_temp = pd.read_csv(INIT_PATH + 'knnbasic_user_submission.csv')\n",
    "df_submission = pd.concat([df_submission, df_temp[['knnbasic_user_rating']]], axis=1)\n",
    "\n",
    "# df_temp = pd.read_csv(INIT_PATH + 'knnmeans_submission.csv')\n",
    "# df_submission = pd.concat([df_submission, df_temp[['knnmeans_user_rating', 'knnmeans_item_rating']]], axis=1)\n",
    "\n",
    "df_temp = pd.read_csv(INIT_PATH + 'knnzscore_user_submission.csv')\n",
    "df_submission = pd.concat([df_submission, df_temp[['knnzscore_user_rating']]], axis=1)\n",
    "\n",
    "df_temp = pd.read_csv(INIT_PATH + 'knnzscore_item_submission.csv')\n",
    "df_submission = pd.concat([df_submission, df_temp[['knnzscore_item_rating']]], axis=1)\n",
    "\n",
    "df_temp = pd.read_csv(INIT_PATH + 'MF_ALS_submission.csv')\n",
    "df_submission = pd.concat([df_submission, df_temp[['MF_ALS_rating']]], axis=1)\n",
    "\n",
    "df_temp = pd.read_csv(INIT_PATH + 'MF_RMSE_submission.csv')\n",
    "df_submission = pd.concat([df_submission, df_temp[['MF_RMSE_rating']]], axis=1)\n",
    "\n",
    "df_temp = pd.read_csv(INIT_PATH + 'neuralnet_deep_submission.csv')\n",
    "df_submission = pd.concat([df_submission, df_temp[['NN_deep_rating']]], axis=1)\n",
    "\n",
    "df_temp = pd.read_csv(INIT_PATH + 'neuralnet_shallow_submission.csv')\n",
    "df_submission = pd.concat([df_submission, df_temp[['NN_shallow_rating']]], axis=1)\n",
    "\n",
    "df_temp = pd.read_csv(INIT_PATH + 'slopeone_submission.csv')\n",
    "df_submission = pd.concat([df_submission, df_temp[['slopeone_rating']]], axis=1)"
   ]
  },
  {
   "cell_type": "code",
   "execution_count": null,
   "metadata": {},
   "outputs": [],
   "source": [
    "df_submission.to_csv(\"data/file_models_submission.csv\")"
   ]
  },
  {
   "cell_type": "code",
   "execution_count": null,
   "metadata": {},
   "outputs": [],
   "source": []
  }
 ],
 "metadata": {
  "kernelspec": {
   "display_name": "Python 3",
   "language": "python",
   "name": "python3"
  },
  "language_info": {
   "codemirror_mode": {
    "name": "ipython",
    "version": 3
   },
   "file_extension": ".py",
   "mimetype": "text/x-python",
   "name": "python",
   "nbconvert_exporter": "python",
   "pygments_lexer": "ipython3",
   "version": "3.7.3"
  }
 },
 "nbformat": 4,
 "nbformat_minor": 2
}
