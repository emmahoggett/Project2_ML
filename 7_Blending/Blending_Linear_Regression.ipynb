{
 "cells": [
  {
   "cell_type": "code",
   "execution_count": 2,
   "metadata": {
    "colab": {},
    "colab_type": "code",
    "id": "8-Cpbh4DKxJA"
   },
   "outputs": [],
   "source": [
    "import pandas as pd\n",
    "import numpy as np"
   ]
  },
  {
   "cell_type": "markdown",
   "metadata": {},
   "source": [
    "Load the predictions and put them all in one dataframe."
   ]
  },
  {
   "cell_type": "code",
   "execution_count": 5,
   "metadata": {
    "colab": {
     "base_uri": "https://localhost:8080/",
     "height": 71
    },
    "colab_type": "code",
    "id": "Dv5tnow6K4aO",
    "outputId": "4cc86cdd-de4c-4c73-d6e8-591ae2809f2e"
   },
   "outputs": [
    {
     "name": "stderr",
     "output_type": "stream",
     "text": [
      "C:\\ProgramData\\Anaconda3\\lib\\site-packages\\numpy\\lib\\arraysetops.py:569: FutureWarning: elementwise comparison failed; returning scalar instead, but in the future will perform elementwise comparison\n",
      "  mask |= (ar1 == a)\n"
     ]
    }
   ],
   "source": [
    "mf_als = pd.read_csv('data/test/MF_ALS_test.csv', index_col=0)\n",
    "mf_rmse = pd.read_csv('data/test/MF_RMSE_test.csv', index_col=0)\n",
    "cocluster = pd.read_csv('data/test/cocluster_test.csv', index_col=0)\n",
    "knnbasic = pd.read_csv('data/test/knnbasic_test.csv', index_col=0)\n",
    "knnmeans = pd.read_csv('data/test/knnmeans_test.csv', index_col=0)\n",
    "knnzscore = pd.read_csv('data/test/knnzscore_test.csv', index_col=0)\n",
    "neuralnet_deep = pd.read_csv('data/test/neuralnet_deep_test.csv', index_col=0)\n",
    "neuralnet_shallow = pd.read_csv('data/test/neuralnet_shallow_test.csv', index_col=0)\n",
    "slopeone = pd.read_csv('data/test/slopeone_test.csv', index_col=0)"
   ]
  },
  {
   "cell_type": "code",
   "execution_count": 6,
   "metadata": {
    "colab": {},
    "colab_type": "code",
    "id": "IQfkHxa9MX45"
   },
   "outputs": [],
   "source": [
    "all_pred = mf_als \\\n",
    "  .merge(cocluster, on=['user_id', 'movie_id']) \\\n",
    "  .merge(knnbasic, on=['user_id', 'movie_id']) \\\n",
    "  .merge(knnmeans, on=['user_id', 'movie_id']) \\\n",
    "  .merge(knnzscore, on=['user_id', 'movie_id']) \\\n",
    "  .merge(neuralnet_deep, on=['user_id', 'movie_id']) \\\n",
    "  .merge(neuralnet_shallow, on=['user_id', 'movie_id']) \\\n",
    "  .merge(slopeone, on=['user_id', 'movie_id']) \\\n",
    "  .drop(['rating_x', 'rating_y'], axis=1)"
   ]
  },
  {
   "cell_type": "code",
   "execution_count": 17,
   "metadata": {
    "colab": {},
    "colab_type": "code",
    "id": "WZ7JeiE5M4Q_"
   },
   "outputs": [],
   "source": [
    "from sklearn.linear_model import LinearRegression"
   ]
  },
  {
   "cell_type": "code",
   "execution_count": 18,
   "metadata": {
    "colab": {
     "base_uri": "https://localhost:8080/",
     "height": 51
    },
    "colab_type": "code",
    "id": "r08TBKyhOelW",
    "outputId": "fff7ed76-bc09-4a5f-ab3a-860c275feb2f"
   },
   "outputs": [
    {
     "data": {
      "text/plain": [
       "LinearRegression(copy_X=True, fit_intercept=True, n_jobs=None, normalize=False)"
      ]
     },
     "execution_count": 18,
     "metadata": {},
     "output_type": "execute_result"
    }
   ],
   "source": [
    "reg = LinearRegression()\n",
    "reg.fit(all_pred.drop(['user_id', 'movie_id', 'rating'], axis=1), all_pred[['rating']])"
   ]
  },
  {
   "cell_type": "code",
   "execution_count": 19,
   "metadata": {
    "colab": {},
    "colab_type": "code",
    "id": "Vi8xJVsbQmww"
   },
   "outputs": [],
   "source": [
    "all_pred['ridge_rating'] = reg.predict(all_pred.drop(['user_id', 'movie_id', 'rating'], axis=1))"
   ]
  },
  {
   "cell_type": "code",
   "execution_count": 20,
   "metadata": {
    "colab": {
     "base_uri": "https://localhost:8080/",
     "height": 34
    },
    "colab_type": "code",
    "id": "1K9HpMPcRIX_",
    "outputId": "be2dcb6e-f419-4671-a0f5-a6dcb878b5ae"
   },
   "outputs": [
    {
     "data": {
      "text/plain": [
       "0.8580268962796068"
      ]
     },
     "execution_count": 20,
     "metadata": {},
     "output_type": "execute_result"
    }
   ],
   "source": [
    "np.sqrt(all_pred.apply(lambda row: (row['ridge_rating'] - row['rating'])**2, axis=1).mean())"
   ]
  }
 ],
 "metadata": {
  "colab": {
   "name": "Blending Alex.ipynb",
   "provenance": []
  },
  "kernelspec": {
   "display_name": "Python 3",
   "language": "python",
   "name": "python3"
  },
  "language_info": {
   "codemirror_mode": {
    "name": "ipython",
    "version": 3
   },
   "file_extension": ".py",
   "mimetype": "text/x-python",
   "name": "python",
   "nbconvert_exporter": "python",
   "pygments_lexer": "ipython3",
   "version": "3.7.3"
  }
 },
 "nbformat": 4,
 "nbformat_minor": 1
}
