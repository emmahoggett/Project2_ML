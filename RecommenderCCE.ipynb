{
 "cells": [
  {
   "cell_type": "markdown",
   "metadata": {},
   "source": [
    "# Recommender - Categorical Cross Entropy"
   ]
  },
  {
   "cell_type": "markdown",
   "metadata": {},
   "source": [
    "Recommender system with categorical cross entropy loss function with cross validation"
   ]
  },
  {
   "cell_type": "code",
   "execution_count": 28,
   "metadata": {},
   "outputs": [],
   "source": [
    "import numpy as np\n",
    "import pandas as pd\n",
    "from keras.models import Sequential\n",
    "from keras.layers import Dense\n",
    "from keras.wrappers.scikit_learn import KerasClassifier\n",
    "from keras.utils import np_utils\n",
    "from sklearn.model_selection import cross_val_score\n",
    "from sklearn.model_selection import KFold\n",
    "from sklearn.preprocessing import LabelEncoder\n",
    "from sklearn.pipeline import Pipeline"
   ]
  },
  {
   "cell_type": "code",
   "execution_count": 29,
   "metadata": {},
   "outputs": [
    {
     "name": "stdout",
     "output_type": "stream",
     "text": [
      "number of items: 10000, number of users: 1000\n",
      "number of items: 10000, number of users: 1000\n"
     ]
    }
   ],
   "source": [
    "from helpers import load_data\n",
    "\n",
    "DATA_TRAIN_PATH = \"data/data_train.csv\"\n",
    "ratings = load_data(DATA_TRAIN_PATH)\n",
    "\n",
    "DATA_TEST_PATH = \"data/sampleSubmission.csv\"\n",
    "samples = load_data(DATA_TEST_PATH)"
   ]
  },
  {
   "cell_type": "markdown",
   "metadata": {},
   "source": [
    "## Data - preprocessing"
   ]
  },
  {
   "cell_type": "code",
   "execution_count": 81,
   "metadata": {},
   "outputs": [],
   "source": [
    "X = data[['user_id', 'movie_id']].values\n",
    "Y = data[['rating']].values"
   ]
  },
  {
   "cell_type": "code",
   "execution_count": 82,
   "metadata": {},
   "outputs": [],
   "source": [
    "from sklearn.model_selection import train_test_split, KFold\n",
    "# split of the data: 0.9 train, 0.1 test\n",
    "X_train, X_test, Y_train, Y_test = train_test_split(X,Y, test_size=0.1, random_state=42)\n",
    "\n",
    "encoder = LabelEncoder()\n",
    "encoder.fit(Y_train)\n",
    "encoder_rate = encoder.transform(Y_train)\n",
    "\n",
    "Y_train_dummy= np_utils.to_categorical(encoder_rate)"
   ]
  },
  {
   "cell_type": "markdown",
   "metadata": {},
   "source": [
    "## Neural network model "
   ]
  },
  {
   "cell_type": "code",
   "execution_count": 83,
   "metadata": {},
   "outputs": [],
   "source": [
    "# define baseline model\n",
    "def baseline_model():\n",
    "    # create model\n",
    "    model = Sequential()\n",
    "    model.add(Dense(10, input_dim=2, activation='relu'))\n",
    "    model.add(Dense(5, activation='sigmoid'))\n",
    "    # Compile model\n",
    "    model.compile(loss='categorical_crossentropy', optimizer='adam', metrics=['accuracy'])\n",
    "    return model"
   ]
  },
  {
   "cell_type": "code",
   "execution_count": 84,
   "metadata": {},
   "outputs": [
    {
     "name": "stdout",
     "output_type": "stream",
     "text": [
      "Train on 953330 samples, validate on 105926 samples\n",
      "Epoch 1/10\n",
      "953330/953330 [==============================] - 2s 2us/step - loss: 6.5752 - accuracy: 0.1420 - val_loss: 5.8302 - val_accuracy: 0.0866\n",
      "Epoch 2/10\n",
      "953330/953330 [==============================] - 1s 1us/step - loss: 5.7293 - accuracy: 0.0853 - val_loss: 5.7050 - val_accuracy: 0.0848\n",
      "Epoch 3/10\n",
      "953330/953330 [==============================] - 1s 1us/step - loss: 4.1261 - accuracy: 0.0807 - val_loss: 1.6484 - val_accuracy: 0.0479\n",
      "Epoch 4/10\n",
      "953330/953330 [==============================] - 1s 1us/step - loss: 1.6122 - accuracy: 0.0395 - val_loss: 1.6095 - val_accuracy: 0.0388\n",
      "Epoch 5/10\n",
      "953330/953330 [==============================] - 1s 1us/step - loss: 1.6095 - accuracy: 0.0382 - val_loss: 1.6095 - val_accuracy: 0.0389\n",
      "Epoch 6/10\n",
      "953330/953330 [==============================] - 1s 1us/step - loss: 1.6095 - accuracy: 0.0383 - val_loss: 1.6094 - val_accuracy: 0.0390\n",
      "Epoch 7/10\n",
      "953330/953330 [==============================] - 1s 1us/step - loss: 1.6094 - accuracy: 0.0383 - val_loss: 1.6093 - val_accuracy: 0.0391\n",
      "Epoch 8/10\n",
      "953330/953330 [==============================] - 1s 1us/step - loss: 1.6093 - accuracy: 0.0383 - val_loss: 1.6094 - val_accuracy: 0.0390\n",
      "Epoch 9/10\n",
      "953330/953330 [==============================] - 1s 1us/step - loss: 1.6094 - accuracy: 0.0383 - val_loss: 1.6094 - val_accuracy: 0.0391\n",
      "Epoch 10/10\n",
      "953330/953330 [==============================] - 1s 1us/step - loss: 1.6092 - accuracy: 0.0384 - val_loss: 1.6092 - val_accuracy: 0.0392\n",
      "Train on 953330 samples, validate on 105926 samples\n",
      "Epoch 1/10\n",
      "953330/953330 [==============================] - 2s 2us/step - loss: 2.4064 - accuracy: 0.0549 - val_loss: 1.6505 - val_accuracy: 0.0450\n",
      "Epoch 2/10\n",
      "953330/953330 [==============================] - 1s 1us/step - loss: 1.6400 - accuracy: 0.0429 - val_loss: 1.6338 - val_accuracy: 0.0421\n",
      "Epoch 3/10\n",
      "953330/953330 [==============================] - 1s 1us/step - loss: 1.6112 - accuracy: 0.0406 - val_loss: 1.6079 - val_accuracy: 0.0414\n",
      "Epoch 4/10\n",
      "953330/953330 [==============================] - 1s 1us/step - loss: 1.6056 - accuracy: 0.0409 - val_loss: 1.6028 - val_accuracy: 0.0415\n",
      "Epoch 5/10\n",
      "953330/953330 [==============================] - 1s 1us/step - loss: 1.6021 - accuracy: 0.0411 - val_loss: 1.6019 - val_accuracy: 0.0418\n",
      "Epoch 6/10\n",
      "953330/953330 [==============================] - 1s 1us/step - loss: 1.6016 - accuracy: 0.0413 - val_loss: 1.6014 - val_accuracy: 0.0421\n",
      "Epoch 7/10\n",
      "953330/953330 [==============================] - 1s 1us/step - loss: 1.6010 - accuracy: 0.0416 - val_loss: 1.6007 - val_accuracy: 0.0422\n",
      "Epoch 8/10\n",
      "953330/953330 [==============================] - 1s 1us/step - loss: 1.6005 - accuracy: 0.0419 - val_loss: 1.6004 - val_accuracy: 0.0424\n",
      "Epoch 9/10\n",
      "953330/953330 [==============================] - 1s 1us/step - loss: 1.5998 - accuracy: 0.0422 - val_loss: 1.5994 - val_accuracy: 0.0430\n",
      "Epoch 10/10\n",
      "953330/953330 [==============================] - 1s 1us/step - loss: 1.5989 - accuracy: 0.0427 - val_loss: 1.5984 - val_accuracy: 0.0434\n",
      "Train on 953330 samples, validate on 105926 samples\n",
      "Epoch 1/10\n",
      "953330/953330 [==============================] - 2s 2us/step - loss: 6.9230 - accuracy: 0.0379 - val_loss: 6.6611 - val_accuracy: 0.0388\n",
      "Epoch 2/10\n",
      "953330/953330 [==============================] - 1s 1us/step - loss: 5.9739 - accuracy: 0.0388 - val_loss: 2.8737 - val_accuracy: 0.0393\n",
      "Epoch 3/10\n",
      "953330/953330 [==============================] - 1s 1us/step - loss: 2.7658 - accuracy: 0.0389 - val_loss: 2.6357 - val_accuracy: 0.0383\n",
      "Epoch 4/10\n",
      "953330/953330 [==============================] - 1s 1us/step - loss: 2.2332 - accuracy: 0.0382 - val_loss: 1.6097 - val_accuracy: 0.0382\n",
      "Epoch 5/10\n",
      "953330/953330 [==============================] - 1s 1us/step - loss: 1.6097 - accuracy: 0.0383 - val_loss: 1.6097 - val_accuracy: 0.0382\n",
      "Epoch 6/10\n",
      "953330/953330 [==============================] - 1s 1us/step - loss: 1.6097 - accuracy: 0.0383 - val_loss: 1.6097 - val_accuracy: 0.0382\n",
      "Epoch 7/10\n",
      "953330/953330 [==============================] - 1s 1us/step - loss: 1.6097 - accuracy: 0.0383 - val_loss: 1.6096 - val_accuracy: 0.0382\n",
      "Epoch 8/10\n",
      "953330/953330 [==============================] - 1s 1us/step - loss: 1.6096 - accuracy: 0.0383 - val_loss: 1.6096 - val_accuracy: 0.0382\n",
      "Epoch 9/10\n",
      "953330/953330 [==============================] - 1s 1us/step - loss: 1.6096 - accuracy: 0.0383 - val_loss: 1.6096 - val_accuracy: 0.0383\n",
      "Epoch 10/10\n",
      "953330/953330 [==============================] - 1s 1us/step - loss: 1.6096 - accuracy: 0.0383 - val_loss: 1.6096 - val_accuracy: 0.0383\n",
      "Train on 953330 samples, validate on 105926 samples\n",
      "Epoch 1/10\n",
      "953330/953330 [==============================] - 2s 2us/step - loss: 1.8425 - accuracy: 0.0701 - val_loss: 1.6441 - val_accuracy: 0.0425\n",
      "Epoch 2/10\n",
      "953330/953330 [==============================] - 1s 1us/step - loss: 1.6402 - accuracy: 0.0424 - val_loss: 1.6408 - val_accuracy: 0.0420\n",
      "Epoch 3/10\n",
      "953330/953330 [==============================] - 1s 1us/step - loss: 1.6374 - accuracy: 0.0419 - val_loss: 1.6383 - val_accuracy: 0.0415\n",
      "Epoch 4/10\n",
      "953330/953330 [==============================] - 1s 1us/step - loss: 1.6341 - accuracy: 0.0412 - val_loss: 1.6345 - val_accuracy: 0.0408\n",
      "Epoch 5/10\n",
      "953330/953330 [==============================] - 1s 1us/step - loss: 1.6309 - accuracy: 0.0407 - val_loss: 1.6302 - val_accuracy: 0.0403\n",
      "Epoch 6/10\n",
      "953330/953330 [==============================] - 1s 1us/step - loss: 1.6281 - accuracy: 0.0402 - val_loss: 1.6278 - val_accuracy: 0.0402\n",
      "Epoch 7/10\n",
      "953330/953330 [==============================] - 1s 1us/step - loss: 1.6256 - accuracy: 0.0398 - val_loss: 1.6260 - val_accuracy: 0.0398\n",
      "Epoch 8/10\n",
      "953330/953330 [==============================] - 1s 1us/step - loss: 1.6231 - accuracy: 0.0395 - val_loss: 1.6243 - val_accuracy: 0.0395\n",
      "Epoch 9/10\n",
      "953330/953330 [==============================] - 1s 1us/step - loss: 1.6209 - accuracy: 0.0391 - val_loss: 1.6200 - val_accuracy: 0.0391\n",
      "Epoch 10/10\n",
      "953330/953330 [==============================] - 1s 1us/step - loss: 1.6177 - accuracy: 0.0387 - val_loss: 1.6173 - val_accuracy: 0.0388\n",
      "Train on 953330 samples, validate on 105926 samples\n",
      "Epoch 1/10\n",
      "953330/953330 [==============================] - 2s 2us/step - loss: 5.9273 - accuracy: 0.1410 - val_loss: 5.7355 - val_accuracy: 0.0383\n",
      "Epoch 2/10\n",
      "953330/953330 [==============================] - 1s 1us/step - loss: 5.1291 - accuracy: 0.0379 - val_loss: 4.8240 - val_accuracy: 0.0378\n",
      "Epoch 3/10\n",
      "953330/953330 [==============================] - 1s 1us/step - loss: 4.8243 - accuracy: 0.0375 - val_loss: 4.8220 - val_accuracy: 0.0375\n",
      "Epoch 4/10\n",
      "953330/953330 [==============================] - 1s 1us/step - loss: 4.8230 - accuracy: 0.0373 - val_loss: 4.8219 - val_accuracy: 0.0374\n",
      "Epoch 5/10\n",
      "953330/953330 [==============================] - 1s 1us/step - loss: 4.8229 - accuracy: 0.0373 - val_loss: 4.8219 - val_accuracy: 0.0374\n",
      "Epoch 6/10\n",
      "953330/953330 [==============================] - 1s 1us/step - loss: 4.8229 - accuracy: 0.0373 - val_loss: 4.8219 - val_accuracy: 0.0375\n",
      "Epoch 7/10\n",
      "953330/953330 [==============================] - 1s 1us/step - loss: 4.8226 - accuracy: 0.0374 - val_loss: 4.8211 - val_accuracy: 0.0374\n",
      "Epoch 8/10\n",
      "953330/953330 [==============================] - 1s 1us/step - loss: 2.9479 - accuracy: 0.0375 - val_loss: 1.6093 - val_accuracy: 0.0375\n",
      "Epoch 9/10\n",
      "953330/953330 [==============================] - 1s 1us/step - loss: 1.6093 - accuracy: 0.0375 - val_loss: 1.6092 - val_accuracy: 0.0376\n",
      "Epoch 10/10\n",
      "953330/953330 [==============================] - 1s 1us/step - loss: 1.6093 - accuracy: 0.0375 - val_loss: 1.6091 - val_accuracy: 0.0376\n",
      "Train on 953330 samples, validate on 105926 samples\n",
      "Epoch 1/10\n",
      "953330/953330 [==============================] - 2s 2us/step - loss: nan - accuracy: 0.0376 - val_loss: nan - val_accuracy: 0.0372\n",
      "Epoch 2/10\n",
      "953330/953330 [==============================] - 1s 1us/step - loss: nan - accuracy: 0.0370 - val_loss: nan - val_accuracy: 0.0372\n",
      "Epoch 3/10\n",
      "953330/953330 [==============================] - 1s 1us/step - loss: nan - accuracy: 0.0370 - val_loss: nan - val_accuracy: 0.0372\n",
      "Epoch 4/10\n",
      "953330/953330 [==============================] - 1s 1us/step - loss: nan - accuracy: 0.0370 - val_loss: nan - val_accuracy: 0.0372\n",
      "Epoch 5/10\n",
      "953330/953330 [==============================] - 1s 1us/step - loss: nan - accuracy: 0.0370 - val_loss: nan - val_accuracy: 0.0372\n",
      "Epoch 6/10\n",
      "953330/953330 [==============================] - 1s 1us/step - loss: nan - accuracy: 0.0370 - val_loss: nan - val_accuracy: 0.0372\n",
      "Epoch 7/10\n",
      "953330/953330 [==============================] - 1s 1us/step - loss: nan - accuracy: 0.0370 - val_loss: nan - val_accuracy: 0.0372\n",
      "Epoch 8/10\n",
      "953330/953330 [==============================] - 1s 1us/step - loss: nan - accuracy: 0.0370 - val_loss: nan - val_accuracy: 0.0372\n",
      "Epoch 9/10\n",
      "953330/953330 [==============================] - 1s 1us/step - loss: nan - accuracy: 0.0370 - val_loss: nan - val_accuracy: 0.0372\n",
      "Epoch 10/10\n",
      "953330/953330 [==============================] - 1s 1us/step - loss: nan - accuracy: 0.0370 - val_loss: nan - val_accuracy: 0.0372\n",
      "Train on 953331 samples, validate on 105925 samples\n",
      "Epoch 1/10\n",
      "953331/953331 [==============================] - 2s 2us/step - loss: 10.5408 - accuracy: 0.0381 - val_loss: 7.8245 - val_accuracy: 0.0373\n",
      "Epoch 2/10\n",
      "953331/953331 [==============================] - 1s 1us/step - loss: 2.1845 - accuracy: 0.0384 - val_loss: 1.6765 - val_accuracy: 0.0373\n",
      "Epoch 3/10\n",
      "953331/953331 [==============================] - 1s 1us/step - loss: 1.6583 - accuracy: 0.0384 - val_loss: 1.6392 - val_accuracy: 0.0376\n",
      "Epoch 4/10\n",
      "953331/953331 [==============================] - 1s 1us/step - loss: 1.6123 - accuracy: 0.0379 - val_loss: 1.6094 - val_accuracy: 0.0368\n",
      "Epoch 5/10\n",
      "953331/953331 [==============================] - 1s 1us/step - loss: 1.6093 - accuracy: 0.0378 - val_loss: 1.6094 - val_accuracy: 0.0371\n",
      "Epoch 6/10\n",
      "953331/953331 [==============================] - 1s 1us/step - loss: 1.6093 - accuracy: 0.0380 - val_loss: 1.6093 - val_accuracy: 0.0373\n",
      "Epoch 7/10\n",
      "953331/953331 [==============================] - 1s 1us/step - loss: 1.6091 - accuracy: 0.0386 - val_loss: 1.6103 - val_accuracy: 0.0393\n",
      "Epoch 8/10\n",
      "953331/953331 [==============================] - 1s 1us/step - loss: 1.6072 - accuracy: 0.0399 - val_loss: 1.6064 - val_accuracy: 0.0398\n",
      "Epoch 9/10\n",
      "953331/953331 [==============================] - 1s 1us/step - loss: 1.6087 - accuracy: 0.0401 - val_loss: 1.6094 - val_accuracy: 0.0374\n",
      "Epoch 10/10\n",
      "953331/953331 [==============================] - 1s 1us/step - loss: 1.6094 - accuracy: 0.0384 - val_loss: 1.6094 - val_accuracy: 0.0375\n",
      "Train on 953331 samples, validate on 105925 samples\n",
      "Epoch 1/10\n",
      "953331/953331 [==============================] - 2s 2us/step - loss: 3.4866 - accuracy: 0.0947 - val_loss: 1.9023 - val_accuracy: 0.0739\n",
      "Epoch 2/10\n",
      "953331/953331 [==============================] - 1s 1us/step - loss: 1.8321 - accuracy: 0.0677 - val_loss: 1.7971 - val_accuracy: 0.0607\n",
      "Epoch 3/10\n",
      "953331/953331 [==============================] - 1s 1us/step - loss: 1.7411 - accuracy: 0.0600 - val_loss: 1.6952 - val_accuracy: 0.0565\n",
      "Epoch 4/10\n",
      "953331/953331 [==============================] - 1s 1us/step - loss: 1.6780 - accuracy: 0.0569 - val_loss: 1.6746 - val_accuracy: 0.0546\n",
      "Epoch 5/10\n",
      "953331/953331 [==============================] - 1s 1us/step - loss: 1.6491 - accuracy: 0.0559 - val_loss: 1.6474 - val_accuracy: 0.0580\n",
      "Epoch 6/10\n",
      "953331/953331 [==============================] - 1s 1us/step - loss: 1.7208 - accuracy: 0.0684 - val_loss: 1.6428 - val_accuracy: 0.0427\n",
      "Epoch 7/10\n",
      "953331/953331 [==============================] - 1s 1us/step - loss: 1.6368 - accuracy: 0.0434 - val_loss: 1.6403 - val_accuracy: 0.0423\n",
      "Epoch 8/10\n",
      "953331/953331 [==============================] - 1s 1us/step - loss: 1.6349 - accuracy: 0.0428 - val_loss: 1.6379 - val_accuracy: 0.0415\n",
      "Epoch 9/10\n",
      "953331/953331 [==============================] - 1s 1us/step - loss: 1.6332 - accuracy: 0.0424 - val_loss: 1.6363 - val_accuracy: 0.0411\n",
      "Epoch 10/10\n",
      "953331/953331 [==============================] - 1s 1us/step - loss: 1.6316 - accuracy: 0.0420 - val_loss: 1.6336 - val_accuracy: 0.0410\n",
      "Train on 953331 samples, validate on 105925 samples\n",
      "Epoch 1/10\n",
      "953331/953331 [==============================] - 2s 2us/step - loss: 4.0249 - accuracy: 0.2022 - val_loss: 3.1306 - val_accuracy: 0.0377\n",
      "Epoch 2/10\n",
      "953331/953331 [==============================] - 1s 1us/step - loss: 3.0283 - accuracy: 0.0375 - val_loss: 2.9455 - val_accuracy: 0.0375\n",
      "Epoch 3/10\n",
      "953331/953331 [==============================] - 1s 1us/step - loss: 2.8989 - accuracy: 0.0374 - val_loss: 2.8500 - val_accuracy: 0.0375\n",
      "Epoch 4/10\n",
      "953331/953331 [==============================] - 1s 1us/step - loss: 2.8165 - accuracy: 0.0374 - val_loss: 2.7788 - val_accuracy: 0.0375\n",
      "Epoch 5/10\n",
      "953331/953331 [==============================] - 1s 1us/step - loss: 2.7572 - accuracy: 0.0373 - val_loss: 2.7252 - val_accuracy: 0.0374\n",
      "Epoch 6/10\n",
      "953331/953331 [==============================] - 1s 1us/step - loss: 1.7900 - accuracy: 0.0372 - val_loss: 1.6940 - val_accuracy: 0.0372\n",
      "Epoch 7/10\n",
      "953331/953331 [==============================] - 1s 1us/step - loss: 1.6579 - accuracy: 0.0371 - val_loss: 1.6258 - val_accuracy: 0.0371\n",
      "Epoch 8/10\n",
      "953331/953331 [==============================] - 1s 1us/step - loss: 1.6126 - accuracy: 0.0371 - val_loss: 1.6094 - val_accuracy: 0.0371\n",
      "Epoch 9/10\n",
      "953331/953331 [==============================] - 1s 1us/step - loss: 1.6094 - accuracy: 0.0371 - val_loss: 1.6094 - val_accuracy: 0.0371\n",
      "Epoch 10/10\n",
      "953331/953331 [==============================] - 1s 1us/step - loss: 1.6094 - accuracy: 0.0371 - val_loss: 1.6094 - val_accuracy: 0.0371\n",
      "Train on 953331 samples, validate on 105925 samples\n",
      "Epoch 1/10\n",
      "953331/953331 [==============================] - 2s 2us/step - loss: 5.9242 - accuracy: 0.0418 - val_loss: 1.7295 - val_accuracy: 0.0442\n",
      "Epoch 2/10\n",
      "953331/953331 [==============================] - 1s 1us/step - loss: 1.6977 - accuracy: 0.0456 - val_loss: 1.6910 - val_accuracy: 0.0466\n",
      "Epoch 3/10\n",
      "953331/953331 [==============================] - 1s 1us/step - loss: 1.6648 - accuracy: 0.0456 - val_loss: 1.6516 - val_accuracy: 0.0451\n",
      "Epoch 4/10\n",
      "953331/953331 [==============================] - 1s 1us/step - loss: 1.6326 - accuracy: 0.0444 - val_loss: 1.6216 - val_accuracy: 0.0454\n",
      "Epoch 5/10\n",
      "953331/953331 [==============================] - 1s 1us/step - loss: 1.6154 - accuracy: 0.0452 - val_loss: 1.6125 - val_accuracy: 0.0457\n",
      "Epoch 6/10\n",
      "953331/953331 [==============================] - 1s 1us/step - loss: 1.6109 - accuracy: 0.0450 - val_loss: 1.6103 - val_accuracy: 0.0456\n",
      "Epoch 7/10\n",
      "953331/953331 [==============================] - 1s 1us/step - loss: 1.6098 - accuracy: 0.0452 - val_loss: 1.6095 - val_accuracy: 0.0460\n",
      "Epoch 8/10\n",
      "953331/953331 [==============================] - 1s 1us/step - loss: 1.6092 - accuracy: 0.0458 - val_loss: 1.6090 - val_accuracy: 0.0469\n",
      "Epoch 9/10\n",
      "953331/953331 [==============================] - 1s 1us/step - loss: 1.6087 - accuracy: 0.0465 - val_loss: 1.6085 - val_accuracy: 0.0478\n",
      "Epoch 10/10\n",
      "953331/953331 [==============================] - 1s 1us/step - loss: 1.6082 - accuracy: 0.0477 - val_loss: 1.6079 - val_accuracy: 0.0494\n"
     ]
    }
   ],
   "source": [
    "n_split = 10\n",
    "for train_index, test_index in KFold(n_split).split(X_train):\n",
    "    x_train,x_test = X_train[train_index], X_train[test_index]\n",
    "    y_train,y_test = Y_train_dummy[train_index], Y_train_dummy[test_index]\n",
    "    \n",
    "    model = baseline_model()\n",
    "    history = model.fit(x=x_train, y=y_train,  batch_size=10000, epochs=10,verbose=1, validation_data=(x_test, y_test))"
   ]
  },
  {
   "cell_type": "code",
   "execution_count": 88,
   "metadata": {},
   "outputs": [
    {
     "ename": "NameError",
     "evalue": "name 'prdiction_test' is not defined",
     "output_type": "error",
     "traceback": [
      "\u001b[0;31m---------------------------------------------------------------------------\u001b[0m",
      "\u001b[0;31mNameError\u001b[0m                                 Traceback (most recent call last)",
      "\u001b[0;32m<ipython-input-88-9ede53ff833e>\u001b[0m in \u001b[0;36m<module>\u001b[0;34m\u001b[0m\n\u001b[1;32m      4\u001b[0m \u001b[0mprediction_test\u001b[0m \u001b[0;34m=\u001b[0m \u001b[0mmodel\u001b[0m\u001b[0;34m.\u001b[0m\u001b[0mpredict\u001b[0m\u001b[0;34m(\u001b[0m\u001b[0mx\u001b[0m\u001b[0;34m=\u001b[0m\u001b[0mX_test\u001b[0m\u001b[0;34m)\u001b[0m\u001b[0;34m\u001b[0m\u001b[0;34m\u001b[0m\u001b[0m\n\u001b[1;32m      5\u001b[0m \u001b[0;34m\u001b[0m\u001b[0m\n\u001b[0;32m----> 6\u001b[0;31m \u001b[0mprdiction_test\u001b[0m\u001b[0;34m\u001b[0m\u001b[0;34m\u001b[0m\u001b[0m\n\u001b[0m\u001b[1;32m      7\u001b[0m \u001b[0;34m\u001b[0m\u001b[0m\n\u001b[1;32m      8\u001b[0m \u001b[0;34m\u001b[0m\u001b[0m\n",
      "\u001b[0;31mNameError\u001b[0m: name 'prdiction_test' is not defined"
     ]
    }
   ],
   "source": [
    "from sklearn.metrics import mean_squared_error\n",
    "\n",
    "\n",
    "prediction_test = model.predict(x=X_test)\n",
    "\n",
    "\n",
    "\n",
    "#print (mean_squared_error(Y_test, prediction_test))"
   ]
  },
  {
   "cell_type": "code",
   "execution_count": 1,
   "metadata": {},
   "outputs": [
    {
     "ename": "NameError",
     "evalue": "name 'prediction_test' is not defined",
     "output_type": "error",
     "traceback": [
      "\u001b[0;31m---------------------------------------------------------------------------\u001b[0m",
      "\u001b[0;31mNameError\u001b[0m                                 Traceback (most recent call last)",
      "\u001b[0;32m<ipython-input-1-6c7a224069b3>\u001b[0m in \u001b[0;36m<module>\u001b[0;34m\u001b[0m\n\u001b[0;32m----> 1\u001b[0;31m \u001b[0mprediction_test\u001b[0m\u001b[0;34m[\u001b[0m\u001b[0;34m:\u001b[0m\u001b[0;36m3\u001b[0m\u001b[0;34m]\u001b[0m\u001b[0;34m\u001b[0m\u001b[0;34m\u001b[0m\u001b[0m\n\u001b[0m",
      "\u001b[0;31mNameError\u001b[0m: name 'prediction_test' is not defined"
     ]
    }
   ],
   "source": [
    "prediction_test[:3]"
   ]
  }
 ],
 "metadata": {
  "kernelspec": {
   "display_name": "Python 3",
   "language": "python",
   "name": "python3"
  },
  "language_info": {
   "codemirror_mode": {
    "name": "ipython",
    "version": 3
   },
   "file_extension": ".py",
   "mimetype": "text/x-python",
   "name": "python",
   "nbconvert_exporter": "python",
   "pygments_lexer": "ipython3",
   "version": "3.7.3"
  }
 },
 "nbformat": 4,
 "nbformat_minor": 2
}
