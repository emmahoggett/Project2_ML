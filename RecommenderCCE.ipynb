{
 "cells": [
  {
   "cell_type": "markdown",
   "metadata": {},
   "source": [
    "# Recommender - Categorical Cross Entropy"
   ]
  },
  {
   "cell_type": "markdown",
   "metadata": {},
   "source": [
    "Recommender system with categorical cross entropy loss function with cross validation"
   ]
  },
  {
   "cell_type": "code",
   "execution_count": 28,
   "metadata": {},
   "outputs": [],
   "source": [
    "import numpy as np\n",
    "import pandas as pd\n",
    "from keras.models import Sequential\n",
    "from keras.layers import Dense\n",
    "from keras.wrappers.scikit_learn import KerasClassifier\n",
    "from keras.utils import np_utils\n",
    "from sklearn.model_selection import cross_val_score\n",
    "from sklearn.model_selection import KFold\n",
    "from sklearn.preprocessing import LabelEncoder\n",
    "from sklearn.pipeline import Pipeline"
   ]
  },
  {
   "cell_type": "code",
   "execution_count": 29,
   "metadata": {},
   "outputs": [
    {
     "name": "stdout",
     "output_type": "stream",
     "text": [
      "number of items: 10000, number of users: 1000\n",
      "number of items: 10000, number of users: 1000\n"
     ]
    }
   ],
   "source": [
    "from helpers import load_data\n",
    "\n",
    "DATA_TRAIN_PATH = \"data/data_train.csv\"\n",
    "ratings = load_data(DATA_TRAIN_PATH)\n",
    "\n",
    "DATA_TEST_PATH = \"data/sampleSubmission.csv\"\n",
    "samples = load_data(DATA_TEST_PATH)"
   ]
  },
  {
   "cell_type": "markdown",
   "metadata": {},
   "source": [
    "## Data - preprocessing"
   ]
  },
  {
   "cell_type": "code",
   "execution_count": 30,
   "metadata": {},
   "outputs": [],
   "source": [
    "from helpers import convert_train\n",
    "\n",
    "submission,_,_=convert_train(samples)\n",
    "data, n_users, n_movies = convert_train(ratings)"
   ]
  },
  {
   "cell_type": "code",
   "execution_count": 31,
   "metadata": {},
   "outputs": [],
   "source": [
    "# Encode class values as integers\n",
    "encoder = LabelEncoder()\n",
    "encoder.fit(data ['rating'])\n",
    "encoder_rate = encoder.transform(data ['rating'])\n",
    "\n",
    "dummy_rate = np_utils.to_categorical(encoder_rate)\n"
   ]
  },
  {
   "cell_type": "code",
   "execution_count": 32,
   "metadata": {},
   "outputs": [],
   "source": [
    "X = data[['user_id', 'movie_id']].values"
   ]
  },
  {
   "cell_type": "code",
   "execution_count": 71,
   "metadata": {},
   "outputs": [
    {
     "name": "stdout",
     "output_type": "stream",
     "text": [
      "[[8109  493]\n",
      " [8589  214]\n",
      " [5668  258]\n",
      " ...\n",
      " [1147  625]\n",
      " [5947  369]\n",
      " [1068  472]]\n"
     ]
    }
   ],
   "source": [
    "from sklearn.model_selection import train_test_split, KFold\n",
    "# split of the data: 0.9 train, 0.1 test\n",
    "X_train, X_test, Y_train, Y_test = train_test_split(X,dummy_rate, test_size=0.1, random_state=42)\n",
    "print(X_train)"
   ]
  },
  {
   "cell_type": "markdown",
   "metadata": {},
   "source": [
    "## Neural network model "
   ]
  },
  {
   "cell_type": "code",
   "execution_count": 65,
   "metadata": {},
   "outputs": [],
   "source": [
    "# define baseline model\n",
    "def baseline_model():\n",
    "    # create model\n",
    "    model = Sequential()\n",
    "    model.add(Dense(10, input_dim=2, activation='relu'))\n",
    "    model.add(Dense(5, activation='sigmoid'))\n",
    "    # Compile model\n",
    "    model.compile(loss='categorical_crossentropy', optimizer='adam', metrics=['accuracy'])\n",
    "    return model"
   ]
  },
  {
   "cell_type": "code",
   "execution_count": null,
   "metadata": {},
   "outputs": [
    {
     "name": "stdout",
     "output_type": "stream",
     "text": [
      "Train on 953330 samples, validate on 105926 samples\n",
      "Epoch 1/10\n",
      "953330/953330 [==============================] - 2s 2us/step - loss: 1.9308 - accuracy: 0.0846 - val_loss: 1.9358 - val_accuracy: 0.0847\n",
      "Epoch 2/10\n",
      "953330/953330 [==============================] - 1s 1us/step - loss: 1.9307 - accuracy: 0.0846 - val_loss: 1.9357 - val_accuracy: 0.0848\n",
      "Epoch 3/10\n",
      "953330/953330 [==============================] - 1s 1us/step - loss: 1.9306 - accuracy: 0.0847 - val_loss: 1.9275 - val_accuracy: 0.0844\n",
      "Epoch 4/10\n",
      "953330/953330 [==============================] - 1s 1us/step - loss: 1.6694 - accuracy: 0.0467 - val_loss: 1.6688 - val_accuracy: 0.0373\n",
      "Epoch 5/10\n",
      "953330/953330 [==============================] - 1s 1us/step - loss: 1.6102 - accuracy: 0.0370 - val_loss: 1.6094 - val_accuracy: 0.0373\n",
      "Epoch 6/10\n",
      "953330/953330 [==============================] - 1s 1us/step - loss: 1.6094 - accuracy: 0.0370 - val_loss: 1.6094 - val_accuracy: 0.0373\n",
      "Epoch 7/10\n",
      "953330/953330 [==============================] - 1s 1us/step - loss: 1.6094 - accuracy: 0.0370 - val_loss: 1.6094 - val_accuracy: 0.0373\n",
      "Epoch 8/10\n",
      "953330/953330 [==============================] - 1s 1us/step - loss: 1.6094 - accuracy: 0.0370 - val_loss: 1.6094 - val_accuracy: 0.0373\n",
      "Epoch 9/10\n",
      "953330/953330 [==============================] - 1s 1us/step - loss: 1.6094 - accuracy: 0.0370 - val_loss: 1.6094 - val_accuracy: 0.0373\n",
      "Epoch 10/10\n",
      "953330/953330 [==============================] - 1s 1us/step - loss: 1.6094 - accuracy: 0.0370 - val_loss: 1.6094 - val_accuracy: 0.0373\n",
      "Train on 953330 samples, validate on 105926 samples\n",
      "Epoch 1/10\n",
      "953330/953330 [==============================] - 2s 2us/step - loss: 5.0557 - accuracy: 0.0976 - val_loss: 4.9088 - val_accuracy: 0.0920\n",
      "Epoch 2/10\n",
      "953330/953330 [==============================] - 1s 1us/step - loss: 2.6581 - accuracy: 0.0907 - val_loss: 1.9662 - val_accuracy: 0.0893\n",
      "Epoch 3/10\n",
      "953330/953330 [==============================] - 1s 2us/step - loss: 1.9456 - accuracy: 0.0876 - val_loss: 1.9340 - val_accuracy: 0.0847\n",
      "Epoch 4/10\n",
      "953330/953330 [==============================] - 1s 1us/step - loss: 1.9245 - accuracy: 0.0839 - val_loss: 1.9260 - val_accuracy: 0.0831\n",
      "Epoch 5/10\n",
      "953330/953330 [==============================] - 1s 1us/step - loss: 1.9173 - accuracy: 0.0829 - val_loss: 1.9161 - val_accuracy: 0.0820\n",
      "Epoch 6/10\n",
      "953330/953330 [==============================] - 1s 1us/step - loss: 1.9065 - accuracy: 0.0817 - val_loss: 1.8901 - val_accuracy: 0.0791\n",
      "Epoch 7/10\n",
      "953330/953330 [==============================] - 1s 1us/step - loss: 1.6520 - accuracy: 0.0440 - val_loss: 1.6094 - val_accuracy: 0.0375\n",
      "Epoch 8/10\n",
      "953330/953330 [==============================] - 1s 1us/step - loss: 1.6094 - accuracy: 0.0371 - val_loss: 1.6094 - val_accuracy: 0.0375\n",
      "Epoch 9/10\n",
      "953330/953330 [==============================] - 1s 1us/step - loss: 1.6094 - accuracy: 0.0371 - val_loss: 1.6094 - val_accuracy: 0.0375\n",
      "Epoch 10/10\n",
      "953330/953330 [==============================] - 1s 1us/step - loss: 1.6094 - accuracy: 0.0371 - val_loss: 1.6094 - val_accuracy: 0.0375\n",
      "Train on 953330 samples, validate on 105926 samples\n",
      "Epoch 1/10\n",
      "953330/953330 [==============================] - 2s 2us/step - loss: 6.7693 - accuracy: 0.0381 - val_loss: 5.9187 - val_accuracy: 0.0424\n",
      "Epoch 2/10\n",
      "953330/953330 [==============================] - 1s 1us/step - loss: 5.7277 - accuracy: 0.1403 - val_loss: 5.7494 - val_accuracy: 0.0394\n",
      "Epoch 3/10\n",
      "953330/953330 [==============================] - 1s 1us/step - loss: 2.5894 - accuracy: 0.0383 - val_loss: 1.6671 - val_accuracy: 0.0381\n",
      "Epoch 4/10\n",
      "953330/953330 [==============================] - 1s 1us/step - loss: 1.6448 - accuracy: 0.0385 - val_loss: 1.6125 - val_accuracy: 0.0385\n",
      "Epoch 5/10\n",
      "953330/953330 [==============================] - 1s 1us/step - loss: 1.6100 - accuracy: 0.0387 - val_loss: 1.6092 - val_accuracy: 0.0386\n",
      "Epoch 6/10\n",
      "953330/953330 [==============================] - 1s 1us/step - loss: 1.6092 - accuracy: 0.0388 - val_loss: 1.6092 - val_accuracy: 0.0386\n",
      "Epoch 7/10\n",
      "953330/953330 [==============================] - 1s 1us/step - loss: 1.6092 - accuracy: 0.0388 - val_loss: 1.6092 - val_accuracy: 0.0386\n",
      "Epoch 8/10\n",
      "953330/953330 [==============================] - 1s 1us/step - loss: 1.6092 - accuracy: 0.0388 - val_loss: 1.6092 - val_accuracy: 0.0387\n",
      "Epoch 9/10\n",
      "953330/953330 [==============================] - 1s 1us/step - loss: 1.6092 - accuracy: 0.0389 - val_loss: 1.6092 - val_accuracy: 0.0387\n",
      "Epoch 10/10\n",
      "953330/953330 [==============================] - 1s 1us/step - loss: 1.6092 - accuracy: 0.0389 - val_loss: 1.6091 - val_accuracy: 0.0388\n",
      "Train on 953330 samples, validate on 105926 samples\n",
      "Epoch 1/10\n",
      "953330/953330 [==============================] - 2s 2us/step - loss: 2.4165 - accuracy: 0.0400 - val_loss: 2.0037 - val_accuracy: 0.0405\n",
      "Epoch 2/10\n",
      "953330/953330 [==============================] - 1s 1us/step - loss: 1.7464 - accuracy: 0.0407 - val_loss: 1.6358 - val_accuracy: 0.0406\n",
      "Epoch 3/10\n",
      "953330/953330 [==============================] - 1s 1us/step - loss: 1.6328 - accuracy: 0.0406 - val_loss: 1.6334 - val_accuracy: 0.0404\n",
      "Epoch 4/10\n",
      "953330/953330 [==============================] - 1s 1us/step - loss: 1.6310 - accuracy: 0.0404 - val_loss: 1.6313 - val_accuracy: 0.0404\n",
      "Epoch 5/10\n",
      "953330/953330 [==============================] - 1s 1us/step - loss: 1.6297 - accuracy: 0.0404 - val_loss: 1.6295 - val_accuracy: 0.0418\n",
      "Epoch 6/10\n",
      "953330/953330 [==============================] - 1s 1us/step - loss: 1.6188 - accuracy: 0.0400 - val_loss: 1.6094 - val_accuracy: 0.0385\n",
      "Epoch 7/10\n",
      "953330/953330 [==============================] - 2s 2us/step - loss: 1.6094 - accuracy: 0.0382 - val_loss: 1.6094 - val_accuracy: 0.0386\n",
      "Epoch 8/10\n",
      "953330/953330 [==============================] - 1s 1us/step - loss: 1.6092 - accuracy: 0.0385 - val_loss: 1.6088 - val_accuracy: 0.0391\n",
      "Epoch 9/10\n",
      "953330/953330 [==============================] - 1s 1us/step - loss: 1.6088 - accuracy: 0.0388 - val_loss: 1.6087 - val_accuracy: 0.0393\n",
      "Epoch 10/10\n",
      "953330/953330 [==============================] - 1s 1us/step - loss: 1.6086 - accuracy: 0.0390 - val_loss: 1.6085 - val_accuracy: 0.0396\n",
      "Train on 953330 samples, validate on 105926 samples\n",
      "Epoch 1/10\n",
      "953330/953330 [==============================] - 2s 2us/step - loss: 3.0308 - accuracy: 0.0370 - val_loss: 2.7812 - val_accuracy: 0.0372\n",
      "Epoch 2/10\n",
      "953330/953330 [==============================] - 1s 1us/step - loss: 2.6591 - accuracy: 0.0370 - val_loss: 2.6123 - val_accuracy: 0.0372\n",
      "Epoch 3/10\n",
      "953330/953330 [==============================] - 1s 1us/step - loss: 2.6277 - accuracy: 0.0370 - val_loss: 2.6123 - val_accuracy: 0.0372\n",
      "Epoch 4/10\n",
      "550000/953330 [================>.............] - ETA: 0s - loss: 2.6240 - accuracy: 0.0369"
     ]
    }
   ],
   "source": [
    "n_split = 10\n",
    "for train_index, test_index in KFold(n_split).split(X_train):\n",
    "    x_train,x_test = X_train[train_index], X_train[test_index]\n",
    "    y_train,y_test = Y_train[train_index], Y_train[test_index]\n",
    "    \n",
    "    model = baseline_model()\n",
    "    history = model.fit(x=x_train, y=y_train,  batch_size=10000, epochs=10,verbose=1, validation_data=(x_test, y_test))"
   ]
  },
  {
   "cell_type": "code",
   "execution_count": null,
   "metadata": {},
   "outputs": [],
   "source": [
    "from sklearn.metrics import mean_squared_error\n",
    "\n",
    "prediction_test = np.array([a[0] for a in model.predict(x=X_test)])\n",
    "\n",
    "print (mean_squared_error(Y_test, prediction_test))"
   ]
  }
 ],
 "metadata": {
  "kernelspec": {
   "display_name": "Python 3",
   "language": "python",
   "name": "python3"
  },
  "language_info": {
   "codemirror_mode": {
    "name": "ipython",
    "version": 3
   },
   "file_extension": ".py",
   "mimetype": "text/x-python",
   "name": "python",
   "nbconvert_exporter": "python",
   "pygments_lexer": "ipython3",
   "version": "3.7.3"
  }
 },
 "nbformat": 4,
 "nbformat_minor": 2
}
